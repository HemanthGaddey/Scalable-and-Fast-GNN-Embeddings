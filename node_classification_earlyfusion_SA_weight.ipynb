{
 "cells": [
  {
   "cell_type": "code",
   "execution_count": 6,
   "metadata": {},
   "outputs": [],
   "source": [
    "import torch\n",
    "import torch.nn.functional as F\n",
    "from torch_geometric.datasets import Flickr, Coauthor, CoraFull, Planetoid\n",
    "from torch_geometric.nn import GCNConv\n",
    "from torch_geometric.loader import NeighborLoader\n",
    "from tqdm import tqdm\n",
    "import matplotlib.pyplot as plt\n",
    "import numpy as np\n",
    "import pandas as pd\n",
    "import os\n",
    "from tqdm import tqdm\n",
    "import networkx as nx\n",
    "from sklearn.linear_model import LogisticRegression\n",
    "from sklearn.metrics import f1_score\n",
    "import copy"
   ]
  },
  {
   "cell_type": "code",
   "execution_count": 62,
   "metadata": {},
   "outputs": [
    {
     "name": "stdout",
     "output_type": "stream",
     "text": [
      "Data(x=[2708, 1433], edge_index=[2, 10556], y=[2708], train_mask=[2708], val_mask=[2708], test_mask=[2708])\n"
     ]
    },
    {
     "name": "stderr",
     "output_type": "stream",
     "text": [
      "/tmp/ipykernel_25828/1516843027.py:21: UserWarning: To copy construct from a tensor, it is recommended to use sourceTensor.clone().detach() or sourceTensor.clone().detach().requires_grad_(True), rather than torch.tensor(sourceTensor).\n",
      "  features = torch.tensor(data.x)\n"
     ]
    }
   ],
   "source": [
    "SEED=548\n",
    "np.random.seed(SEED)\n",
    "torch.manual_seed(SEED)\n",
    "torch.cuda.manual_seed(SEED)\n",
    "torch.cuda.manual_seed_all(SEED)\n",
    "torch.backends.cudnn.deterministic = True\n",
    "torch.backends.cudnn.benchmark = False\n",
    "import sklearn\n",
    "sklearn.utils.check_random_state(SEED)\n",
    "#-----------------------------------------\n",
    "def edge_index_to_adj(edge_index, num_nodes):\n",
    "    values = torch.ones(edge_index.shape[1])\n",
    "    adj_matrix = torch.sparse_coo_tensor(edge_index, values, (num_nodes, num_nodes))\n",
    "    return adj_matrix.to_dense()\n",
    "\n",
    "dataset = Planetoid(root='data/Planetoid', name='Cora')\n",
    "data = dataset[0]  # The dataset contains a single graph\n",
    "print(data)\n",
    "adj_matrix = edge_index_to_adj(data.edge_index, len(data.x))\n",
    "\n",
    "features = torch.tensor(data.x)\n",
    "# finding feature similarity across all the nodes via dot product\n",
    "similarities = (features@features.T)\n",
    "\n",
    "# making the diagnol elements to zero as the max similarity is obtained with a same\n",
    "similarities = similarities * (torch.eye(len(similarities)) == 0).long()"
   ]
  },
  {
   "cell_type": "code",
   "execution_count": 63,
   "metadata": {},
   "outputs": [],
   "source": [
    "data.edge_weight = torch.ones((1, data.edge_index.shape[1]), dtype=torch.float32)"
   ]
  },
  {
   "cell_type": "code",
   "execution_count": 64,
   "metadata": {},
   "outputs": [
    {
     "name": "stdout",
     "output_type": "stream",
     "text": [
      "maximum cross similarity:25.0\n",
      "alpha:0.3\n",
      "1650\n",
      "Total new edges added: 1168\n",
      "previous_edges:10556\n",
      "new_edges:11724\n"
     ]
    }
   ],
   "source": [
    "maxi=similarities.max()\n",
    "# for i in range(similarities.shape[0]):\n",
    "#     for j in range(similarities.shape[1]):\n",
    "#         if similarities[i][j]>maxi:\n",
    "#             maxi=similarities[i][j]\n",
    "print(f\"maximum cross similarity:{maxi}\")\n",
    "\n",
    "# normalizing similarty to lie in range [0,1]\n",
    "similarities=torch.div(similarities, maxi)\n",
    "\n",
    "alpha = 0.3\n",
    "print(f\"alpha:{alpha}\")\n",
    "max_similarities = (similarities > alpha).long()\n",
    "\n",
    "new_edges = torch.nonzero(max_similarities, as_tuple=False).T\n",
    "print(len(new_edges[1]))\n",
    "existing_edges = set(map(tuple, data.edge_index.T.tolist()))\n",
    "\n",
    "# check if there is a common edges between the ones we found and existing ones\n",
    "filtered_new_edges = []\n",
    "for i, j in new_edges.T.tolist():\n",
    "    if (i, j) not in existing_edges and (j, i) not in existing_edges:  # Avoid duplicates\n",
    "        filtered_new_edges.append([i, j])\n",
    "\n",
    "# print(filtered_new_edges)\n",
    "\n",
    "prev_edges = copy.deepcopy(data.edge_index)\n",
    "prev_edge_weights = copy.deepcopy(data.edge_weight)\n",
    "if filtered_new_edges:\n",
    "    filtered_new_edges = torch.tensor(filtered_new_edges, dtype=torch.long).T  # Shape: [2, num_new_edges]\n",
    "\n",
    "    # Append new edges to data.edge_index\n",
    "\n",
    "    data.edge_index = torch.cat([data.edge_index, filtered_new_edges], dim=1)\n",
    "\n",
    "print(f\"Total new edges added: {filtered_new_edges.shape[1] if len(filtered_new_edges) > 0 else 0}\")\n",
    "data.edge_weight = torch.ones((1, data.edge_index.shape[1]), dtype=torch.float32)\n",
    "new_edges = data.edge_index\n",
    "new_edge_weights = data.edge_weight\n",
    "print(f\"previous_edges:{len(prev_edges[0])}\")\n",
    "print(f\"new_edges:{len(new_edges[0])}\")\n"
   ]
  },
  {
   "cell_type": "code",
   "execution_count": 65,
   "metadata": {},
   "outputs": [
    {
     "name": "stdout",
     "output_type": "stream",
     "text": [
      "torch.Size([3, 10556])\n",
      "torch.Size([3, 11724])\n"
     ]
    }
   ],
   "source": [
    "prev_edges_and_weights = torch.cat([prev_edges, prev_edge_weights], dim=0)\n",
    "print(prev_edges_and_weights.shape)\n",
    "new_edges_and_weights = torch.cat([new_edges, new_edge_weights], dim=0)\n",
    "print(new_edges_and_weights.shape)"
   ]
  },
  {
   "cell_type": "code",
   "execution_count": 7,
   "metadata": {},
   "outputs": [],
   "source": [
    "# save_edges = lambda args: pd.DataFrame(args[0].T).to_csv(args[1],index=None, header=None, sep=' ', mode='a')\n",
    "save_edges = lambda args: pd.DataFrame(args[0].T, columns=['col1', 'col2', 'col3']).astype(\n",
    "    {'col1': int, 'col2': int, 'col3': float}\n",
    ").to_csv(args[1], index=None, header=None, sep=' ', mode='a', float_format='%.1f')\n",
    "def get_embeddings(\n",
    "    edges, \n",
    "    edges_name=\"edgelist.txt\", \n",
    "    k=128,  # Embedding dimension\n",
    "    a=0.01,  # damping parameter\n",
    "    partition=1,\n",
    "    output=False\n",
    "):\n",
    "    '''\n",
    "    \"partition\": the partition algorithm to use, default is 1.\n",
    "    0: random bisection\n",
    "    1: Louvain partition\n",
    "    2: Louvain first-level partition\n",
    "    3: Label Propagation partition\n",
    "    '''\n",
    "    open(edges_name,'w').close()\n",
    "    save_edges((edges, edges_name))\n",
    "\n",
    "    if not os.path.exists('./hierarchy.txt'):\n",
    "        os.mknod('./hierarchy.txt')\n",
    "    else:\n",
    "        open('hierarchy.txt','w').close()\n",
    "    if not os.path.exists('./vectors.txt'):\n",
    "        os.mknod('./vectors.txt')\n",
    "    else:\n",
    "        open('vectors.txt','w').close()\n",
    "    \n",
    "    # do hierarchical clustering using Louvain algorithm\n",
    "    endstr = '> /dev/null 2>&1'\n",
    "    if(output):\n",
    "        endstr = ''\n",
    "    os.system(f'./LouvainNE/recpart ./{edges_name} ./hierarchy.txt {partition} {endstr}')\n",
    "    \n",
    "    # obtain node embedding of each node at every hierarchy\n",
    "    os.system(f'./LouvainNE/hi2vec {k} {a} ./hierarchy.txt ./vectors.txt {endstr}')\n",
    "    \n",
    "    # Path to your output node embeddings text file\n",
    "    file_path = 'vectors.txt'\n",
    "\n",
    "    data_ = np.loadtxt(file_path)\n",
    "    data_tensor = torch.from_numpy(data_)\n",
    "    # The first column contains node IDs\n",
    "    node_ids = data_tensor[:, 0].to(torch.int)\n",
    "    # The remaining columns contain embeddings\n",
    "    embeddings = data_tensor[:, 1:]\n",
    "    return node_ids, embeddings"
   ]
  },
  {
   "cell_type": "code",
   "execution_count": 8,
   "metadata": {},
   "outputs": [],
   "source": [
    "def evaluate_node_classification(aa_node_ids, aa_embeddings, data):\n",
    "    \"\"\"\n",
    "    Evaluates multi-class node classification using Logistic Regression.\n",
    "\n",
    "    Args:\n",
    "        aa_node_ids: List of node IDs.\n",
    "        aa_embeddings: Corresponding node embeddings.\n",
    "        data: PyTorch Geometric data object containing labels and masks.\n",
    "\n",
    "    Returns:\n",
    "        Micro-F1 and Macro-F1 scores.\n",
    "    \"\"\"\n",
    "\n",
    "    # Map node IDs to indices in embeddings\n",
    "    node_to_idx = {node_id.item(): idx for idx, node_id in enumerate(aa_node_ids)}\n",
    "\n",
    "    # Reorder embeddings to match the label ordering\n",
    "    ordered_embeddings = np.zeros((len(data.y), aa_embeddings.shape[1]))\n",
    "    for i in range(len(data.y)):\n",
    "        ordered_embeddings[i] = aa_embeddings[node_to_idx[i]]\n",
    "\n",
    "    # Convert masks to NumPy arrays\n",
    "    train_mask = data.train_mask.numpy()\n",
    "    test_mask = data.test_mask.numpy()\n",
    "\n",
    "    # Prepare train and test data\n",
    "    X_train, X_test = ordered_embeddings[train_mask], ordered_embeddings[test_mask]\n",
    "    y_train, y_test = data.y[train_mask].numpy(), data.y[test_mask].numpy()\n",
    "\n",
    "    # Train Logistic Regression classifier\n",
    "    clf = LogisticRegression(max_iter=1000, solver='lbfgs')\n",
    "    clf.fit(X_train, y_train)\n",
    "\n",
    "    # Predict on the test set\n",
    "    y_pred = clf.predict(X_test)\n",
    "\n",
    "    # Compute Micro-F1 and Macro-F1 scores\n",
    "    micro_f1 = f1_score(y_test, y_pred, average='micro')\n",
    "    macro_f1 = f1_score(y_test, y_pred, average='macro')\n",
    "\n",
    "    return {\n",
    "        'micro_f1': micro_f1,\n",
    "        'macro_f1': macro_f1\n",
    "    }\n"
   ]
  },
  {
   "cell_type": "code",
   "execution_count": 69,
   "metadata": {},
   "outputs": [
    {
     "name": "stdout",
     "output_type": "stream",
     "text": [
      "Only Initial Edges:\n"
     ]
    },
    {
     "name": "stderr",
     "output_type": "stream",
     "text": [
      "100%|██████████| 16/16 [00:03<00:00,  4.99it/s]\n"
     ]
    },
    {
     "name": "stdout",
     "output_type": "stream",
     "text": [
      "Micro-F1: 0.6896 ± 0.0103\n",
      "Macro-F1: 0.6836 ± 0.0095\n",
      "Combined Edges:\n"
     ]
    },
    {
     "name": "stderr",
     "output_type": "stream",
     "text": [
      "100%|██████████| 16/16 [00:03<00:00,  5.33it/s]"
     ]
    },
    {
     "name": "stdout",
     "output_type": "stream",
     "text": [
      "Micro-F1: 0.7389 ± 0.0050\n",
      "Macro-F1: 0.7392 ± 0.0032\n"
     ]
    },
    {
     "name": "stderr",
     "output_type": "stream",
     "text": [
      "\n"
     ]
    }
   ],
   "source": [
    "print('Only Initial Edges:')\n",
    "\n",
    "\n",
    "a = []\n",
    "b = []\n",
    "for i in tqdm(range(16)):\n",
    "    aa_node_ids, aa_embeddings = get_embeddings(prev_edges_and_weights, \"prev_edgelist.txt\", k=256, partition=1)\n",
    "    # print(aa_node_ids.shape)\n",
    "    # print(aa_embeddings.shape)\n",
    "    result = evaluate_node_classification(aa_node_ids, aa_embeddings, data)\n",
    "    a.append(result['micro_f1'])\n",
    "    b.append(result['macro_f1'])\n",
    "\n",
    "print(f\"Micro-F1: {np.mean(a):.4f} ± {np.std(a):.4f}\")\n",
    "print(f\"Macro-F1: {np.mean(b):.4f} ± {np.std(b):.4f}\")\n",
    "\n",
    "print('Combined Edges:')\n",
    "a = []\n",
    "b = []\n",
    "for i in tqdm(range(16)):\n",
    "    aa_node_ids, aa_embeddings = get_embeddings(new_edges_and_weights, \"new_edgelist.txt\", k=256, partition=1)\n",
    "    result = evaluate_node_classification(aa_node_ids, aa_embeddings, data)\n",
    "    a.append(result['micro_f1'])\n",
    "    b.append(result['macro_f1'])\n",
    "\n",
    "print(f\"Micro-F1: {np.mean(a):.4f} ± {np.std(a):.4f}\")\n",
    "print(f\"Macro-F1: {np.mean(b):.4f} ± {np.std(b):.4f}\")"
   ]
  },
  {
   "cell_type": "markdown",
   "metadata": {},
   "source": [
    "after making changes to recpart.c, run this command\n",
    "\n",
    "gcc -o recpart recpart.c partition.c -lm -O2"
   ]
  },
  {
   "cell_type": "code",
   "execution_count": 11,
   "metadata": {},
   "outputs": [],
   "source": [
    "def edge_index_to_adj(edge_index, num_nodes):\n",
    "    values = torch.ones(edge_index.shape[1])\n",
    "    adj_matrix = torch.sparse_coo_tensor(edge_index, values, (num_nodes, num_nodes))\n",
    "    return adj_matrix.to_dense()\n",
    "\n",
    "def evalator(alpha):\n",
    "    \n",
    "    dataset = Planetoid(root='data/Planetoid', name='Cora')\n",
    "    data = dataset[0]  # The dataset contains a single graph\n",
    "    print(data)\n",
    "    data.edge_weight = torch.ones((1, data.edge_index.shape[1]), dtype=torch.float32)\n",
    "    adj_matrix = edge_index_to_adj(data.edge_index, len(data.x))\n",
    "\n",
    "    features = torch.tensor(data.x)\n",
    "    # finding feature similarity across all the nodes via dot product\n",
    "    similarities = (features@features.T)\n",
    "\n",
    "# making the diagnol elements to zero as the max similarity is obtained with a same\n",
    "    similarities = similarities * (torch.eye(len(similarities)) == 0).long()\n",
    "    \n",
    "    maxi=similarities.max()\n",
    "\n",
    "# normalizing similarty to lie in range [0,1]\n",
    "    similarities=torch.div(similarities, maxi)\n",
    "    \n",
    "    max_similarities = (similarities > alpha).long()\n",
    "    \n",
    "    new_edges = torch.nonzero(max_similarities, as_tuple=False).T\n",
    "\n",
    "    existing_edges = set(map(tuple, data.edge_index.T.tolist()))\n",
    "\n",
    "    # check if there is a common edges between the ones we found and existing ones\n",
    "    filtered_new_edges = []\n",
    "    for i, j in new_edges.T.tolist():\n",
    "        if (i, j) not in existing_edges and (j, i) not in existing_edges:  # Avoid duplicates\n",
    "            filtered_new_edges.append([i, j])\n",
    "\n",
    "    # print(filtered_new_edges)\n",
    "\n",
    "    prev_edges = copy.deepcopy(data.edge_index)\n",
    "    prev_edge_weights = copy.deepcopy(data.edge_weight)\n",
    "    if filtered_new_edges:\n",
    "        filtered_new_edges = torch.tensor(filtered_new_edges, dtype=torch.long).T  # Shape: [2, num_new_edges]\n",
    "\n",
    "        # Append new edges to data.edge_index\n",
    "\n",
    "        data.edge_index = torch.cat([data.edge_index, filtered_new_edges], dim=1)\n",
    "\n",
    "    # print(f\"Total new edges added: {filtered_new_edges.shape[1] if len(filtered_new_edges) > 0 else 0}\")\n",
    "    data.edge_weight = torch.ones((1, data.edge_index.shape[1]), dtype=torch.float32)\n",
    "    new_edges = data.edge_index\n",
    "    new_edge_weights = data.edge_weight\n",
    "\n",
    "    prev_edges_and_weights = torch.cat([prev_edges, prev_edge_weights], dim=0)\n",
    "\n",
    "    new_edges_and_weights = torch.cat([new_edges, new_edge_weights], dim=0)\n",
    "\n",
    "    a1 = []\n",
    "    b1 = []\n",
    "    for i in tqdm(range(16)):\n",
    "        aa_node_ids, aa_embeddings = get_embeddings(prev_edges_and_weights, \"prev_edgelist.txt\", k=256, partition=1)\n",
    "        result = evaluate_node_classification(aa_node_ids, aa_embeddings, data)\n",
    "        a1.append(result['micro_f1'])\n",
    "        b1.append(result['macro_f1'])\n",
    "\n",
    "    print(f\"Micro-F1: {np.mean(a1):.4f} ± {np.std(a1):.4f}\")\n",
    "    print(f\"Macro-F1: {np.mean(b1):.4f} ± {np.std(b1):.4f}\")\n",
    "\n",
    "    print('Combined Edges:')\n",
    "    a2 = []\n",
    "    b2 = []\n",
    "    for i in tqdm(range(16)):\n",
    "        aa_node_ids, aa_embeddings = get_embeddings(new_edges_and_weights, \"new_edgelist.txt\", k=256, partition=1)\n",
    "        result = evaluate_node_classification(aa_node_ids, aa_embeddings, data)\n",
    "        a2.append(result['micro_f1'])\n",
    "        b2.append(result['macro_f1'])\n",
    "\n",
    "    print(f\"Micro-F1: {np.mean(a2):.4f} ± {np.std(a2):.4f}\")\n",
    "    print(f\"Macro-F1: {np.mean(b2):.4f} ± {np.std(b2):.4f}\")\n",
    "    \n",
    "    return alpha,filtered_new_edges.shape[1],np.mean(a2),np.mean(b2),np.mean(a1),np.mean(b1)"
   ]
  },
  {
   "cell_type": "code",
   "execution_count": 14,
   "metadata": {},
   "outputs": [
    {
     "name": "stdout",
     "output_type": "stream",
     "text": [
      "---------------------------------------------\n",
      "alpha: 0.0\n",
      "Data(x=[2708, 1433], edge_index=[2, 10556], y=[2708], train_mask=[2708], val_mask=[2708], test_mask=[2708])\n"
     ]
    },
    {
     "name": "stderr",
     "output_type": "stream",
     "text": [
      "/tmp/ipykernel_230440/23095297.py:14: UserWarning: To copy construct from a tensor, it is recommended to use sourceTensor.clone().detach() or sourceTensor.clone().detach().requires_grad_(True), rather than torch.tensor(sourceTensor).\n",
      "  features = torch.tensor(data.x)\n",
      "100%|██████████| 16/16 [00:03<00:00,  5.21it/s]\n"
     ]
    },
    {
     "name": "stdout",
     "output_type": "stream",
     "text": [
      "Micro-F1: 0.6807 ± 0.0094\n",
      "Macro-F1: 0.6769 ± 0.0085\n",
      "Combined Edges:\n"
     ]
    },
    {
     "name": "stderr",
     "output_type": "stream",
     "text": [
      "100%|██████████| 16/16 [01:18<00:00,  4.94s/it]\n",
      "/tmp/ipykernel_230440/23095297.py:14: UserWarning: To copy construct from a tensor, it is recommended to use sourceTensor.clone().detach() or sourceTensor.clone().detach().requires_grad_(True), rather than torch.tensor(sourceTensor).\n",
      "  features = torch.tensor(data.x)\n"
     ]
    },
    {
     "name": "stdout",
     "output_type": "stream",
     "text": [
      "Micro-F1: 0.3260 ± 0.0000\n",
      "Macro-F1: 0.2301 ± 0.0000\n",
      "---------------------------------------------\n",
      "alpha: 0.1\n",
      "Data(x=[2708, 1433], edge_index=[2, 10556], y=[2708], train_mask=[2708], val_mask=[2708], test_mask=[2708])\n"
     ]
    },
    {
     "name": "stderr",
     "output_type": "stream",
     "text": [
      "100%|██████████| 16/16 [00:03<00:00,  5.08it/s]\n"
     ]
    },
    {
     "name": "stdout",
     "output_type": "stream",
     "text": [
      "Micro-F1: 0.6834 ± 0.0060\n",
      "Macro-F1: 0.6802 ± 0.0047\n",
      "Combined Edges:\n"
     ]
    },
    {
     "name": "stderr",
     "output_type": "stream",
     "text": [
      "100%|██████████| 16/16 [00:18<00:00,  1.14s/it]\n",
      "/tmp/ipykernel_230440/23095297.py:14: UserWarning: To copy construct from a tensor, it is recommended to use sourceTensor.clone().detach() or sourceTensor.clone().detach().requires_grad_(True), rather than torch.tensor(sourceTensor).\n",
      "  features = torch.tensor(data.x)\n"
     ]
    },
    {
     "name": "stdout",
     "output_type": "stream",
     "text": [
      "Micro-F1: 0.4630 ± 0.0000\n",
      "Macro-F1: 0.3059 ± 0.0000\n",
      "---------------------------------------------\n",
      "alpha: 0.2\n",
      "Data(x=[2708, 1433], edge_index=[2, 10556], y=[2708], train_mask=[2708], val_mask=[2708], test_mask=[2708])\n"
     ]
    },
    {
     "name": "stderr",
     "output_type": "stream",
     "text": [
      "100%|██████████| 16/16 [00:03<00:00,  5.14it/s]\n"
     ]
    },
    {
     "name": "stdout",
     "output_type": "stream",
     "text": [
      "Micro-F1: 0.6804 ± 0.0090\n",
      "Macro-F1: 0.6780 ± 0.0082\n",
      "Combined Edges:\n"
     ]
    },
    {
     "name": "stderr",
     "output_type": "stream",
     "text": [
      "100%|██████████| 16/16 [00:03<00:00,  4.36it/s]\n",
      "/tmp/ipykernel_230440/23095297.py:14: UserWarning: To copy construct from a tensor, it is recommended to use sourceTensor.clone().detach() or sourceTensor.clone().detach().requires_grad_(True), rather than torch.tensor(sourceTensor).\n",
      "  features = torch.tensor(data.x)\n"
     ]
    },
    {
     "name": "stdout",
     "output_type": "stream",
     "text": [
      "Micro-F1: 0.6604 ± 0.0073\n",
      "Macro-F1: 0.6370 ± 0.0049\n",
      "---------------------------------------------\n",
      "alpha: 0.3\n",
      "Data(x=[2708, 1433], edge_index=[2, 10556], y=[2708], train_mask=[2708], val_mask=[2708], test_mask=[2708])\n"
     ]
    },
    {
     "name": "stderr",
     "output_type": "stream",
     "text": [
      "100%|██████████| 16/16 [00:03<00:00,  5.07it/s]\n"
     ]
    },
    {
     "name": "stdout",
     "output_type": "stream",
     "text": [
      "Micro-F1: 0.6891 ± 0.0107\n",
      "Macro-F1: 0.6817 ± 0.0091\n",
      "Combined Edges:\n"
     ]
    },
    {
     "name": "stderr",
     "output_type": "stream",
     "text": [
      "100%|██████████| 16/16 [00:03<00:00,  4.93it/s]\n",
      "/tmp/ipykernel_230440/23095297.py:14: UserWarning: To copy construct from a tensor, it is recommended to use sourceTensor.clone().detach() or sourceTensor.clone().detach().requires_grad_(True), rather than torch.tensor(sourceTensor).\n",
      "  features = torch.tensor(data.x)\n"
     ]
    },
    {
     "name": "stdout",
     "output_type": "stream",
     "text": [
      "Micro-F1: 0.7425 ± 0.0098\n",
      "Macro-F1: 0.7394 ± 0.0077\n",
      "---------------------------------------------\n",
      "alpha: 0.4\n",
      "Data(x=[2708, 1433], edge_index=[2, 10556], y=[2708], train_mask=[2708], val_mask=[2708], test_mask=[2708])\n"
     ]
    },
    {
     "name": "stderr",
     "output_type": "stream",
     "text": [
      "100%|██████████| 16/16 [00:03<00:00,  5.03it/s]\n"
     ]
    },
    {
     "name": "stdout",
     "output_type": "stream",
     "text": [
      "Micro-F1: 0.6808 ± 0.0063\n",
      "Macro-F1: 0.6787 ± 0.0046\n",
      "Combined Edges:\n"
     ]
    },
    {
     "name": "stderr",
     "output_type": "stream",
     "text": [
      "100%|██████████| 16/16 [00:03<00:00,  4.94it/s]\n",
      "/tmp/ipykernel_230440/23095297.py:14: UserWarning: To copy construct from a tensor, it is recommended to use sourceTensor.clone().detach() or sourceTensor.clone().detach().requires_grad_(True), rather than torch.tensor(sourceTensor).\n",
      "  features = torch.tensor(data.x)\n"
     ]
    },
    {
     "name": "stdout",
     "output_type": "stream",
     "text": [
      "Micro-F1: 0.6759 ± 0.0113\n",
      "Macro-F1: 0.6677 ± 0.0132\n",
      "---------------------------------------------\n",
      "alpha: 0.5\n",
      "Data(x=[2708, 1433], edge_index=[2, 10556], y=[2708], train_mask=[2708], val_mask=[2708], test_mask=[2708])\n"
     ]
    },
    {
     "name": "stderr",
     "output_type": "stream",
     "text": [
      "100%|██████████| 16/16 [00:03<00:00,  5.01it/s]\n"
     ]
    },
    {
     "name": "stdout",
     "output_type": "stream",
     "text": [
      "Micro-F1: 0.6817 ± 0.0029\n",
      "Macro-F1: 0.6796 ± 0.0019\n",
      "Combined Edges:\n"
     ]
    },
    {
     "name": "stderr",
     "output_type": "stream",
     "text": [
      "100%|██████████| 16/16 [00:03<00:00,  4.92it/s]\n",
      "/tmp/ipykernel_230440/23095297.py:14: UserWarning: To copy construct from a tensor, it is recommended to use sourceTensor.clone().detach() or sourceTensor.clone().detach().requires_grad_(True), rather than torch.tensor(sourceTensor).\n",
      "  features = torch.tensor(data.x)\n"
     ]
    },
    {
     "name": "stdout",
     "output_type": "stream",
     "text": [
      "Micro-F1: 0.6697 ± 0.0073\n",
      "Macro-F1: 0.6696 ± 0.0048\n",
      "---------------------------------------------\n",
      "alpha: 0.6\n",
      "Data(x=[2708, 1433], edge_index=[2, 10556], y=[2708], train_mask=[2708], val_mask=[2708], test_mask=[2708])\n"
     ]
    },
    {
     "name": "stderr",
     "output_type": "stream",
     "text": [
      "100%|██████████| 16/16 [00:03<00:00,  4.84it/s]\n"
     ]
    },
    {
     "name": "stdout",
     "output_type": "stream",
     "text": [
      "Micro-F1: 0.6840 ± 0.0058\n",
      "Macro-F1: 0.6784 ± 0.0049\n",
      "Combined Edges:\n"
     ]
    },
    {
     "name": "stderr",
     "output_type": "stream",
     "text": [
      "100%|██████████| 16/16 [00:03<00:00,  4.77it/s]\n",
      "/tmp/ipykernel_230440/23095297.py:14: UserWarning: To copy construct from a tensor, it is recommended to use sourceTensor.clone().detach() or sourceTensor.clone().detach().requires_grad_(True), rather than torch.tensor(sourceTensor).\n",
      "  features = torch.tensor(data.x)\n"
     ]
    },
    {
     "name": "stdout",
     "output_type": "stream",
     "text": [
      "Micro-F1: 0.6774 ± 0.0097\n",
      "Macro-F1: 0.6767 ± 0.0097\n",
      "---------------------------------------------\n",
      "alpha: 0.7\n",
      "Data(x=[2708, 1433], edge_index=[2, 10556], y=[2708], train_mask=[2708], val_mask=[2708], test_mask=[2708])\n"
     ]
    },
    {
     "name": "stderr",
     "output_type": "stream",
     "text": [
      "100%|██████████| 16/16 [00:03<00:00,  4.87it/s]\n"
     ]
    },
    {
     "name": "stdout",
     "output_type": "stream",
     "text": [
      "Micro-F1: 0.6834 ± 0.0033\n",
      "Macro-F1: 0.6801 ± 0.0033\n",
      "Combined Edges:\n"
     ]
    },
    {
     "name": "stderr",
     "output_type": "stream",
     "text": [
      "100%|██████████| 16/16 [00:03<00:00,  4.77it/s]\n",
      "/tmp/ipykernel_230440/23095297.py:14: UserWarning: To copy construct from a tensor, it is recommended to use sourceTensor.clone().detach() or sourceTensor.clone().detach().requires_grad_(True), rather than torch.tensor(sourceTensor).\n",
      "  features = torch.tensor(data.x)\n"
     ]
    },
    {
     "name": "stdout",
     "output_type": "stream",
     "text": [
      "Micro-F1: 0.6897 ± 0.0152\n",
      "Macro-F1: 0.6900 ± 0.0120\n",
      "---------------------------------------------\n",
      "alpha: 0.8\n",
      "Data(x=[2708, 1433], edge_index=[2, 10556], y=[2708], train_mask=[2708], val_mask=[2708], test_mask=[2708])\n"
     ]
    },
    {
     "name": "stderr",
     "output_type": "stream",
     "text": [
      "100%|██████████| 16/16 [00:03<00:00,  4.71it/s]\n"
     ]
    },
    {
     "name": "stdout",
     "output_type": "stream",
     "text": [
      "Micro-F1: 0.6780 ± 0.0049\n",
      "Macro-F1: 0.6781 ± 0.0047\n",
      "Combined Edges:\n"
     ]
    },
    {
     "name": "stderr",
     "output_type": "stream",
     "text": [
      "100%|██████████| 16/16 [00:03<00:00,  4.63it/s]\n",
      "/tmp/ipykernel_230440/23095297.py:14: UserWarning: To copy construct from a tensor, it is recommended to use sourceTensor.clone().detach() or sourceTensor.clone().detach().requires_grad_(True), rather than torch.tensor(sourceTensor).\n",
      "  features = torch.tensor(data.x)\n"
     ]
    },
    {
     "name": "stdout",
     "output_type": "stream",
     "text": [
      "Micro-F1: 0.6854 ± 0.0078\n",
      "Macro-F1: 0.6787 ± 0.0066\n",
      "---------------------------------------------\n",
      "alpha: 0.9\n",
      "Data(x=[2708, 1433], edge_index=[2, 10556], y=[2708], train_mask=[2708], val_mask=[2708], test_mask=[2708])\n"
     ]
    },
    {
     "name": "stderr",
     "output_type": "stream",
     "text": [
      "100%|██████████| 16/16 [00:03<00:00,  4.92it/s]\n"
     ]
    },
    {
     "name": "stdout",
     "output_type": "stream",
     "text": [
      "Micro-F1: 0.6804 ± 0.0072\n",
      "Macro-F1: 0.6749 ± 0.0082\n",
      "Combined Edges:\n"
     ]
    },
    {
     "name": "stderr",
     "output_type": "stream",
     "text": [
      "100%|██████████| 16/16 [00:05<00:00,  3.19it/s]"
     ]
    },
    {
     "name": "stdout",
     "output_type": "stream",
     "text": [
      "Micro-F1: 0.6866 ± 0.0067\n",
      "Macro-F1: 0.6804 ± 0.0083\n"
     ]
    },
    {
     "name": "stderr",
     "output_type": "stream",
     "text": [
      "\n"
     ]
    }
   ],
   "source": [
    "x=[] #alpha\n",
    "y1=[] # edge count added\n",
    "y2=[] #micro new\n",
    "y3=[] #macro new\n",
    "y4=[]# micro\n",
    "y5=[] # macro\n",
    "for alpha in range(0,10):\n",
    "    print(\"---------------------------------------------\")\n",
    "    alpha=alpha/10\n",
    "    print(\"alpha:\",alpha)\n",
    "    xx,y1a,y2b,y3c,y4d,y5e=evalator(alpha)\n",
    "    x.append(xx)\n",
    "    y1.append(y1a)\n",
    "    y2.append(y2b) # new  micro\n",
    "    y3.append(y3c) # new  macro\n",
    "    y4.append(y4d) # old  micro\n",
    "    y5.append(y5e) # old  macro"
   ]
  },
  {
   "cell_type": "code",
   "execution_count": 15,
   "metadata": {},
   "outputs": [
    {
     "data": {
      "text/plain": [
       "[<matplotlib.lines.Line2D at 0x7f79cb7cada0>]"
      ]
     },
     "execution_count": 15,
     "metadata": {},
     "output_type": "execute_result"
    },
    {
     "data": {
      "image/png": "[encoded data removed]",
      "text/plain": [
       "<Figure size 640x480 with 1 Axes>"
      ]
     },
     "metadata": {},
     "output_type": "display_data"
    }
   ],
   "source": [
    "import matplotlib.pyplot as plt\n",
    "\n",
    "plt.plot(x,y3)\n"
   ]
  },
  {
   "cell_type": "code",
   "execution_count": 16,
   "metadata": {},
   "outputs": [
    {
     "data": {
      "image/png": "[encoded data removed]",
      "text/plain": [
       "<Figure size 2000x500 with 3 Axes>"
      ]
     },
     "metadata": {},
     "output_type": "display_data"
    }
   ],
   "source": [
    "plt.figure(figsize=(20,5))\n",
    "\n",
    "plt.subplot(1,3,1)\n",
    "plt.plot(x,y1)\n",
    "plt.xlabel('alpha')\n",
    "plt.ylabel('new edges added')\n",
    "\n",
    "\n",
    "plt.subplot(1,3,2)\n",
    "plt.plot(x,y2,label=\"after fusion\",marker=\"o\",color=\"orange\")\n",
    "plt.plot(x,y4,label='before fusion',marker='o',color='blue')\n",
    "\n",
    "plt.xlabel('alpha')\n",
    "plt.ylabel('micro F1')\n",
    "plt.title('micro F1 across alpha')\n",
    "plt.legend()\n",
    "\n",
    "\n",
    "plt.subplot(1,3,3)\n",
    "plt.plot(x,y3,label=\"after fusion\",marker=\"o\",color=\"orange\")\n",
    "plt.plot(x,y5,label='before fusion',marker='o',color='blue')\n",
    "\n",
    "plt.xlabel('alpha')\n",
    "plt.ylabel('macro F1')\n",
    "plt.title('macro F1 across alpha')\n",
    "plt.legend()\n",
    "\n",
    "plt.show()\n",
    "\n"
   ]
  },
  {
   "cell_type": "markdown",
   "metadata": {},
   "source": [
    "# Method:2\n",
    "- give weight 1 to all the existing edges\n",
    "- find the new edges with similarity above some threshold\n",
    "- scale the new edges similarity between 0 to 1\n",
    "- include the new edges to the structural graph with edge weights acc to the scaled similarities\n",
    "- the edges present in both exiting edges andnew edges will have weight more than 1"
   ]
  },
  {
   "cell_type": "code",
   "execution_count": 74,
   "metadata": {},
   "outputs": [],
   "source": [
    "import torch\n",
    "import torch.nn.functional as F\n",
    "from torch_geometric.datasets import Flickr, Coauthor, CoraFull, Planetoid\n",
    "from torch_geometric.nn import GCNConv\n",
    "from torch_geometric.loader import NeighborLoader\n",
    "from tqdm import tqdm\n",
    "import matplotlib.pyplot as plt\n",
    "import numpy as np\n",
    "import pandas as pd\n",
    "import os\n",
    "from tqdm import tqdm\n",
    "import networkx as nx\n",
    "from sklearn.linear_model import LogisticRegression\n",
    "from sklearn.metrics import f1_score\n",
    "import copy"
   ]
  },
  {
   "cell_type": "code",
   "execution_count": 75,
   "metadata": {},
   "outputs": [
    {
     "name": "stdout",
     "output_type": "stream",
     "text": [
      "Data(x=[2708, 1433], edge_index=[2, 10556], y=[2708], train_mask=[2708], val_mask=[2708], test_mask=[2708])\n"
     ]
    },
    {
     "name": "stderr",
     "output_type": "stream",
     "text": [
      "/tmp/ipykernel_25828/1516843027.py:21: UserWarning: To copy construct from a tensor, it is recommended to use sourceTensor.clone().detach() or sourceTensor.clone().detach().requires_grad_(True), rather than torch.tensor(sourceTensor).\n",
      "  features = torch.tensor(data.x)\n"
     ]
    }
   ],
   "source": [
    "SEED=548\n",
    "np.random.seed(SEED)\n",
    "torch.manual_seed(SEED)\n",
    "torch.cuda.manual_seed(SEED)\n",
    "torch.cuda.manual_seed_all(SEED)\n",
    "torch.backends.cudnn.deterministic = True\n",
    "torch.backends.cudnn.benchmark = False\n",
    "import sklearn\n",
    "sklearn.utils.check_random_state(SEED)\n",
    "#-----------------------------------------\n",
    "def edge_index_to_adj(edge_index, num_nodes):\n",
    "    values = torch.ones(edge_index.shape[1])\n",
    "    adj_matrix = torch.sparse_coo_tensor(edge_index, values, (num_nodes, num_nodes))\n",
    "    return adj_matrix.to_dense()\n",
    "\n",
    "dataset = Planetoid(root='data/Planetoid', name='Cora')\n",
    "data = dataset[0]  # The dataset contains a single graph\n",
    "print(data)\n",
    "adj_matrix = edge_index_to_adj(data.edge_index, len(data.x))\n",
    "\n",
    "features = torch.tensor(data.x)\n",
    "# finding feature similarity across all the nodes via dot product\n",
    "similarities = (features@features.T)\n",
    "\n",
    "# making the diagnol elements to zero as the max similarity is obtained with a same\n",
    "similarities = similarities * (torch.eye(len(similarities)) == 0).long()"
   ]
  },
  {
   "cell_type": "code",
   "execution_count": 76,
   "metadata": {},
   "outputs": [],
   "source": [
    "data.edge_weight = torch.ones((1, data.edge_index.shape[1]), dtype=torch.float32)"
   ]
  },
  {
   "cell_type": "code",
   "execution_count": 77,
   "metadata": {},
   "outputs": [
    {
     "name": "stdout",
     "output_type": "stream",
     "text": [
      "maximum cross similarity:25.0\n",
      "alpha:0.2\n",
      "Total new edges added: 16050\n",
      "previous_edges:10556\n",
      "new_edges:26606\n"
     ]
    }
   ],
   "source": [
    "maxi = similarities.max()\n",
    "print(f\"maximum cross similarity:{maxi}\")\n",
    "\n",
    "# normalizing similarity to lie in range [0,1]\n",
    "similarities = torch.div(similarities, maxi)\n",
    "\n",
    "alpha = 0.2\n",
    "print(f\"alpha:{alpha}\")\n",
    "\n",
    "max_similarities = (similarities > alpha).long()\n",
    "\n",
    "prev_edges = data.edge_index\n",
    "prev_edge_weightsss = copy.deepcopy(data.edge_weight)\n",
    "prev_edge_weights = copy.deepcopy(data.edge_weight)  # Create a copy to preserve original weights\n",
    "\n",
    "new_edges = torch.nonzero(max_similarities, as_tuple=False).T\n",
    "\n",
    "new_edges_similarities = []\n",
    "for i in range(new_edges.shape[1]):\n",
    "    new_edges_similarities.append(similarities[new_edges[0][i]][new_edges[1][i]].numpy().item())\n",
    "max_sim = max(new_edges_similarities)\n",
    "scaled_new_similarities = [i/max_sim for i in new_edges_similarities]\n",
    "# print(scaled_new_similarities)\n",
    "existing_edges = set(map(tuple, data.edge_index.T.tolist()))\n",
    "\n",
    "common_edges = []\n",
    "common_idxs = []\n",
    "filtered_new_edges = []\n",
    "filtered_edges_sim = []\n",
    "\n",
    "# Store mapping of common edges to their similarity values\n",
    "common_edge_to_sim = {}\n",
    "\n",
    "for idx, edge in enumerate(new_edges.T.tolist()):\n",
    "    edge_tuple = (edge[0], edge[1])\n",
    "    if (edge[0], edge[1]) not in existing_edges and (edge[1], edge[0]) not in existing_edges:\n",
    "        filtered_new_edges.append([edge[0], edge[1]])\n",
    "        filtered_edges_sim.append(scaled_new_similarities[idx])\n",
    "    else:\n",
    "        common_edges.append([edge[0], edge[1]])\n",
    "        common_idxs.append(idx)\n",
    "        common_edge_to_sim[edge_tuple] = scaled_new_similarities[idx]\n",
    "f=False\n",
    "comm=[]\n",
    "# Update weights of common edges in prev_edge_weights\n",
    "if common_edges:\n",
    "    # Convert prev_edges to list of tuples for easier lookup\n",
    "    prev_edges_list = prev_edges.T.tolist()\n",
    "    for i, edge in enumerate(prev_edges_list):\n",
    "        edge_tuple = tuple(edge)\n",
    "        if edge_tuple in common_edge_to_sim:\n",
    "            f=True\n",
    "            # Update the weight (you can adjust how you want to increase it)\n",
    "            prev_edge_weights[0, i] = prev_edge_weightsss[0, i] + torch.tensor(common_edge_to_sim[edge_tuple], dtype=torch.float32)\n",
    "            # print(edge_tuple)\n",
    "            # print(prev_edge_weightsss[0, i], torch.tensor(common_edge_to_sim[edge_tuple], dtype=torch.float32))\n",
    "# print(comm)\n",
    "if filtered_new_edges:\n",
    "    filtered_new_edges = torch.tensor(filtered_new_edges, dtype=torch.long).T\n",
    "    new_edges_simil = torch.tensor(filtered_edges_sim, dtype=torch.float32).reshape(1, -1)\n",
    "    \n",
    "    # Append new edges to data.edge_index\n",
    "    data.edge_index = torch.cat([data.edge_index, filtered_new_edges], dim=1)\n",
    "    data.edge_weight = torch.cat([prev_edge_weights, new_edges_simil], dim=1)\n",
    "\n",
    "print(f\"Total new edges added: {filtered_new_edges.shape[1] if len(filtered_new_edges) > 0 else 0}\")\n",
    "new_edges = data.edge_index\n",
    "new_edge_weights = data.edge_weight\n",
    "print(f\"previous_edges:{len(prev_edges[0])}\")\n",
    "print(f\"new_edges:{len(new_edges[0])}\")"
   ]
  },
  {
   "cell_type": "code",
   "execution_count": 78,
   "metadata": {},
   "outputs": [
    {
     "name": "stdout",
     "output_type": "stream",
     "text": [
      "torch.Size([3, 10556])\n",
      "torch.Size([3, 26606])\n"
     ]
    }
   ],
   "source": [
    "prev_edges_and_weights = torch.cat([prev_edges, prev_edge_weightsss], dim=0)\n",
    "print(prev_edges_and_weights.shape)\n",
    "new_edges_and_weights = torch.cat([new_edges, new_edge_weights], dim=0)\n",
    "print(new_edges_and_weights.shape)"
   ]
  },
  {
   "cell_type": "code",
   "execution_count": 79,
   "metadata": {},
   "outputs": [],
   "source": [
    "# save_edges = lambda args: pd.DataFrame(args[0].T).to_csv(args[1],index=None, header=None, sep=' ', mode='a')\n",
    "save_edges = lambda args: pd.DataFrame(args[0].T, columns=['col1', 'col2', 'col3']).astype(\n",
    "    {'col1': int, 'col2': int, 'col3': float}\n",
    ").to_csv(args[1], index=None, header=None, sep=' ', mode='a', float_format='%.1f')\n",
    "def get_embeddings(\n",
    "    edges, \n",
    "    edges_name=\"edgelist.txt\", \n",
    "    k=128,  # Embedding dimension\n",
    "    a=0.01,  # damping parameter\n",
    "    partition=1,\n",
    "    output=False\n",
    "):\n",
    "    '''\n",
    "    \"partition\": the partition algorithm to use, default is 1.\n",
    "    0: random bisection\n",
    "    1: Louvain partition\n",
    "    2: Louvain first-level partition\n",
    "    3: Label Propagation partition\n",
    "    '''\n",
    "    open(edges_name,'w').close()\n",
    "    save_edges((edges, edges_name))\n",
    "\n",
    "    if not os.path.exists('./hierarchy.txt'):\n",
    "        os.mknod('./hierarchy.txt')\n",
    "    else:\n",
    "        open('hierarchy.txt','w').close()\n",
    "    if not os.path.exists('./vectors.txt'):\n",
    "        os.mknod('./vectors.txt')\n",
    "    else:\n",
    "        open('vectors.txt','w').close()\n",
    "    \n",
    "    # do hierarchical clustering using Louvain algorithm\n",
    "    endstr = '> /dev/null 2>&1'\n",
    "    if(output):\n",
    "        endstr = ''\n",
    "    os.system(f'./LouvainNE/recpart ./{edges_name} ./hierarchy.txt {partition} {endstr}')\n",
    "    \n",
    "    # obtain node embedding of each node at every hierarchy\n",
    "    os.system(f'./LouvainNE/hi2vec {k} {a} ./hierarchy.txt ./vectors.txt {endstr}')\n",
    "    \n",
    "    # Path to your output node embeddings text file\n",
    "    file_path = 'vectors.txt'\n",
    "\n",
    "    data_ = np.loadtxt(file_path)\n",
    "    data_tensor = torch.from_numpy(data_)\n",
    "    # The first column contains node IDs\n",
    "    node_ids = data_tensor[:, 0].to(torch.int)\n",
    "    # The remaining columns contain embeddings\n",
    "    embeddings = data_tensor[:, 1:]\n",
    "    return node_ids, embeddings"
   ]
  },
  {
   "cell_type": "code",
   "execution_count": 80,
   "metadata": {},
   "outputs": [],
   "source": [
    "def evaluate_node_classification(aa_node_ids, aa_embeddings, data):\n",
    "    \"\"\"\n",
    "    Evaluates multi-class node classification using Logistic Regression.\n",
    "\n",
    "    Args:\n",
    "        aa_node_ids: List of node IDs.\n",
    "        aa_embeddings: Corresponding node embeddings.\n",
    "        data: PyTorch Geometric data object containing labels and masks.\n",
    "\n",
    "    Returns:\n",
    "        Micro-F1 and Macro-F1 scores.\n",
    "    \"\"\"\n",
    "\n",
    "    # Map node IDs to indices in embeddings\n",
    "    node_to_idx = {node_id.item(): idx for idx, node_id in enumerate(aa_node_ids)}\n",
    "\n",
    "    # Reorder embeddings to match the label ordering\n",
    "    ordered_embeddings = np.zeros((len(data.y), aa_embeddings.shape[1]))\n",
    "    for i in range(len(data.y)):\n",
    "        ordered_embeddings[i] = aa_embeddings[node_to_idx[i]]\n",
    "\n",
    "    # Convert masks to NumPy arrays\n",
    "    train_mask = data.train_mask.numpy()\n",
    "    test_mask = data.test_mask.numpy()\n",
    "\n",
    "    # Prepare train and test data\n",
    "    X_train, X_test = ordered_embeddings[train_mask], ordered_embeddings[test_mask]\n",
    "    y_train, y_test = data.y[train_mask].numpy(), data.y[test_mask].numpy()\n",
    "\n",
    "    # Train Logistic Regression classifier\n",
    "    clf = LogisticRegression(max_iter=1000, solver='lbfgs')\n",
    "    clf.fit(X_train, y_train)\n",
    "\n",
    "    # Predict on the test set\n",
    "    y_pred = clf.predict(X_test)\n",
    "\n",
    "    # Compute Micro-F1 and Macro-F1 scores\n",
    "    micro_f1 = f1_score(y_test, y_pred, average='micro')\n",
    "    macro_f1 = f1_score(y_test, y_pred, average='macro')\n",
    "\n",
    "    return {\n",
    "        'micro_f1': micro_f1,\n",
    "        'macro_f1': macro_f1\n",
    "    }\n"
   ]
  },
  {
   "cell_type": "code",
   "execution_count": 81,
   "metadata": {},
   "outputs": [
    {
     "name": "stdout",
     "output_type": "stream",
     "text": [
      "Only Initial Edges:\n"
     ]
    },
    {
     "name": "stderr",
     "output_type": "stream",
     "text": [
      "100%|██████████| 16/16 [00:02<00:00,  5.35it/s]\n"
     ]
    },
    {
     "name": "stdout",
     "output_type": "stream",
     "text": [
      "Micro-F1: 0.6816 ± 0.0080\n",
      "Macro-F1: 0.6764 ± 0.0062\n",
      "Combined Edges:\n"
     ]
    },
    {
     "name": "stderr",
     "output_type": "stream",
     "text": [
      "100%|██████████| 16/16 [00:03<00:00,  4.81it/s]"
     ]
    },
    {
     "name": "stdout",
     "output_type": "stream",
     "text": [
      "Micro-F1: 0.7245 ± 0.0058\n",
      "Macro-F1: 0.7262 ± 0.0037\n"
     ]
    },
    {
     "name": "stderr",
     "output_type": "stream",
     "text": [
      "\n"
     ]
    }
   ],
   "source": [
    "print('Only Initial Edges:')\n",
    "\n",
    "\n",
    "a = []\n",
    "b = []\n",
    "for i in tqdm(range(16)):\n",
    "    aa_node_ids, aa_embeddings = get_embeddings(prev_edges_and_weights, \"prev_edgelist.txt\", k=256, partition=1)\n",
    "    # print(aa_node_ids.shape)\n",
    "    # print(aa_embeddings.shape)\n",
    "    result = evaluate_node_classification(aa_node_ids, aa_embeddings, data)\n",
    "    a.append(result['micro_f1'])\n",
    "    b.append(result['macro_f1'])\n",
    "\n",
    "print(f\"Micro-F1: {np.mean(a):.4f} ± {np.std(a):.4f}\")\n",
    "print(f\"Macro-F1: {np.mean(b):.4f} ± {np.std(b):.4f}\")\n",
    "\n",
    "print('Combined Edges:')\n",
    "a = []\n",
    "b = []\n",
    "for i in tqdm(range(16)):\n",
    "    aa_node_ids, aa_embeddings = get_embeddings(new_edges_and_weights, \"new_edgelist.txt\", k=256, partition=1)\n",
    "    result = evaluate_node_classification(aa_node_ids, aa_embeddings, data)\n",
    "    a.append(result['micro_f1'])\n",
    "    b.append(result['macro_f1'])\n",
    "\n",
    "print(f\"Micro-F1: {np.mean(a):.4f} ± {np.std(a):.4f}\")\n",
    "print(f\"Macro-F1: {np.mean(b):.4f} ± {np.std(b):.4f}\")"
   ]
  },
  {
   "cell_type": "code",
   "execution_count": 17,
   "metadata": {},
   "outputs": [],
   "source": [
    "def edge_index_to_adj(edge_index, num_nodes):\n",
    "    values = torch.ones(edge_index.shape[1])\n",
    "    adj_matrix = torch.sparse_coo_tensor(edge_index, values, (num_nodes, num_nodes))\n",
    "    return adj_matrix.to_dense()\n",
    "def evalator_m2(alpha):\n",
    "    \n",
    "    dataset = Planetoid(root='data/Planetoid', name='Cora')\n",
    "    data = dataset[0]  # The dataset contains a single graph\n",
    "    print(data)\n",
    "    data.edge_weight = torch.ones((1, data.edge_index.shape[1]), dtype=torch.float32)\n",
    "    adj_matrix = edge_index_to_adj(data.edge_index, len(data.x))\n",
    "\n",
    "    features = torch.tensor(data.x)\n",
    "    # finding feature similarity across all the nodes via dot product\n",
    "    similarities = (features@features.T)\n",
    "\n",
    "# making the diagnol elements to zero as the max similarity is obtained with a same\n",
    "    similarities = similarities * (torch.eye(len(similarities)) == 0).long()\n",
    "    \n",
    "    maxi = similarities.max()\n",
    "    print(f\"maximum cross similarity:{maxi}\")\n",
    "\n",
    "    # normalizing similarity to lie in range [0,1]\n",
    "    similarities = torch.div(similarities, maxi)\n",
    "\n",
    "    print(f\"alpha:{alpha}\")\n",
    "\n",
    "    max_similarities = (similarities > alpha).long()\n",
    "\n",
    "    prev_edges = data.edge_index\n",
    "    prev_edge_weightsss = copy.deepcopy(data.edge_weight)\n",
    "    prev_edge_weights = copy.deepcopy(data.edge_weight)  # Create a copy to preserve original weights\n",
    "\n",
    "    new_edges = torch.nonzero(max_similarities, as_tuple=False).T\n",
    "\n",
    "    new_edges_similarities = []\n",
    "    for i in range(new_edges.shape[1]):\n",
    "        new_edges_similarities.append(similarities[new_edges[0][i]][new_edges[1][i]].numpy().item())\n",
    "    max_sim = max(new_edges_similarities)\n",
    "    scaled_new_similarities = [i/max_sim for i in new_edges_similarities]\n",
    "    # print(scaled_new_similarities)\n",
    "    existing_edges = set(map(tuple, data.edge_index.T.tolist()))\n",
    "\n",
    "    common_edges = []\n",
    "    common_idxs = []\n",
    "    filtered_new_edges = []\n",
    "    filtered_edges_sim = []\n",
    "\n",
    "    # Store mapping of common edges to their similarity values\n",
    "    common_edge_to_sim = {}\n",
    "\n",
    "    for idx, edge in enumerate(new_edges.T.tolist()):\n",
    "        edge_tuple = (edge[0], edge[1])\n",
    "        if (edge[0], edge[1]) not in existing_edges and (edge[1], edge[0]) not in existing_edges:\n",
    "            filtered_new_edges.append([edge[0], edge[1]])\n",
    "            filtered_edges_sim.append(scaled_new_similarities[idx])\n",
    "        else:\n",
    "            common_edges.append([edge[0], edge[1]])\n",
    "            common_idxs.append(idx)\n",
    "            common_edge_to_sim[edge_tuple] = scaled_new_similarities[idx]\n",
    "    f=False\n",
    "    comm=[]\n",
    "    # Update weights of common edges in prev_edge_weights\n",
    "    if common_edges:\n",
    "        # Convert prev_edges to list of tuples for easier lookup\n",
    "        prev_edges_list = prev_edges.T.tolist()\n",
    "        for i, edge in enumerate(prev_edges_list):\n",
    "            edge_tuple = tuple(edge)\n",
    "            if edge_tuple in common_edge_to_sim:\n",
    "                f=True\n",
    "                # Update the weight (you can adjust how you want to increase it)\n",
    "                prev_edge_weights[0, i] = prev_edge_weightsss[0, i] + torch.tensor(common_edge_to_sim[edge_tuple], dtype=torch.float32)\n",
    "\n",
    "    if filtered_new_edges:\n",
    "        filtered_new_edges = torch.tensor(filtered_new_edges, dtype=torch.long).T\n",
    "        new_edges_simil = torch.tensor(filtered_edges_sim, dtype=torch.float32).reshape(1, -1)\n",
    "        \n",
    "        # Append new edges to data.edge_index\n",
    "        data.edge_index = torch.cat([data.edge_index, filtered_new_edges], dim=1)\n",
    "        data.edge_weight = torch.cat([prev_edge_weights, new_edges_simil], dim=1)\n",
    "\n",
    "    print(f\"Total new edges added: {filtered_new_edges.shape[1] if len(filtered_new_edges) > 0 else 0}\")\n",
    "    new_edges = data.edge_index\n",
    "    new_edge_weights = data.edge_weight\n",
    "\n",
    "    prev_edges_and_weights = torch.cat([prev_edges, prev_edge_weightsss], dim=0)\n",
    "    new_edges_and_weights = torch.cat([new_edges, new_edge_weights], dim=0)\n",
    "\n",
    "    print('Only Initial Edges:')\n",
    "    a1 = []\n",
    "    b1 = []\n",
    "    for i in tqdm(range(16)):\n",
    "        aa_node_ids, aa_embeddings = get_embeddings(prev_edges_and_weights, \"prev_edgelist.txt\", k=256, partition=1)\n",
    "        result = evaluate_node_classification(aa_node_ids, aa_embeddings, data)\n",
    "        a1.append(result['micro_f1'])\n",
    "        b1.append(result['macro_f1'])\n",
    "\n",
    "    print(f\"Micro-F1: {np.mean(a1):.4f} ± {np.std(a1):.4f}\")\n",
    "    print(f\"Macro-F1: {np.mean(b1):.4f} ± {np.std(b1):.4f}\")\n",
    "\n",
    "    print('Combined Edges:')\n",
    "    a2 = []\n",
    "    b2 = []\n",
    "    for i in tqdm(range(16)):\n",
    "        aa_node_ids, aa_embeddings = get_embeddings(new_edges_and_weights, \"new_edgelist.txt\", k=256, partition=1)\n",
    "        result = evaluate_node_classification(aa_node_ids, aa_embeddings, data)\n",
    "        a2.append(result['micro_f1'])\n",
    "        b2.append(result['macro_f1'])\n",
    "\n",
    "    print(f\"Micro-F1: {np.mean(a2):.4f} ± {np.std(a2):.4f}\")\n",
    "    print(f\"Macro-F1: {np.mean(b2):.4f} ± {np.std(b2):.4f}\")\n",
    "    \n",
    "    return alpha,filtered_new_edges.shape[1],np.mean(a2),np.mean(b2),np.mean(a1),np.mean(b1)"
   ]
  },
  {
   "cell_type": "code",
   "execution_count": 18,
   "metadata": {},
   "outputs": [
    {
     "name": "stdout",
     "output_type": "stream",
     "text": [
      "---------------------------------------------\n",
      "alpha: 0.0\n",
      "Data(x=[2708, 1433], edge_index=[2, 10556], y=[2708], train_mask=[2708], val_mask=[2708], test_mask=[2708])\n",
      "maximum cross similarity:25.0\n",
      "alpha:0.0\n"
     ]
    },
    {
     "name": "stderr",
     "output_type": "stream",
     "text": [
      "/tmp/ipykernel_230440/161969321.py:13: UserWarning: To copy construct from a tensor, it is recommended to use sourceTensor.clone().detach() or sourceTensor.clone().detach().requires_grad_(True), rather than torch.tensor(sourceTensor).\n",
      "  features = torch.tensor(data.x)\n"
     ]
    },
    {
     "name": "stdout",
     "output_type": "stream",
     "text": [
      "Total new edges added: 4428556\n",
      "Only Initial Edges:\n"
     ]
    },
    {
     "name": "stderr",
     "output_type": "stream",
     "text": [
      "100%|██████████| 16/16 [00:03<00:00,  4.93it/s]\n"
     ]
    },
    {
     "name": "stdout",
     "output_type": "stream",
     "text": [
      "Micro-F1: 0.6806 ± 0.0036\n",
      "Macro-F1: 0.6768 ± 0.0046\n",
      "Combined Edges:\n"
     ]
    },
    {
     "name": "stderr",
     "output_type": "stream",
     "text": [
      "100%|██████████| 16/16 [01:27<00:00,  5.44s/it]\n",
      "/tmp/ipykernel_230440/161969321.py:13: UserWarning: To copy construct from a tensor, it is recommended to use sourceTensor.clone().detach() or sourceTensor.clone().detach().requires_grad_(True), rather than torch.tensor(sourceTensor).\n",
      "  features = torch.tensor(data.x)\n"
     ]
    },
    {
     "name": "stdout",
     "output_type": "stream",
     "text": [
      "Micro-F1: 0.4938 ± 0.0010\n",
      "Macro-F1: 0.3869 ± 0.0011\n",
      "---------------------------------------------\n",
      "alpha: 0.1\n",
      "Data(x=[2708, 1433], edge_index=[2, 10556], y=[2708], train_mask=[2708], val_mask=[2708], test_mask=[2708])\n",
      "maximum cross similarity:25.0\n",
      "alpha:0.1\n",
      "Total new edges added: 762060\n",
      "Only Initial Edges:\n"
     ]
    },
    {
     "name": "stderr",
     "output_type": "stream",
     "text": [
      "100%|██████████| 16/16 [00:03<00:00,  4.99it/s]\n"
     ]
    },
    {
     "name": "stdout",
     "output_type": "stream",
     "text": [
      "Micro-F1: 0.6942 ± 0.0107\n",
      "Macro-F1: 0.6885 ± 0.0072\n",
      "Combined Edges:\n"
     ]
    },
    {
     "name": "stderr",
     "output_type": "stream",
     "text": [
      "100%|██████████| 16/16 [00:19<00:00,  1.19s/it]\n",
      "/tmp/ipykernel_230440/161969321.py:13: UserWarning: To copy construct from a tensor, it is recommended to use sourceTensor.clone().detach() or sourceTensor.clone().detach().requires_grad_(True), rather than torch.tensor(sourceTensor).\n",
      "  features = torch.tensor(data.x)\n"
     ]
    },
    {
     "name": "stdout",
     "output_type": "stream",
     "text": [
      "Micro-F1: 0.6663 ± 0.0016\n",
      "Macro-F1: 0.6395 ± 0.0008\n",
      "---------------------------------------------\n",
      "alpha: 0.2\n",
      "Data(x=[2708, 1433], edge_index=[2, 10556], y=[2708], train_mask=[2708], val_mask=[2708], test_mask=[2708])\n",
      "maximum cross similarity:25.0\n",
      "alpha:0.2\n",
      "Total new edges added: 16050\n",
      "Only Initial Edges:\n"
     ]
    },
    {
     "name": "stderr",
     "output_type": "stream",
     "text": [
      "100%|██████████| 16/16 [00:03<00:00,  5.18it/s]\n"
     ]
    },
    {
     "name": "stdout",
     "output_type": "stream",
     "text": [
      "Micro-F1: 0.6784 ± 0.0052\n",
      "Macro-F1: 0.6726 ± 0.0042\n",
      "Combined Edges:\n"
     ]
    },
    {
     "name": "stderr",
     "output_type": "stream",
     "text": [
      "100%|██████████| 16/16 [00:03<00:00,  4.58it/s]\n",
      "/tmp/ipykernel_230440/161969321.py:13: UserWarning: To copy construct from a tensor, it is recommended to use sourceTensor.clone().detach() or sourceTensor.clone().detach().requires_grad_(True), rather than torch.tensor(sourceTensor).\n",
      "  features = torch.tensor(data.x)\n"
     ]
    },
    {
     "name": "stdout",
     "output_type": "stream",
     "text": [
      "Micro-F1: 0.7241 ± 0.0071\n",
      "Macro-F1: 0.7238 ± 0.0048\n",
      "---------------------------------------------\n",
      "alpha: 0.3\n",
      "Data(x=[2708, 1433], edge_index=[2, 10556], y=[2708], train_mask=[2708], val_mask=[2708], test_mask=[2708])\n",
      "maximum cross similarity:25.0\n",
      "alpha:0.3\n",
      "Total new edges added: 1168\n",
      "Only Initial Edges:\n"
     ]
    },
    {
     "name": "stderr",
     "output_type": "stream",
     "text": [
      "100%|██████████| 16/16 [00:03<00:00,  5.00it/s]\n"
     ]
    },
    {
     "name": "stdout",
     "output_type": "stream",
     "text": [
      "Micro-F1: 0.6746 ± 0.0065\n",
      "Macro-F1: 0.6707 ± 0.0068\n",
      "Combined Edges:\n"
     ]
    },
    {
     "name": "stderr",
     "output_type": "stream",
     "text": [
      "100%|██████████| 16/16 [00:03<00:00,  5.12it/s]\n",
      "/tmp/ipykernel_230440/161969321.py:13: UserWarning: To copy construct from a tensor, it is recommended to use sourceTensor.clone().detach() or sourceTensor.clone().detach().requires_grad_(True), rather than torch.tensor(sourceTensor).\n",
      "  features = torch.tensor(data.x)\n"
     ]
    },
    {
     "name": "stdout",
     "output_type": "stream",
     "text": [
      "Micro-F1: 0.6871 ± 0.0129\n",
      "Macro-F1: 0.6950 ± 0.0128\n",
      "---------------------------------------------\n",
      "alpha: 0.4\n",
      "Data(x=[2708, 1433], edge_index=[2, 10556], y=[2708], train_mask=[2708], val_mask=[2708], test_mask=[2708])\n",
      "maximum cross similarity:25.0\n",
      "alpha:0.4\n",
      "Total new edges added: 180\n",
      "Only Initial Edges:\n"
     ]
    },
    {
     "name": "stderr",
     "output_type": "stream",
     "text": [
      "100%|██████████| 16/16 [00:03<00:00,  5.28it/s]\n"
     ]
    },
    {
     "name": "stdout",
     "output_type": "stream",
     "text": [
      "Micro-F1: 0.6789 ± 0.0037\n",
      "Macro-F1: 0.6747 ± 0.0012\n",
      "Combined Edges:\n"
     ]
    },
    {
     "name": "stderr",
     "output_type": "stream",
     "text": [
      "100%|██████████| 16/16 [00:03<00:00,  5.10it/s]\n",
      "/tmp/ipykernel_230440/161969321.py:13: UserWarning: To copy construct from a tensor, it is recommended to use sourceTensor.clone().detach() or sourceTensor.clone().detach().requires_grad_(True), rather than torch.tensor(sourceTensor).\n",
      "  features = torch.tensor(data.x)\n"
     ]
    },
    {
     "name": "stdout",
     "output_type": "stream",
     "text": [
      "Micro-F1: 0.6861 ± 0.0061\n",
      "Macro-F1: 0.6760 ± 0.0062\n",
      "---------------------------------------------\n",
      "alpha: 0.5\n",
      "Data(x=[2708, 1433], edge_index=[2, 10556], y=[2708], train_mask=[2708], val_mask=[2708], test_mask=[2708])\n",
      "maximum cross similarity:25.0\n",
      "alpha:0.5\n",
      "Total new edges added: 126\n",
      "Only Initial Edges:\n"
     ]
    },
    {
     "name": "stderr",
     "output_type": "stream",
     "text": [
      "100%|██████████| 16/16 [00:03<00:00,  5.13it/s]\n"
     ]
    },
    {
     "name": "stdout",
     "output_type": "stream",
     "text": [
      "Micro-F1: 0.6925 ± 0.0080\n",
      "Macro-F1: 0.6843 ± 0.0077\n",
      "Combined Edges:\n"
     ]
    },
    {
     "name": "stderr",
     "output_type": "stream",
     "text": [
      "100%|██████████| 16/16 [00:03<00:00,  5.07it/s]\n",
      "/tmp/ipykernel_230440/161969321.py:13: UserWarning: To copy construct from a tensor, it is recommended to use sourceTensor.clone().detach() or sourceTensor.clone().detach().requires_grad_(True), rather than torch.tensor(sourceTensor).\n",
      "  features = torch.tensor(data.x)\n"
     ]
    },
    {
     "name": "stdout",
     "output_type": "stream",
     "text": [
      "Micro-F1: 0.6779 ± 0.0060\n",
      "Macro-F1: 0.6697 ± 0.0058\n",
      "---------------------------------------------\n",
      "alpha: 0.6\n",
      "Data(x=[2708, 1433], edge_index=[2, 10556], y=[2708], train_mask=[2708], val_mask=[2708], test_mask=[2708])\n",
      "maximum cross similarity:25.0\n",
      "alpha:0.6\n",
      "Total new edges added: 92\n",
      "Only Initial Edges:\n"
     ]
    },
    {
     "name": "stderr",
     "output_type": "stream",
     "text": [
      "100%|██████████| 16/16 [00:04<00:00,  3.23it/s]\n"
     ]
    },
    {
     "name": "stdout",
     "output_type": "stream",
     "text": [
      "Micro-F1: 0.6759 ± 0.0075\n",
      "Macro-F1: 0.6743 ± 0.0052\n",
      "Combined Edges:\n"
     ]
    },
    {
     "name": "stderr",
     "output_type": "stream",
     "text": [
      "100%|██████████| 16/16 [00:03<00:00,  4.78it/s]\n",
      "/tmp/ipykernel_230440/161969321.py:13: UserWarning: To copy construct from a tensor, it is recommended to use sourceTensor.clone().detach() or sourceTensor.clone().detach().requires_grad_(True), rather than torch.tensor(sourceTensor).\n",
      "  features = torch.tensor(data.x)\n"
     ]
    },
    {
     "name": "stdout",
     "output_type": "stream",
     "text": [
      "Micro-F1: 0.6939 ± 0.0149\n",
      "Macro-F1: 0.6853 ± 0.0153\n",
      "---------------------------------------------\n",
      "alpha: 0.7\n",
      "Data(x=[2708, 1433], edge_index=[2, 10556], y=[2708], train_mask=[2708], val_mask=[2708], test_mask=[2708])\n",
      "maximum cross similarity:25.0\n",
      "alpha:0.7\n",
      "Total new edges added: 74\n",
      "Only Initial Edges:\n"
     ]
    },
    {
     "name": "stderr",
     "output_type": "stream",
     "text": [
      "100%|██████████| 16/16 [00:03<00:00,  4.88it/s]\n"
     ]
    },
    {
     "name": "stdout",
     "output_type": "stream",
     "text": [
      "Micro-F1: 0.6897 ± 0.0064\n",
      "Macro-F1: 0.6836 ± 0.0060\n",
      "Combined Edges:\n"
     ]
    },
    {
     "name": "stderr",
     "output_type": "stream",
     "text": [
      "100%|██████████| 16/16 [00:03<00:00,  4.87it/s]\n",
      "/tmp/ipykernel_230440/161969321.py:13: UserWarning: To copy construct from a tensor, it is recommended to use sourceTensor.clone().detach() or sourceTensor.clone().detach().requires_grad_(True), rather than torch.tensor(sourceTensor).\n",
      "  features = torch.tensor(data.x)\n"
     ]
    },
    {
     "name": "stdout",
     "output_type": "stream",
     "text": [
      "Micro-F1: 0.6872 ± 0.0087\n",
      "Macro-F1: 0.6795 ± 0.0077\n",
      "---------------------------------------------\n",
      "alpha: 0.8\n",
      "Data(x=[2708, 1433], edge_index=[2, 10556], y=[2708], train_mask=[2708], val_mask=[2708], test_mask=[2708])\n",
      "maximum cross similarity:25.0\n",
      "alpha:0.8\n",
      "Total new edges added: 34\n",
      "Only Initial Edges:\n"
     ]
    },
    {
     "name": "stderr",
     "output_type": "stream",
     "text": [
      "100%|██████████| 16/16 [00:03<00:00,  4.87it/s]\n"
     ]
    },
    {
     "name": "stdout",
     "output_type": "stream",
     "text": [
      "Micro-F1: 0.6934 ± 0.0089\n",
      "Macro-F1: 0.6871 ± 0.0049\n",
      "Combined Edges:\n"
     ]
    },
    {
     "name": "stderr",
     "output_type": "stream",
     "text": [
      "100%|██████████| 16/16 [00:03<00:00,  4.72it/s]\n",
      "/tmp/ipykernel_230440/161969321.py:13: UserWarning: To copy construct from a tensor, it is recommended to use sourceTensor.clone().detach() or sourceTensor.clone().detach().requires_grad_(True), rather than torch.tensor(sourceTensor).\n",
      "  features = torch.tensor(data.x)\n"
     ]
    },
    {
     "name": "stdout",
     "output_type": "stream",
     "text": [
      "Micro-F1: 0.6904 ± 0.0068\n",
      "Macro-F1: 0.6808 ± 0.0039\n",
      "---------------------------------------------\n",
      "alpha: 0.9\n",
      "Data(x=[2708, 1433], edge_index=[2, 10556], y=[2708], train_mask=[2708], val_mask=[2708], test_mask=[2708])\n",
      "maximum cross similarity:25.0\n",
      "alpha:0.9\n",
      "Total new edges added: 22\n",
      "Only Initial Edges:\n"
     ]
    },
    {
     "name": "stderr",
     "output_type": "stream",
     "text": [
      "100%|██████████| 16/16 [00:03<00:00,  4.98it/s]\n"
     ]
    },
    {
     "name": "stdout",
     "output_type": "stream",
     "text": [
      "Micro-F1: 0.6900 ± 0.0108\n",
      "Macro-F1: 0.6848 ± 0.0086\n",
      "Combined Edges:\n"
     ]
    },
    {
     "name": "stderr",
     "output_type": "stream",
     "text": [
      "100%|██████████| 16/16 [00:03<00:00,  4.82it/s]"
     ]
    },
    {
     "name": "stdout",
     "output_type": "stream",
     "text": [
      "Micro-F1: 0.6831 ± 0.0041\n",
      "Macro-F1: 0.6782 ± 0.0039\n"
     ]
    },
    {
     "name": "stderr",
     "output_type": "stream",
     "text": [
      "\n"
     ]
    }
   ],
   "source": [
    "x=[] #alpha\n",
    "y1=[] # edge count added\n",
    "y2=[] #micro\n",
    "y3=[] #macro\n",
    "y4=[]# micro\n",
    "y5=[] # marcro\n",
    "for alpha in range(0,10):\n",
    "    print(\"---------------------------------------------\")\n",
    "    alpha=alpha/10\n",
    "    print(\"alpha:\",alpha)\n",
    "    xx,y1a,y2b,y3c,y4d,y5e=evalator_m2(alpha)\n",
    "    x.append(xx)\n",
    "    y1.append(y1a)\n",
    "    y2.append(y2b)\n",
    "    y3.append(y3c)\n",
    "    y4.append(y4d)\n",
    "    y5.append(y5e)"
   ]
  },
  {
   "cell_type": "code",
   "execution_count": 19,
   "metadata": {},
   "outputs": [
    {
     "data": {
      "text/plain": [
       "[<matplotlib.lines.Line2D at 0x7f7a0d5dea70>]"
      ]
     },
     "execution_count": 19,
     "metadata": {},
     "output_type": "execute_result"
    },
    {
     "data": {
      "image/png": "[encoded data removed]",
      "text/plain": [
       "<Figure size 640x480 with 1 Axes>"
      ]
     },
     "metadata": {},
     "output_type": "display_data"
    }
   ],
   "source": [
    "import matplotlib.pyplot as plt\n",
    "\n",
    "plt.plot(x,y3)\n"
   ]
  },
  {
   "cell_type": "code",
   "execution_count": 20,
   "metadata": {},
   "outputs": [
    {
     "data": {
      "image/png": "[encoded data removed]",
      "text/plain": [
       "<Figure size 2000x500 with 3 Axes>"
      ]
     },
     "metadata": {},
     "output_type": "display_data"
    }
   ],
   "source": [
    "plt.figure(figsize=(20,5))\n",
    "\n",
    "plt.subplot(1,3,1)\n",
    "plt.plot(x,y1)\n",
    "plt.xlabel('alpha')\n",
    "plt.ylabel('new edges added')\n",
    "\n",
    "\n",
    "plt.subplot(1,3,2)\n",
    "plt.plot(x,y2,label=\"after fusion\",marker=\"o\",color=\"orange\")\n",
    "plt.plot(x,y4,label='before fusion',marker='o',color='blue')\n",
    "\n",
    "plt.xlabel('alpha')\n",
    "plt.ylabel('micro F1')\n",
    "plt.title('micro F1 across alpha')\n",
    "plt.legend()\n",
    "\n",
    "\n",
    "plt.subplot(1,3,3)\n",
    "plt.plot(x,y3,label=\"after fusion\",marker=\"o\",color=\"orange\")\n",
    "plt.plot(x,y5,label='before fusion',marker='o',color='blue')\n",
    "\n",
    "plt.xlabel('alpha')\n",
    "plt.ylabel('macro F1')\n",
    "plt.title('macro F1 across alpha')\n",
    "plt.legend()\n",
    "\n",
    "plt.show()\n",
    "\n"
   ]
  },
  {
   "cell_type": "code",
   "execution_count": null,
   "metadata": {},
   "outputs": [],
   "source": []
  },
  {
   "cell_type": "markdown",
   "metadata": {},
   "source": [
    "# Method: 3\n",
    "- give weight 1 to all the existing edges\n",
    "- find the new edges with similarity above some threshold\n",
    "- scale the new edges similarity between 0 to 1\n",
    "- include the new edges to the structural graph with edge weights as 1\n",
    "- the edges present in both exiting edges andnew edges will have weight more than 1"
   ]
  },
  {
   "cell_type": "code",
   "execution_count": 21,
   "metadata": {},
   "outputs": [],
   "source": [
    "def evalator_m3(alpha):\n",
    "    \n",
    "    dataset = Planetoid(root='data/Planetoid', name='Cora')\n",
    "    data = dataset[0]  # The dataset contains a single graph\n",
    "    print(data)\n",
    "    data.edge_weight = torch.ones((1, data.edge_index.shape[1]), dtype=torch.float32)\n",
    "    adj_matrix = edge_index_to_adj(data.edge_index, len(data.x))\n",
    "\n",
    "    features = torch.tensor(data.x)\n",
    "    # finding feature similarity across all the nodes via dot product\n",
    "    similarities = (features@features.T)\n",
    "\n",
    "# making the diagnol elements to zero as the max similarity is obtained with a same\n",
    "    similarities = similarities * (torch.eye(len(similarities)) == 0).long()\n",
    "    \n",
    "    maxi = similarities.max()\n",
    "    print(f\"maximum cross similarity:{maxi}\")\n",
    "\n",
    "    # normalizing similarity to lie in range [0,1]\n",
    "    similarities = torch.div(similarities, maxi)\n",
    "\n",
    "    print(f\"alpha:{alpha}\")\n",
    "\n",
    "    max_similarities = (similarities > alpha).long()\n",
    "\n",
    "    prev_edges = data.edge_index\n",
    "    prev_edge_weightsss = copy.deepcopy(data.edge_weight)\n",
    "    prev_edge_weights = copy.deepcopy(data.edge_weight)  # Create a copy to preserve original weights\n",
    "\n",
    "    new_edges = torch.nonzero(max_similarities, as_tuple=False).T\n",
    "\n",
    "    new_edges_similarities = []\n",
    "    for i in range(new_edges.shape[1]):\n",
    "        new_edges_similarities.append(similarities[new_edges[0][i]][new_edges[1][i]].numpy().item())\n",
    "    max_sim = max(new_edges_similarities)\n",
    "    scaled_new_similarities = [i/max_sim for i in new_edges_similarities]\n",
    "    # print(scaled_new_similarities)\n",
    "    existing_edges = set(map(tuple, data.edge_index.T.tolist()))\n",
    "\n",
    "    common_edges = []\n",
    "    common_idxs = []\n",
    "    filtered_new_edges = []\n",
    "    filtered_edges_sim = []\n",
    "\n",
    "    # Store mapping of common edges to their similarity values\n",
    "    common_edge_to_sim = {}\n",
    "\n",
    "    for idx, edge in enumerate(new_edges.T.tolist()):\n",
    "        edge_tuple = (edge[0], edge[1])\n",
    "        if (edge[0], edge[1]) not in existing_edges and (edge[1], edge[0]) not in existing_edges:\n",
    "            filtered_new_edges.append([edge[0], edge[1]])\n",
    "            # filtered_edges_sim.append(scaled_new_similarities[idx])\n",
    "            filtered_edges_sim.append(1)\n",
    "        else:\n",
    "            common_edges.append([edge[0], edge[1]])\n",
    "            common_idxs.append(idx)\n",
    "            common_edge_to_sim[edge_tuple] = scaled_new_similarities[idx]\n",
    "    f=False\n",
    "    comm=[]\n",
    "    # Update weights of common edges in prev_edge_weights\n",
    "    if common_edges:\n",
    "        # Convert prev_edges to list of tuples for easier lookup\n",
    "        prev_edges_list = prev_edges.T.tolist()\n",
    "        for i, edge in enumerate(prev_edges_list):\n",
    "            edge_tuple = tuple(edge)\n",
    "            if edge_tuple in common_edge_to_sim:\n",
    "                f=True\n",
    "                # Update the weight (you can adjust how you want to increase it)\n",
    "                prev_edge_weights[0, i] = prev_edge_weightsss[0, i] + torch.tensor(common_edge_to_sim[edge_tuple], dtype=torch.float32)\n",
    "\n",
    "    if filtered_new_edges:\n",
    "        filtered_new_edges = torch.tensor(filtered_new_edges, dtype=torch.long).T\n",
    "        new_edges_simil = torch.tensor(filtered_edges_sim, dtype=torch.float32).reshape(1, -1)\n",
    "        \n",
    "        # Append new edges to data.edge_index\n",
    "        data.edge_index = torch.cat([data.edge_index, filtered_new_edges], dim=1)\n",
    "        data.edge_weight = torch.cat([prev_edge_weights, new_edges_simil], dim=1)\n",
    "\n",
    "    print(f\"Total new edges added: {filtered_new_edges.shape[1] if len(filtered_new_edges) > 0 else 0}\")\n",
    "    new_edges = data.edge_index\n",
    "    new_edge_weights = data.edge_weight\n",
    "\n",
    "    prev_edges_and_weights = torch.cat([prev_edges, prev_edge_weightsss], dim=0)\n",
    "    new_edges_and_weights = torch.cat([new_edges, new_edge_weights], dim=0)\n",
    "\n",
    "    print('Only Initial Edges:')\n",
    "    a1 = []\n",
    "    b1 = []\n",
    "    for i in tqdm(range(16)):\n",
    "        aa_node_ids, aa_embeddings = get_embeddings(prev_edges_and_weights, \"prev_edgelist.txt\", k=256, partition=1)\n",
    "        result = evaluate_node_classification(aa_node_ids, aa_embeddings, data)\n",
    "        a1.append(result['micro_f1'])\n",
    "        b1.append(result['macro_f1'])\n",
    "\n",
    "    print(f\"Micro-F1: {np.mean(a1):.4f} ± {np.std(a1):.4f}\")\n",
    "    print(f\"Macro-F1: {np.mean(b1):.4f} ± {np.std(b1):.4f}\")\n",
    "\n",
    "    print('Combined Edges:')\n",
    "    a2 = []\n",
    "    b2 = []\n",
    "    for i in tqdm(range(16)):\n",
    "        aa_node_ids, aa_embeddings = get_embeddings(new_edges_and_weights, \"new_edgelist.txt\", k=256, partition=1)\n",
    "        result = evaluate_node_classification(aa_node_ids, aa_embeddings, data)\n",
    "        a2.append(result['micro_f1'])\n",
    "        b2.append(result['macro_f1'])\n",
    "\n",
    "    print(f\"Micro-F1: {np.mean(a2):.4f} ± {np.std(a2):.4f}\")\n",
    "    print(f\"Macro-F1: {np.mean(b2):.4f} ± {np.std(b2):.4f}\")\n",
    "    \n",
    "    return alpha,filtered_new_edges.shape[1],np.mean(a2),np.mean(b2),np.mean(a1),np.mean(b1)"
   ]
  },
  {
   "cell_type": "code",
   "execution_count": 89,
   "metadata": {},
   "outputs": [
    {
     "name": "stderr",
     "output_type": "stream",
     "text": [
      "/tmp/ipykernel_25828/532984493.py:9: UserWarning: To copy construct from a tensor, it is recommended to use sourceTensor.clone().detach() or sourceTensor.clone().detach().requires_grad_(True), rather than torch.tensor(sourceTensor).\n",
      "  features = torch.tensor(data.x)\n"
     ]
    },
    {
     "name": "stdout",
     "output_type": "stream",
     "text": [
      "Data(x=[2708, 1433], edge_index=[2, 10556], y=[2708], train_mask=[2708], val_mask=[2708], test_mask=[2708])\n",
      "maximum cross similarity:25.0\n",
      "alpha:0.25\n",
      "Total new edges added: 4122\n",
      "Only Initial Edges:\n"
     ]
    },
    {
     "name": "stderr",
     "output_type": "stream",
     "text": [
      "  0%|          | 0/16 [00:00<?, ?it/s]"
     ]
    },
    {
     "name": "stderr",
     "output_type": "stream",
     "text": [
      "100%|██████████| 16/16 [00:02<00:00,  5.39it/s]\n"
     ]
    },
    {
     "name": "stdout",
     "output_type": "stream",
     "text": [
      "Micro-F1: 0.6794 ± 0.0087\n",
      "Macro-F1: 0.6736 ± 0.0092\n",
      "Combined Edges:\n"
     ]
    },
    {
     "name": "stderr",
     "output_type": "stream",
     "text": [
      "100%|██████████| 16/16 [00:03<00:00,  5.00it/s]"
     ]
    },
    {
     "name": "stdout",
     "output_type": "stream",
     "text": [
      "Micro-F1: 0.7130 ± 0.0072\n",
      "Macro-F1: 0.6967 ± 0.0058\n"
     ]
    },
    {
     "name": "stderr",
     "output_type": "stream",
     "text": [
      "\n"
     ]
    },
    {
     "data": {
      "text/plain": [
       "(0.25, 4122, 0.713, 0.6966839669109541, 0.6793750000000001, 0.6735824957199146)"
      ]
     },
     "execution_count": 89,
     "metadata": {},
     "output_type": "execute_result"
    }
   ],
   "source": [
    "evalator_m3(0.25)"
   ]
  },
  {
   "cell_type": "code",
   "execution_count": 22,
   "metadata": {},
   "outputs": [
    {
     "name": "stdout",
     "output_type": "stream",
     "text": [
      "---------------------------------------------\n",
      "alpha: 0.0\n",
      "Data(x=[2708, 1433], edge_index=[2, 10556], y=[2708], train_mask=[2708], val_mask=[2708], test_mask=[2708])\n",
      "maximum cross similarity:25.0\n",
      "alpha:0.0\n"
     ]
    },
    {
     "name": "stderr",
     "output_type": "stream",
     "text": [
      "/tmp/ipykernel_230440/532984493.py:9: UserWarning: To copy construct from a tensor, it is recommended to use sourceTensor.clone().detach() or sourceTensor.clone().detach().requires_grad_(True), rather than torch.tensor(sourceTensor).\n",
      "  features = torch.tensor(data.x)\n"
     ]
    },
    {
     "name": "stdout",
     "output_type": "stream",
     "text": [
      "Total new edges added: 4428556\n",
      "Only Initial Edges:\n"
     ]
    },
    {
     "name": "stderr",
     "output_type": "stream",
     "text": [
      "100%|██████████| 16/16 [00:03<00:00,  4.93it/s]\n"
     ]
    },
    {
     "name": "stdout",
     "output_type": "stream",
     "text": [
      "Micro-F1: 0.6774 ± 0.0019\n",
      "Macro-F1: 0.6752 ± 0.0036\n",
      "Combined Edges:\n"
     ]
    },
    {
     "name": "stderr",
     "output_type": "stream",
     "text": [
      "100%|██████████| 16/16 [01:22<00:00,  5.15s/it]\n",
      "/tmp/ipykernel_230440/532984493.py:9: UserWarning: To copy construct from a tensor, it is recommended to use sourceTensor.clone().detach() or sourceTensor.clone().detach().requires_grad_(True), rather than torch.tensor(sourceTensor).\n",
      "  features = torch.tensor(data.x)\n"
     ]
    },
    {
     "name": "stdout",
     "output_type": "stream",
     "text": [
      "Micro-F1: 0.2770 ± 0.0000\n",
      "Macro-F1: 0.2182 ± 0.0000\n",
      "---------------------------------------------\n",
      "alpha: 0.1\n",
      "Data(x=[2708, 1433], edge_index=[2, 10556], y=[2708], train_mask=[2708], val_mask=[2708], test_mask=[2708])\n",
      "maximum cross similarity:25.0\n",
      "alpha:0.1\n",
      "Total new edges added: 762060\n",
      "Only Initial Edges:\n"
     ]
    },
    {
     "name": "stderr",
     "output_type": "stream",
     "text": [
      "100%|██████████| 16/16 [00:03<00:00,  5.01it/s]\n"
     ]
    },
    {
     "name": "stdout",
     "output_type": "stream",
     "text": [
      "Micro-F1: 0.6849 ± 0.0055\n",
      "Macro-F1: 0.6815 ± 0.0053\n",
      "Combined Edges:\n"
     ]
    },
    {
     "name": "stderr",
     "output_type": "stream",
     "text": [
      "100%|██████████| 16/16 [00:16<00:00,  1.02s/it]\n",
      "/tmp/ipykernel_230440/532984493.py:9: UserWarning: To copy construct from a tensor, it is recommended to use sourceTensor.clone().detach() or sourceTensor.clone().detach().requires_grad_(True), rather than torch.tensor(sourceTensor).\n",
      "  features = torch.tensor(data.x)\n"
     ]
    },
    {
     "name": "stdout",
     "output_type": "stream",
     "text": [
      "Micro-F1: 0.5390 ± 0.0000\n",
      "Macro-F1: 0.4152 ± 0.0000\n",
      "---------------------------------------------\n",
      "alpha: 0.2\n",
      "Data(x=[2708, 1433], edge_index=[2, 10556], y=[2708], train_mask=[2708], val_mask=[2708], test_mask=[2708])\n",
      "maximum cross similarity:25.0\n",
      "alpha:0.2\n",
      "Total new edges added: 16050\n",
      "Only Initial Edges:\n"
     ]
    },
    {
     "name": "stderr",
     "output_type": "stream",
     "text": [
      "100%|██████████| 16/16 [00:03<00:00,  5.21it/s]\n"
     ]
    },
    {
     "name": "stdout",
     "output_type": "stream",
     "text": [
      "Micro-F1: 0.6843 ± 0.0031\n",
      "Macro-F1: 0.6783 ± 0.0028\n",
      "Combined Edges:\n"
     ]
    },
    {
     "name": "stderr",
     "output_type": "stream",
     "text": [
      "100%|██████████| 16/16 [00:05<00:00,  3.06it/s]\n",
      "/tmp/ipykernel_230440/532984493.py:9: UserWarning: To copy construct from a tensor, it is recommended to use sourceTensor.clone().detach() or sourceTensor.clone().detach().requires_grad_(True), rather than torch.tensor(sourceTensor).\n",
      "  features = torch.tensor(data.x)\n"
     ]
    },
    {
     "name": "stdout",
     "output_type": "stream",
     "text": [
      "Micro-F1: 0.7102 ± 0.0059\n",
      "Macro-F1: 0.6879 ± 0.0036\n",
      "---------------------------------------------\n",
      "alpha: 0.3\n",
      "Data(x=[2708, 1433], edge_index=[2, 10556], y=[2708], train_mask=[2708], val_mask=[2708], test_mask=[2708])\n",
      "maximum cross similarity:25.0\n",
      "alpha:0.3\n",
      "Total new edges added: 1168\n",
      "Only Initial Edges:\n"
     ]
    },
    {
     "name": "stderr",
     "output_type": "stream",
     "text": [
      "100%|██████████| 16/16 [00:03<00:00,  4.99it/s]\n"
     ]
    },
    {
     "name": "stdout",
     "output_type": "stream",
     "text": [
      "Micro-F1: 0.6730 ± 0.0074\n",
      "Macro-F1: 0.6718 ± 0.0061\n",
      "Combined Edges:\n"
     ]
    },
    {
     "name": "stderr",
     "output_type": "stream",
     "text": [
      "100%|██████████| 16/16 [00:03<00:00,  4.90it/s]\n",
      "/tmp/ipykernel_230440/532984493.py:9: UserWarning: To copy construct from a tensor, it is recommended to use sourceTensor.clone().detach() or sourceTensor.clone().detach().requires_grad_(True), rather than torch.tensor(sourceTensor).\n",
      "  features = torch.tensor(data.x)\n"
     ]
    },
    {
     "name": "stdout",
     "output_type": "stream",
     "text": [
      "Micro-F1: 0.6711 ± 0.0014\n",
      "Macro-F1: 0.6803 ± 0.0012\n",
      "---------------------------------------------\n",
      "alpha: 0.4\n",
      "Data(x=[2708, 1433], edge_index=[2, 10556], y=[2708], train_mask=[2708], val_mask=[2708], test_mask=[2708])\n",
      "maximum cross similarity:25.0\n",
      "alpha:0.4\n",
      "Total new edges added: 180\n",
      "Only Initial Edges:\n"
     ]
    },
    {
     "name": "stderr",
     "output_type": "stream",
     "text": [
      "100%|██████████| 16/16 [00:03<00:00,  5.10it/s]\n"
     ]
    },
    {
     "name": "stdout",
     "output_type": "stream",
     "text": [
      "Micro-F1: 0.6829 ± 0.0103\n",
      "Macro-F1: 0.6788 ± 0.0062\n",
      "Combined Edges:\n"
     ]
    },
    {
     "name": "stderr",
     "output_type": "stream",
     "text": [
      "100%|██████████| 16/16 [00:03<00:00,  5.05it/s]\n",
      "/tmp/ipykernel_230440/532984493.py:9: UserWarning: To copy construct from a tensor, it is recommended to use sourceTensor.clone().detach() or sourceTensor.clone().detach().requires_grad_(True), rather than torch.tensor(sourceTensor).\n",
      "  features = torch.tensor(data.x)\n"
     ]
    },
    {
     "name": "stdout",
     "output_type": "stream",
     "text": [
      "Micro-F1: 0.6779 ± 0.0095\n",
      "Macro-F1: 0.6734 ± 0.0056\n",
      "---------------------------------------------\n",
      "alpha: 0.5\n",
      "Data(x=[2708, 1433], edge_index=[2, 10556], y=[2708], train_mask=[2708], val_mask=[2708], test_mask=[2708])\n",
      "maximum cross similarity:25.0\n",
      "alpha:0.5\n",
      "Total new edges added: 126\n",
      "Only Initial Edges:\n"
     ]
    },
    {
     "name": "stderr",
     "output_type": "stream",
     "text": [
      "100%|██████████| 16/16 [00:03<00:00,  5.05it/s]\n"
     ]
    },
    {
     "name": "stdout",
     "output_type": "stream",
     "text": [
      "Micro-F1: 0.6863 ± 0.0096\n",
      "Macro-F1: 0.6819 ± 0.0081\n",
      "Combined Edges:\n"
     ]
    },
    {
     "name": "stderr",
     "output_type": "stream",
     "text": [
      "100%|██████████| 16/16 [00:03<00:00,  5.19it/s]\n",
      "/tmp/ipykernel_230440/532984493.py:9: UserWarning: To copy construct from a tensor, it is recommended to use sourceTensor.clone().detach() or sourceTensor.clone().detach().requires_grad_(True), rather than torch.tensor(sourceTensor).\n",
      "  features = torch.tensor(data.x)\n"
     ]
    },
    {
     "name": "stdout",
     "output_type": "stream",
     "text": [
      "Micro-F1: 0.6804 ± 0.0116\n",
      "Macro-F1: 0.6763 ± 0.0085\n",
      "---------------------------------------------\n",
      "alpha: 0.6\n",
      "Data(x=[2708, 1433], edge_index=[2, 10556], y=[2708], train_mask=[2708], val_mask=[2708], test_mask=[2708])\n",
      "maximum cross similarity:25.0\n",
      "alpha:0.6\n",
      "Total new edges added: 92\n",
      "Only Initial Edges:\n"
     ]
    },
    {
     "name": "stderr",
     "output_type": "stream",
     "text": [
      "100%|██████████| 16/16 [00:03<00:00,  4.71it/s]\n"
     ]
    },
    {
     "name": "stdout",
     "output_type": "stream",
     "text": [
      "Micro-F1: 0.6829 ± 0.0041\n",
      "Macro-F1: 0.6802 ± 0.0022\n",
      "Combined Edges:\n"
     ]
    },
    {
     "name": "stderr",
     "output_type": "stream",
     "text": [
      "100%|██████████| 16/16 [00:03<00:00,  4.70it/s]\n",
      "/tmp/ipykernel_230440/532984493.py:9: UserWarning: To copy construct from a tensor, it is recommended to use sourceTensor.clone().detach() or sourceTensor.clone().detach().requires_grad_(True), rather than torch.tensor(sourceTensor).\n",
      "  features = torch.tensor(data.x)\n"
     ]
    },
    {
     "name": "stdout",
     "output_type": "stream",
     "text": [
      "Micro-F1: 0.6866 ± 0.0133\n",
      "Macro-F1: 0.6811 ± 0.0115\n",
      "---------------------------------------------\n",
      "alpha: 0.7\n",
      "Data(x=[2708, 1433], edge_index=[2, 10556], y=[2708], train_mask=[2708], val_mask=[2708], test_mask=[2708])\n",
      "maximum cross similarity:25.0\n",
      "alpha:0.7\n",
      "Total new edges added: 74\n",
      "Only Initial Edges:\n"
     ]
    },
    {
     "name": "stderr",
     "output_type": "stream",
     "text": [
      "100%|██████████| 16/16 [00:03<00:00,  4.67it/s]\n"
     ]
    },
    {
     "name": "stdout",
     "output_type": "stream",
     "text": [
      "Micro-F1: 0.6814 ± 0.0023\n",
      "Macro-F1: 0.6780 ± 0.0022\n",
      "Combined Edges:\n"
     ]
    },
    {
     "name": "stderr",
     "output_type": "stream",
     "text": [
      "100%|██████████| 16/16 [00:05<00:00,  3.13it/s]\n",
      "/tmp/ipykernel_230440/532984493.py:9: UserWarning: To copy construct from a tensor, it is recommended to use sourceTensor.clone().detach() or sourceTensor.clone().detach().requires_grad_(True), rather than torch.tensor(sourceTensor).\n",
      "  features = torch.tensor(data.x)\n"
     ]
    },
    {
     "name": "stdout",
     "output_type": "stream",
     "text": [
      "Micro-F1: 0.6859 ± 0.0141\n",
      "Macro-F1: 0.6786 ± 0.0118\n",
      "---------------------------------------------\n",
      "alpha: 0.8\n",
      "Data(x=[2708, 1433], edge_index=[2, 10556], y=[2708], train_mask=[2708], val_mask=[2708], test_mask=[2708])\n",
      "maximum cross similarity:25.0\n",
      "alpha:0.8\n",
      "Total new edges added: 34\n",
      "Only Initial Edges:\n"
     ]
    },
    {
     "name": "stderr",
     "output_type": "stream",
     "text": [
      "100%|██████████| 16/16 [00:03<00:00,  4.80it/s]\n"
     ]
    },
    {
     "name": "stdout",
     "output_type": "stream",
     "text": [
      "Micro-F1: 0.6967 ± 0.0079\n",
      "Macro-F1: 0.6894 ± 0.0068\n",
      "Combined Edges:\n"
     ]
    },
    {
     "name": "stderr",
     "output_type": "stream",
     "text": [
      "100%|██████████| 16/16 [00:03<00:00,  4.65it/s]\n",
      "/tmp/ipykernel_230440/532984493.py:9: UserWarning: To copy construct from a tensor, it is recommended to use sourceTensor.clone().detach() or sourceTensor.clone().detach().requires_grad_(True), rather than torch.tensor(sourceTensor).\n",
      "  features = torch.tensor(data.x)\n"
     ]
    },
    {
     "name": "stdout",
     "output_type": "stream",
     "text": [
      "Micro-F1: 0.6861 ± 0.0080\n",
      "Macro-F1: 0.6771 ± 0.0074\n",
      "---------------------------------------------\n",
      "alpha: 0.9\n",
      "Data(x=[2708, 1433], edge_index=[2, 10556], y=[2708], train_mask=[2708], val_mask=[2708], test_mask=[2708])\n",
      "maximum cross similarity:25.0\n",
      "alpha:0.9\n",
      "Total new edges added: 22\n",
      "Only Initial Edges:\n"
     ]
    },
    {
     "name": "stderr",
     "output_type": "stream",
     "text": [
      "100%|██████████| 16/16 [00:03<00:00,  4.77it/s]\n"
     ]
    },
    {
     "name": "stdout",
     "output_type": "stream",
     "text": [
      "Micro-F1: 0.6826 ± 0.0077\n",
      "Macro-F1: 0.6806 ± 0.0048\n",
      "Combined Edges:\n"
     ]
    },
    {
     "name": "stderr",
     "output_type": "stream",
     "text": [
      "100%|██████████| 16/16 [00:03<00:00,  4.76it/s]"
     ]
    },
    {
     "name": "stdout",
     "output_type": "stream",
     "text": [
      "Micro-F1: 0.6893 ± 0.0134\n",
      "Macro-F1: 0.6809 ± 0.0100\n"
     ]
    },
    {
     "name": "stderr",
     "output_type": "stream",
     "text": [
      "\n"
     ]
    }
   ],
   "source": [
    "x=[] #alpha\n",
    "y1=[] # edge count added\n",
    "y2=[] #micro\n",
    "y3=[] #macro\n",
    "y4=[]# micro\n",
    "y5=[] # marcro\n",
    "for alpha in range(0,10):\n",
    "    print(\"---------------------------------------------\")\n",
    "    alpha=alpha/10\n",
    "    print(\"alpha:\",alpha)\n",
    "    xx,y1a,y2b,y3c,y4d,y5e=evalator_m3(alpha)\n",
    "    x.append(xx)\n",
    "    y1.append(y1a)\n",
    "    y2.append(y2b)\n",
    "    y3.append(y3c)\n",
    "    y4.append(y4d)\n",
    "    y5.append(y5e)"
   ]
  },
  {
   "cell_type": "code",
   "execution_count": 23,
   "metadata": {},
   "outputs": [
    {
     "data": {
      "text/plain": [
       "[<matplotlib.lines.Line2D at 0x7f79cb79c8b0>]"
      ]
     },
     "execution_count": 23,
     "metadata": {},
     "output_type": "execute_result"
    },
    {
     "data": {
      "image/png": "[encoded data removed]",
      "text/plain": [
       "<Figure size 640x480 with 1 Axes>"
      ]
     },
     "metadata": {},
     "output_type": "display_data"
    }
   ],
   "source": [
    "import matplotlib.pyplot as plt\n",
    "\n",
    "plt.plot(x,y3)"
   ]
  },
  {
   "cell_type": "code",
   "execution_count": 24,
   "metadata": {},
   "outputs": [
    {
     "data": {
      "image/png": "[encoded data removed]",
      "text/plain": [
       "<Figure size 2000x500 with 3 Axes>"
      ]
     },
     "metadata": {},
     "output_type": "display_data"
    }
   ],
   "source": [
    "plt.figure(figsize=(20,5))\n",
    "\n",
    "plt.subplot(1,3,1)\n",
    "plt.plot(x,y1)\n",
    "plt.xlabel('alpha')\n",
    "plt.ylabel('new edges added')\n",
    "\n",
    "\n",
    "plt.subplot(1,3,2)\n",
    "plt.plot(x,y2,label=\"after fusion\",marker=\"o\",color=\"orange\")\n",
    "plt.plot(x,y4,label='before fusion',marker='o',color='blue')\n",
    "\n",
    "plt.xlabel('alpha')\n",
    "plt.ylabel('micro F1')\n",
    "plt.title('micro F1 across alpha')\n",
    "plt.legend()\n",
    "\n",
    "\n",
    "plt.subplot(1,3,3)\n",
    "plt.plot(x,y3,label=\"after fusion\",marker=\"o\",color=\"orange\")\n",
    "plt.plot(x,y5,label='before fusion',marker='o',color='blue')\n",
    "\n",
    "plt.xlabel('alpha')\n",
    "plt.ylabel('macro F1')\n",
    "plt.title('macro F1 across alpha')\n",
    "plt.legend()\n",
    "\n",
    "plt.show()"
   ]
  },
  {
   "cell_type": "code",
   "execution_count": null,
   "metadata": {},
   "outputs": [],
   "source": []
  },
  {
   "cell_type": "markdown",
   "metadata": {},
   "source": [
    "# Method:4"
   ]
  },
  {
   "cell_type": "code",
   "execution_count": 25,
   "metadata": {},
   "outputs": [],
   "source": [
    "def evalator_m4(alpha):\n",
    "    \n",
    "    dataset = Planetoid(root='data/Planetoid', name='Cora')\n",
    "    data = dataset[0]  # The dataset contains a single graph\n",
    "    print(data)\n",
    "    data.edge_weight = torch.ones((1, data.edge_index.shape[1]), dtype=torch.float32)\n",
    "    adj_matrix = edge_index_to_adj(data.edge_index, len(data.x))\n",
    "\n",
    "    features = torch.tensor(data.x)\n",
    "    # finding feature similarity across all the nodes via dot product\n",
    "    similarities = (features@features.T)\n",
    "\n",
    "# making the diagnol elements to zero as the max similarity is obtained with a same\n",
    "    similarities = similarities * (torch.eye(len(similarities)) == 0).long()\n",
    "    \n",
    "    maxi = similarities.max()\n",
    "    print(f\"maximum cross similarity:{maxi}\")\n",
    "\n",
    "    # normalizing similarity to lie in range [0,1]\n",
    "    similarities = torch.div(similarities, maxi)\n",
    "\n",
    "    print(f\"alpha:{alpha}\")\n",
    "\n",
    "    max_similarities = (similarities > alpha).long()\n",
    "\n",
    "    prev_edges = data.edge_index\n",
    "    prev_edge_weightsss = copy.deepcopy(data.edge_weight)\n",
    "    prev_edge_weights = copy.deepcopy(data.edge_weight)  # Create a copy to preserve original weights\n",
    "\n",
    "    new_edges = torch.nonzero(max_similarities, as_tuple=False).T\n",
    "\n",
    "    new_edges_similarities = []\n",
    "    for i in range(new_edges.shape[1]):\n",
    "        new_edges_similarities.append(similarities[new_edges[0][i]][new_edges[1][i]].numpy().item())\n",
    "    max_sim = max(new_edges_similarities)\n",
    "    scaled_new_similarities = [i/max_sim for i in new_edges_similarities]\n",
    "    # print(scaled_new_similarities)\n",
    "    existing_edges = set(map(tuple, data.edge_index.T.tolist()))\n",
    "\n",
    "    common_edges = []\n",
    "    common_idxs = []\n",
    "    filtered_new_edges = []\n",
    "    filtered_edges_sim = []\n",
    "\n",
    "    # Store mapping of common edges to their similarity values\n",
    "    common_edge_to_sim = {}\n",
    "\n",
    "    for idx, edge in enumerate(new_edges.T.tolist()):\n",
    "        edge_tuple = (edge[0], edge[1])\n",
    "        if (edge[0], edge[1]) not in existing_edges and (edge[1], edge[0]) not in existing_edges:\n",
    "            filtered_new_edges.append([edge[0], edge[1]])\n",
    "            # filtered_edges_sim.append(scaled_new_similarities[idx])\n",
    "            filtered_edges_sim.append(1)\n",
    "        else:\n",
    "            common_edges.append([edge[0], edge[1]])\n",
    "            common_idxs.append(idx)\n",
    "            common_edge_to_sim[edge_tuple] = scaled_new_similarities[idx]\n",
    "    f=False\n",
    "    comm=[]\n",
    "    # Update weights of common edges in prev_edge_weights\n",
    "    if common_edges:\n",
    "        # Convert prev_edges to list of tuples for easier lookup\n",
    "        prev_edges_list = prev_edges.T.tolist()\n",
    "        for i, edge in enumerate(prev_edges_list):\n",
    "            edge_tuple = tuple(edge)\n",
    "            if edge_tuple in common_edge_to_sim:\n",
    "                f=True\n",
    "                # Update the weight (you can adjust how you want to increase it)\n",
    "                prev_edge_weights[0, i] = prev_edge_weightsss[0, i] + 1\n",
    "\n",
    "    if filtered_new_edges:\n",
    "        filtered_new_edges = torch.tensor(filtered_new_edges, dtype=torch.long).T\n",
    "        new_edges_simil = torch.tensor(filtered_edges_sim, dtype=torch.float32).reshape(1, -1)\n",
    "        \n",
    "        # Append new edges to data.edge_index\n",
    "        data.edge_index = torch.cat([data.edge_index, filtered_new_edges], dim=1)\n",
    "        data.edge_weight = torch.cat([prev_edge_weights, new_edges_simil], dim=1)\n",
    "\n",
    "    print(f\"Total new edges added: {filtered_new_edges.shape[1] if len(filtered_new_edges) > 0 else 0}\")\n",
    "    new_edges = data.edge_index\n",
    "    new_edge_weights = data.edge_weight\n",
    "\n",
    "    prev_edges_and_weights = torch.cat([prev_edges, prev_edge_weightsss], dim=0)\n",
    "    new_edges_and_weights = torch.cat([new_edges, new_edge_weights], dim=0)\n",
    "\n",
    "    print('Only Initial Edges:')\n",
    "    a1 = []\n",
    "    b1 = []\n",
    "    for i in tqdm(range(16)):\n",
    "        aa_node_ids, aa_embeddings = get_embeddings(prev_edges_and_weights, \"prev_edgelist.txt\", k=256, partition=1)\n",
    "        result = evaluate_node_classification(aa_node_ids, aa_embeddings, data)\n",
    "        a1.append(result['micro_f1'])\n",
    "        b1.append(result['macro_f1'])\n",
    "\n",
    "    print(f\"Micro-F1: {np.mean(a1):.4f} ± {np.std(a1):.4f}\")\n",
    "    print(f\"Macro-F1: {np.mean(b1):.4f} ± {np.std(b1):.4f}\")\n",
    "\n",
    "    print('Combined Edges:')\n",
    "    a2 = []\n",
    "    b2 = []\n",
    "    for i in tqdm(range(16)):\n",
    "        aa_node_ids, aa_embeddings = get_embeddings(new_edges_and_weights, \"new_edgelist.txt\", k=256, partition=1)\n",
    "        result = evaluate_node_classification(aa_node_ids, aa_embeddings, data)\n",
    "        a2.append(result['micro_f1'])\n",
    "        b2.append(result['macro_f1'])\n",
    "\n",
    "    print(f\"Micro-F1: {np.mean(a2):.4f} ± {np.std(a2):.4f}\")\n",
    "    print(f\"Macro-F1: {np.mean(b2):.4f} ± {np.std(b2):.4f}\")\n",
    "    \n",
    "    return alpha,filtered_new_edges.shape[1],np.mean(a2),np.mean(b2),np.mean(a1),np.mean(b1)"
   ]
  },
  {
   "cell_type": "code",
   "execution_count": 26,
   "metadata": {},
   "outputs": [
    {
     "name": "stdout",
     "output_type": "stream",
     "text": [
      "---------------------------------------------\n",
      "alpha: 0.0\n",
      "Data(x=[2708, 1433], edge_index=[2, 10556], y=[2708], train_mask=[2708], val_mask=[2708], test_mask=[2708])\n",
      "maximum cross similarity:25.0\n",
      "alpha:0.0\n"
     ]
    },
    {
     "name": "stderr",
     "output_type": "stream",
     "text": [
      "/tmp/ipykernel_230440/975449030.py:9: UserWarning: To copy construct from a tensor, it is recommended to use sourceTensor.clone().detach() or sourceTensor.clone().detach().requires_grad_(True), rather than torch.tensor(sourceTensor).\n",
      "  features = torch.tensor(data.x)\n"
     ]
    },
    {
     "name": "stdout",
     "output_type": "stream",
     "text": [
      "Total new edges added: 4428556\n",
      "Only Initial Edges:\n"
     ]
    },
    {
     "name": "stderr",
     "output_type": "stream",
     "text": [
      "100%|██████████| 16/16 [00:03<00:00,  5.21it/s]\n"
     ]
    },
    {
     "name": "stdout",
     "output_type": "stream",
     "text": [
      "Micro-F1: 0.6928 ± 0.0132\n",
      "Macro-F1: 0.6831 ± 0.0107\n",
      "Combined Edges:\n"
     ]
    },
    {
     "name": "stderr",
     "output_type": "stream",
     "text": [
      "100%|██████████| 16/16 [01:20<00:00,  5.06s/it]\n",
      "/tmp/ipykernel_230440/975449030.py:9: UserWarning: To copy construct from a tensor, it is recommended to use sourceTensor.clone().detach() or sourceTensor.clone().detach().requires_grad_(True), rather than torch.tensor(sourceTensor).\n",
      "  features = torch.tensor(data.x)\n"
     ]
    },
    {
     "name": "stdout",
     "output_type": "stream",
     "text": [
      "Micro-F1: 0.3013 ± 0.0029\n",
      "Macro-F1: 0.2006 ± 0.0064\n",
      "---------------------------------------------\n",
      "alpha: 0.1\n",
      "Data(x=[2708, 1433], edge_index=[2, 10556], y=[2708], train_mask=[2708], val_mask=[2708], test_mask=[2708])\n",
      "maximum cross similarity:25.0\n",
      "alpha:0.1\n",
      "Total new edges added: 762060\n",
      "Only Initial Edges:\n"
     ]
    },
    {
     "name": "stderr",
     "output_type": "stream",
     "text": [
      "100%|██████████| 16/16 [00:03<00:00,  4.94it/s]\n"
     ]
    },
    {
     "name": "stdout",
     "output_type": "stream",
     "text": [
      "Micro-F1: 0.6848 ± 0.0117\n",
      "Macro-F1: 0.6794 ± 0.0093\n",
      "Combined Edges:\n"
     ]
    },
    {
     "name": "stderr",
     "output_type": "stream",
     "text": [
      "100%|██████████| 16/16 [00:16<00:00,  1.04s/it]\n",
      "/tmp/ipykernel_230440/975449030.py:9: UserWarning: To copy construct from a tensor, it is recommended to use sourceTensor.clone().detach() or sourceTensor.clone().detach().requires_grad_(True), rather than torch.tensor(sourceTensor).\n",
      "  features = torch.tensor(data.x)\n"
     ]
    },
    {
     "name": "stdout",
     "output_type": "stream",
     "text": [
      "Micro-F1: 0.5400 ± 0.0000\n",
      "Macro-F1: 0.4131 ± 0.0000\n",
      "---------------------------------------------\n",
      "alpha: 0.2\n",
      "Data(x=[2708, 1433], edge_index=[2, 10556], y=[2708], train_mask=[2708], val_mask=[2708], test_mask=[2708])\n",
      "maximum cross similarity:25.0\n",
      "alpha:0.2\n",
      "Total new edges added: 16050\n",
      "Only Initial Edges:\n"
     ]
    },
    {
     "name": "stderr",
     "output_type": "stream",
     "text": [
      "100%|██████████| 16/16 [00:03<00:00,  5.04it/s]\n"
     ]
    },
    {
     "name": "stdout",
     "output_type": "stream",
     "text": [
      "Micro-F1: 0.6795 ± 0.0090\n",
      "Macro-F1: 0.6756 ± 0.0091\n",
      "Combined Edges:\n"
     ]
    },
    {
     "name": "stderr",
     "output_type": "stream",
     "text": [
      "100%|██████████| 16/16 [00:03<00:00,  4.62it/s]\n",
      "/tmp/ipykernel_230440/975449030.py:9: UserWarning: To copy construct from a tensor, it is recommended to use sourceTensor.clone().detach() or sourceTensor.clone().detach().requires_grad_(True), rather than torch.tensor(sourceTensor).\n",
      "  features = torch.tensor(data.x)\n"
     ]
    },
    {
     "name": "stdout",
     "output_type": "stream",
     "text": [
      "Micro-F1: 0.6754 ± 0.0112\n",
      "Macro-F1: 0.6663 ± 0.0067\n",
      "---------------------------------------------\n",
      "alpha: 0.3\n",
      "Data(x=[2708, 1433], edge_index=[2, 10556], y=[2708], train_mask=[2708], val_mask=[2708], test_mask=[2708])\n",
      "maximum cross similarity:25.0\n",
      "alpha:0.3\n",
      "Total new edges added: 1168\n",
      "Only Initial Edges:\n"
     ]
    },
    {
     "name": "stderr",
     "output_type": "stream",
     "text": [
      "100%|██████████| 16/16 [00:03<00:00,  5.14it/s]\n"
     ]
    },
    {
     "name": "stdout",
     "output_type": "stream",
     "text": [
      "Micro-F1: 0.6777 ± 0.0056\n",
      "Macro-F1: 0.6731 ± 0.0056\n",
      "Combined Edges:\n"
     ]
    },
    {
     "name": "stderr",
     "output_type": "stream",
     "text": [
      "100%|██████████| 16/16 [00:04<00:00,  3.32it/s]\n",
      "/tmp/ipykernel_230440/975449030.py:9: UserWarning: To copy construct from a tensor, it is recommended to use sourceTensor.clone().detach() or sourceTensor.clone().detach().requires_grad_(True), rather than torch.tensor(sourceTensor).\n",
      "  features = torch.tensor(data.x)\n"
     ]
    },
    {
     "name": "stdout",
     "output_type": "stream",
     "text": [
      "Micro-F1: 0.7012 ± 0.0078\n",
      "Macro-F1: 0.6913 ± 0.0073\n",
      "---------------------------------------------\n",
      "alpha: 0.4\n",
      "Data(x=[2708, 1433], edge_index=[2, 10556], y=[2708], train_mask=[2708], val_mask=[2708], test_mask=[2708])\n",
      "maximum cross similarity:25.0\n",
      "alpha:0.4\n",
      "Total new edges added: 180\n",
      "Only Initial Edges:\n"
     ]
    },
    {
     "name": "stderr",
     "output_type": "stream",
     "text": [
      "100%|██████████| 16/16 [00:03<00:00,  4.85it/s]\n"
     ]
    },
    {
     "name": "stdout",
     "output_type": "stream",
     "text": [
      "Micro-F1: 0.6775 ± 0.0110\n",
      "Macro-F1: 0.6738 ± 0.0102\n",
      "Combined Edges:\n"
     ]
    },
    {
     "name": "stderr",
     "output_type": "stream",
     "text": [
      "100%|██████████| 16/16 [00:03<00:00,  4.94it/s]\n",
      "/tmp/ipykernel_230440/975449030.py:9: UserWarning: To copy construct from a tensor, it is recommended to use sourceTensor.clone().detach() or sourceTensor.clone().detach().requires_grad_(True), rather than torch.tensor(sourceTensor).\n",
      "  features = torch.tensor(data.x)\n"
     ]
    },
    {
     "name": "stdout",
     "output_type": "stream",
     "text": [
      "Micro-F1: 0.6870 ± 0.0132\n",
      "Macro-F1: 0.6821 ± 0.0071\n",
      "---------------------------------------------\n",
      "alpha: 0.5\n",
      "Data(x=[2708, 1433], edge_index=[2, 10556], y=[2708], train_mask=[2708], val_mask=[2708], test_mask=[2708])\n",
      "maximum cross similarity:25.0\n",
      "alpha:0.5\n",
      "Total new edges added: 126\n",
      "Only Initial Edges:\n"
     ]
    },
    {
     "name": "stderr",
     "output_type": "stream",
     "text": [
      "100%|██████████| 16/16 [00:02<00:00,  5.39it/s]\n"
     ]
    },
    {
     "name": "stdout",
     "output_type": "stream",
     "text": [
      "Micro-F1: 0.6848 ± 0.0085\n",
      "Macro-F1: 0.6787 ± 0.0059\n",
      "Combined Edges:\n"
     ]
    },
    {
     "name": "stderr",
     "output_type": "stream",
     "text": [
      "100%|██████████| 16/16 [00:03<00:00,  5.11it/s]\n",
      "/tmp/ipykernel_230440/975449030.py:9: UserWarning: To copy construct from a tensor, it is recommended to use sourceTensor.clone().detach() or sourceTensor.clone().detach().requires_grad_(True), rather than torch.tensor(sourceTensor).\n",
      "  features = torch.tensor(data.x)\n"
     ]
    },
    {
     "name": "stdout",
     "output_type": "stream",
     "text": [
      "Micro-F1: 0.6924 ± 0.0100\n",
      "Macro-F1: 0.6768 ± 0.0085\n",
      "---------------------------------------------\n",
      "alpha: 0.6\n",
      "Data(x=[2708, 1433], edge_index=[2, 10556], y=[2708], train_mask=[2708], val_mask=[2708], test_mask=[2708])\n",
      "maximum cross similarity:25.0\n",
      "alpha:0.6\n",
      "Total new edges added: 92\n",
      "Only Initial Edges:\n"
     ]
    },
    {
     "name": "stderr",
     "output_type": "stream",
     "text": [
      "100%|██████████| 16/16 [00:03<00:00,  5.08it/s]\n"
     ]
    },
    {
     "name": "stdout",
     "output_type": "stream",
     "text": [
      "Micro-F1: 0.6947 ± 0.0067\n",
      "Macro-F1: 0.6862 ± 0.0062\n",
      "Combined Edges:\n"
     ]
    },
    {
     "name": "stderr",
     "output_type": "stream",
     "text": [
      "100%|██████████| 16/16 [00:03<00:00,  4.97it/s]\n",
      "/tmp/ipykernel_230440/975449030.py:9: UserWarning: To copy construct from a tensor, it is recommended to use sourceTensor.clone().detach() or sourceTensor.clone().detach().requires_grad_(True), rather than torch.tensor(sourceTensor).\n",
      "  features = torch.tensor(data.x)\n"
     ]
    },
    {
     "name": "stdout",
     "output_type": "stream",
     "text": [
      "Micro-F1: 0.6834 ± 0.0074\n",
      "Macro-F1: 0.6751 ± 0.0042\n",
      "---------------------------------------------\n",
      "alpha: 0.7\n",
      "Data(x=[2708, 1433], edge_index=[2, 10556], y=[2708], train_mask=[2708], val_mask=[2708], test_mask=[2708])\n",
      "maximum cross similarity:25.0\n",
      "alpha:0.7\n",
      "Total new edges added: 74\n",
      "Only Initial Edges:\n"
     ]
    },
    {
     "name": "stderr",
     "output_type": "stream",
     "text": [
      "100%|██████████| 16/16 [00:03<00:00,  4.96it/s]\n"
     ]
    },
    {
     "name": "stdout",
     "output_type": "stream",
     "text": [
      "Micro-F1: 0.6823 ± 0.0064\n",
      "Macro-F1: 0.6797 ± 0.0083\n",
      "Combined Edges:\n"
     ]
    },
    {
     "name": "stderr",
     "output_type": "stream",
     "text": [
      "100%|██████████| 16/16 [00:03<00:00,  4.88it/s]\n",
      "/tmp/ipykernel_230440/975449030.py:9: UserWarning: To copy construct from a tensor, it is recommended to use sourceTensor.clone().detach() or sourceTensor.clone().detach().requires_grad_(True), rather than torch.tensor(sourceTensor).\n",
      "  features = torch.tensor(data.x)\n"
     ]
    },
    {
     "name": "stdout",
     "output_type": "stream",
     "text": [
      "Micro-F1: 0.6823 ± 0.0053\n",
      "Macro-F1: 0.6783 ± 0.0057\n",
      "---------------------------------------------\n",
      "alpha: 0.8\n",
      "Data(x=[2708, 1433], edge_index=[2, 10556], y=[2708], train_mask=[2708], val_mask=[2708], test_mask=[2708])\n",
      "maximum cross similarity:25.0\n",
      "alpha:0.8\n",
      "Total new edges added: 34\n",
      "Only Initial Edges:\n"
     ]
    },
    {
     "name": "stderr",
     "output_type": "stream",
     "text": [
      "100%|██████████| 16/16 [00:03<00:00,  4.88it/s]\n"
     ]
    },
    {
     "name": "stdout",
     "output_type": "stream",
     "text": [
      "Micro-F1: 0.6895 ± 0.0089\n",
      "Macro-F1: 0.6859 ± 0.0076\n",
      "Combined Edges:\n"
     ]
    },
    {
     "name": "stderr",
     "output_type": "stream",
     "text": [
      "100%|██████████| 16/16 [00:05<00:00,  3.03it/s]\n",
      "/tmp/ipykernel_230440/975449030.py:9: UserWarning: To copy construct from a tensor, it is recommended to use sourceTensor.clone().detach() or sourceTensor.clone().detach().requires_grad_(True), rather than torch.tensor(sourceTensor).\n",
      "  features = torch.tensor(data.x)\n"
     ]
    },
    {
     "name": "stdout",
     "output_type": "stream",
     "text": [
      "Micro-F1: 0.6881 ± 0.0055\n",
      "Macro-F1: 0.6792 ± 0.0049\n",
      "---------------------------------------------\n",
      "alpha: 0.9\n",
      "Data(x=[2708, 1433], edge_index=[2, 10556], y=[2708], train_mask=[2708], val_mask=[2708], test_mask=[2708])\n",
      "maximum cross similarity:25.0\n",
      "alpha:0.9\n",
      "Total new edges added: 22\n",
      "Only Initial Edges:\n"
     ]
    },
    {
     "name": "stderr",
     "output_type": "stream",
     "text": [
      "100%|██████████| 16/16 [00:03<00:00,  5.04it/s]\n"
     ]
    },
    {
     "name": "stdout",
     "output_type": "stream",
     "text": [
      "Micro-F1: 0.6886 ± 0.0079\n",
      "Macro-F1: 0.6820 ± 0.0051\n",
      "Combined Edges:\n"
     ]
    },
    {
     "name": "stderr",
     "output_type": "stream",
     "text": [
      "100%|██████████| 16/16 [00:03<00:00,  4.84it/s]"
     ]
    },
    {
     "name": "stdout",
     "output_type": "stream",
     "text": [
      "Micro-F1: 0.6996 ± 0.0131\n",
      "Macro-F1: 0.6900 ± 0.0110\n"
     ]
    },
    {
     "name": "stderr",
     "output_type": "stream",
     "text": [
      "\n"
     ]
    }
   ],
   "source": [
    "x=[] #alpha\n",
    "y1=[] # edge count added\n",
    "y2=[] #micro\n",
    "y3=[] #macro\n",
    "y4=[]# micro\n",
    "y5=[] # marcro\n",
    "for alpha in range(0,10):\n",
    "    print(\"---------------------------------------------\")\n",
    "    alpha=alpha/10\n",
    "    print(\"alpha:\",alpha)\n",
    "    xx,y1a,y2b,y3c,y4d,y5e=evalator_m4(alpha)\n",
    "    x.append(xx)\n",
    "    y1.append(y1a)\n",
    "    y2.append(y2b)\n",
    "    y3.append(y3c)\n",
    "    y4.append(y4d)\n",
    "    y5.append(y5e)"
   ]
  },
  {
   "cell_type": "code",
   "execution_count": 27,
   "metadata": {},
   "outputs": [
    {
     "data": {
      "text/plain": [
       "[<matplotlib.lines.Line2D at 0x7f79cb767fa0>]"
      ]
     },
     "execution_count": 27,
     "metadata": {},
     "output_type": "execute_result"
    },
    {
     "data": {
      "image/png": "[encoded data removed]",
      "text/plain": [
       "<Figure size 640x480 with 1 Axes>"
      ]
     },
     "metadata": {},
     "output_type": "display_data"
    }
   ],
   "source": [
    "import matplotlib.pyplot as plt\n",
    "\n",
    "plt.plot(x,y3)"
   ]
  },
  {
   "cell_type": "code",
   "execution_count": 28,
   "metadata": {},
   "outputs": [
    {
     "data": {
      "image/png": "[encoded data removed]",
      "text/plain": [
       "<Figure size 2000x500 with 3 Axes>"
      ]
     },
     "metadata": {},
     "output_type": "display_data"
    }
   ],
   "source": [
    "plt.figure(figsize=(20,5))\n",
    "\n",
    "plt.subplot(1,3,1)\n",
    "plt.plot(x,y1)\n",
    "plt.xlabel('alpha')\n",
    "plt.ylabel('new edges added')\n",
    "\n",
    "\n",
    "plt.subplot(1,3,2)\n",
    "plt.plot(x,y2,label=\"after fusion\",marker=\"o\",color=\"orange\")\n",
    "plt.plot(x,y4,label='before fusion',marker='o',color='blue')\n",
    "\n",
    "plt.xlabel('alpha')\n",
    "plt.ylabel('micro F1')\n",
    "plt.title('micro F1 across alpha')\n",
    "plt.legend()\n",
    "\n",
    "\n",
    "plt.subplot(1,3,3)\n",
    "plt.plot(x,y2,label=\"after fusion\",marker=\"o\",color=\"orange\")\n",
    "plt.plot(x,y4,label='before fusion',marker='o',color='blue')\n",
    "\n",
    "plt.xlabel('alpha')\n",
    "plt.ylabel('macro F1')\n",
    "plt.title('macro F1 across alpha')\n",
    "plt.legend()\n",
    "\n",
    "plt.show()"
   ]
  },
  {
   "cell_type": "code",
   "execution_count": null,
   "metadata": {},
   "outputs": [],
   "source": []
  }
 ],
 "metadata": {
  "kernelspec": {
   "display_name": "StableVITON",
   "language": "python",
   "name": "python3"
  },
  "language_info": {
   "codemirror_mode": {
    "name": "ipython",
    "version": 3
   },
   "file_extension": ".py",
   "mimetype": "text/x-python",
   "name": "python",
   "nbconvert_exporter": "python",
   "pygments_lexer": "ipython3",
   "version": "3.10.15"
  }
 },
 "nbformat": 4,
 "nbformat_minor": 2
}

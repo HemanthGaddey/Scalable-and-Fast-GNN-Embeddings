{
 "cells": [
  {
   "cell_type": "code",
   "execution_count": 1,
   "metadata": {},
   "outputs": [
    {
     "name": "stderr",
     "output_type": "stream",
     "text": [
      "/home/bolt17/miniconda3/envs/StableVITON/lib/python3.10/site-packages/tqdm/auto.py:21: TqdmWarning: IProgress not found. Please update jupyter and ipywidgets. See https://ipywidgets.readthedocs.io/en/stable/user_install.html\n",
      "  from .autonotebook import tqdm as notebook_tqdm\n"
     ]
    }
   ],
   "source": [
    "import torch\n",
    "import torch.nn.functional as F\n",
    "from torch_geometric.datasets import Flickr, Coauthor, CoraFull, Planetoid\n",
    "from torch_geometric.nn import GCNConv\n",
    "from torch_geometric.loader import NeighborLoader\n",
    "from tqdm import tqdm\n",
    "import matplotlib.pyplot as plt\n",
    "import numpy as np\n",
    "import pandas as pd\n",
    "import os\n",
    "from tqdm import tqdm\n",
    "import networkx as nx\n",
    "from sklearn.linear_model import LogisticRegression\n",
    "from sklearn.metrics import f1_score"
   ]
  },
  {
   "cell_type": "code",
   "execution_count": 2,
   "metadata": {},
   "outputs": [
    {
     "name": "stdout",
     "output_type": "stream",
     "text": [
      "Data(x=[2708, 1433], edge_index=[2, 10556], y=[2708], train_mask=[2708], val_mask=[2708], test_mask=[2708])\n"
     ]
    },
    {
     "name": "stderr",
     "output_type": "stream",
     "text": [
      "/tmp/ipykernel_3566/1516843027.py:21: UserWarning: To copy construct from a tensor, it is recommended to use sourceTensor.clone().detach() or sourceTensor.clone().detach().requires_grad_(True), rather than torch.tensor(sourceTensor).\n",
      "  features = torch.tensor(data.x)\n"
     ]
    }
   ],
   "source": [
    "SEED=548\n",
    "np.random.seed(SEED)\n",
    "torch.manual_seed(SEED)\n",
    "torch.cuda.manual_seed(SEED)\n",
    "torch.cuda.manual_seed_all(SEED)\n",
    "torch.backends.cudnn.deterministic = True\n",
    "torch.backends.cudnn.benchmark = False\n",
    "import sklearn\n",
    "sklearn.utils.check_random_state(SEED)\n",
    "#-----------------------------------------\n",
    "def edge_index_to_adj(edge_index, num_nodes):\n",
    "    values = torch.ones(edge_index.shape[1])\n",
    "    adj_matrix = torch.sparse_coo_tensor(edge_index, values, (num_nodes, num_nodes))\n",
    "    return adj_matrix.to_dense()\n",
    "\n",
    "dataset = Planetoid(root='data/Planetoid', name='Cora')\n",
    "data = dataset[0]  # The dataset contains a single graph\n",
    "print(data)\n",
    "adj_matrix = edge_index_to_adj(data.edge_index, len(data.x))\n",
    "\n",
    "features = torch.tensor(data.x)\n",
    "# finding feature similarity across all the nodes via dot product\n",
    "similarities = (features@features.T)\n",
    "\n",
    "# making the diagnol elements to zero as the max similarity is obtained with a same\n",
    "similarities = similarities * (torch.eye(len(similarities)) == 0).long()"
   ]
  },
  {
   "cell_type": "code",
   "execution_count": 3,
   "metadata": {},
   "outputs": [],
   "source": [
    "data.edge_weight = torch.ones((1, data.edge_index.shape[1]), dtype=torch.float32)"
   ]
  },
  {
   "cell_type": "code",
   "execution_count": null,
   "metadata": {},
   "outputs": [
    {
     "name": "stdout",
     "output_type": "stream",
     "text": [
      "maximum cross similarity:25.0\n",
      "alpha:0.3\n",
      "1650\n",
      "Total new edges added: 1168\n",
      "previous_edges:10556\n",
      "new_edges:11724\n"
     ]
    }
   ],
   "source": [
    "maxi=similarities.max()\n",
    "# for i in range(similarities.shape[0]):\n",
    "#     for j in range(similarities.shape[1]):\n",
    "#         if similarities[i][j]>maxi:\n",
    "#             maxi=similarities[i][j]\n",
    "print(f\"maximum cross similarity:{maxi}\")\n",
    "\n",
    "# normalizing similarty to lie in range [0,1]\n",
    "similarities=torch.div(similarities, maxi)\n",
    "\n",
    "alpha = 0.3\n",
    "print(f\"alpha:{alpha}\")\n",
    "max_similarities = (similarities > alpha).long()\n",
    "\n",
    "new_edges = torch.nonzero(max_similarities, as_tuple=False).T\n",
    "print(len(new_edges[1]))\n",
    "existing_edges = set(map(tuple, data.edge_index.T.tolist()))\n",
    "\n",
    "# check if there is a common edges between the ones we found and existing ones\n",
    "filtered_new_edges = []\n",
    "for i, j in new_edges.T.tolist():\n",
    "    if (i, j) not in existing_edges and (j, i) not in existing_edges:  # Avoid duplicates\n",
    "        filtered_new_edges.append([i, j])\n",
    "\n",
    "# print(filtered_new_edges)\n",
    "\n",
    "prev_edges = data.edge_index\n",
    "prev_edge_weights = data.edge_weight\n",
    "if filtered_new_edges:\n",
    "    filtered_new_edges = torch.tensor(filtered_new_edges, dtype=torch.long).T  # Shape: [2, num_new_edges]\n",
    "\n",
    "    # Append new edges to data.edge_index\n",
    "\n",
    "    data.edge_index = torch.cat([data.edge_index, filtered_new_edges], dim=1)\n",
    "\n",
    "print(f\"Total new edges added: {filtered_new_edges.shape[1] if len(filtered_new_edges) > 0 else 0}\")\n",
    "data.edge_weight = torch.ones((1, data.edge_index.shape[1]), dtype=torch.float32)\n",
    "new_edges = data.edge_index\n",
    "new_edge_weights = data.edge_weight\n",
    "print(f\"previous_edges:{len(prev_edges[0])}\")\n",
    "print(f\"new_edges:{len(new_edges[0])}\")\n"
   ]
  },
  {
   "cell_type": "code",
   "execution_count": null,
   "metadata": {},
   "outputs": [
    {
     "name": "stdout",
     "output_type": "stream",
     "text": [
      "torch.Size([3, 10556])\n",
      "torch.Size([3, 11724])\n"
     ]
    }
   ],
   "source": [
    "prev_edges_and_weights = torch.cat([prev_edges, prev_edge_weights], dim=0)\n",
    "print(prev_edges_and_weights.shape)\n",
    "new_edges_and_weights = torch.cat([new_edges, new_edge_weights], dim=0)\n",
    "print(new_edges_and_weights.shape)"
   ]
  },
  {
   "cell_type": "code",
   "execution_count": 6,
   "metadata": {},
   "outputs": [],
   "source": [
    "# save_edges = lambda args: pd.DataFrame(args[0].T).to_csv(args[1],index=None, header=None, sep=' ', mode='a')\n",
    "save_edges = lambda args: pd.DataFrame(args[0].T, columns=['col1', 'col2', 'col3']).astype(\n",
    "    {'col1': int, 'col2': int, 'col3': int}\n",
    ").to_csv(args[1], index=None, header=None, sep=' ', mode='a', float_format='%.1f')\n",
    "def get_embeddings(\n",
    "    edges, \n",
    "    edges_name=\"edgelist.txt\", \n",
    "    k=128,  # Embedding dimension\n",
    "    a=0.01,  # damping parameter\n",
    "    partition=1,\n",
    "    output=False\n",
    "):\n",
    "    '''\n",
    "    \"partition\": the partition algorithm to use, default is 1.\n",
    "    0: random bisection\n",
    "    1: Louvain partition\n",
    "    2: Louvain first-level partition\n",
    "    3: Label Propagation partition\n",
    "    '''\n",
    "    open(edges_name,'w').close()\n",
    "    save_edges((edges, edges_name))\n",
    "\n",
    "    if not os.path.exists('./hierarchy.txt'):\n",
    "        os.mknod('./hierarchy.txt')\n",
    "    else:\n",
    "        open('hierarchy.txt','w').close()\n",
    "    if not os.path.exists('./vectors.txt'):\n",
    "        os.mknod('./vectors.txt')\n",
    "    else:\n",
    "        open('vectors.txt','w').close()\n",
    "    \n",
    "    # do hierarchical clustering using Louvain algorithm\n",
    "    endstr = '> /dev/null 2>&1'\n",
    "    if(output):\n",
    "        endstr = ''\n",
    "    os.system(f'./LouvainNE/recpart ./{edges_name} ./hierarchy.txt {partition} {endstr}')\n",
    "    \n",
    "    # obtain node embedding of each node at every hierarchy\n",
    "    os.system(f'./LouvainNE/hi2vec {k} {a} ./hierarchy.txt ./vectors.txt {endstr}')\n",
    "    \n",
    "    # Path to your output node embeddings text file\n",
    "    file_path = 'vectors.txt'\n",
    "\n",
    "    data_ = np.loadtxt(file_path)\n",
    "    data_tensor = torch.from_numpy(data_)\n",
    "    # The first column contains node IDs\n",
    "    node_ids = data_tensor[:, 0].to(torch.int)\n",
    "    # The remaining columns contain embeddings\n",
    "    embeddings = data_tensor[:, 1:]\n",
    "    return node_ids, embeddings"
   ]
  },
  {
   "cell_type": "code",
   "execution_count": 7,
   "metadata": {},
   "outputs": [],
   "source": [
    "def evaluate_node_classification(aa_node_ids, aa_embeddings, data):\n",
    "    \"\"\"\n",
    "    Evaluates multi-class node classification using Logistic Regression.\n",
    "\n",
    "    Args:\n",
    "        aa_node_ids: List of node IDs.\n",
    "        aa_embeddings: Corresponding node embeddings.\n",
    "        data: PyTorch Geometric data object containing labels and masks.\n",
    "\n",
    "    Returns:\n",
    "        Micro-F1 and Macro-F1 scores.\n",
    "    \"\"\"\n",
    "\n",
    "    # Map node IDs to indices in embeddings\n",
    "    node_to_idx = {node_id.item(): idx for idx, node_id in enumerate(aa_node_ids)}\n",
    "\n",
    "    # Reorder embeddings to match the label ordering\n",
    "    ordered_embeddings = np.zeros((len(data.y), aa_embeddings.shape[1]))\n",
    "    for i in range(len(data.y)):\n",
    "        ordered_embeddings[i] = aa_embeddings[node_to_idx[i]]\n",
    "\n",
    "    # Convert masks to NumPy arrays\n",
    "    train_mask = data.train_mask.numpy()\n",
    "    test_mask = data.test_mask.numpy()\n",
    "\n",
    "    # Prepare train and test data\n",
    "    X_train, X_test = ordered_embeddings[train_mask], ordered_embeddings[test_mask]\n",
    "    y_train, y_test = data.y[train_mask].numpy(), data.y[test_mask].numpy()\n",
    "\n",
    "    # Train Logistic Regression classifier\n",
    "    clf = LogisticRegression(max_iter=1000, solver='lbfgs')\n",
    "    clf.fit(X_train, y_train)\n",
    "\n",
    "    # Predict on the test set\n",
    "    y_pred = clf.predict(X_test)\n",
    "\n",
    "    # Compute Micro-F1 and Macro-F1 scores\n",
    "    micro_f1 = f1_score(y_test, y_pred, average='micro')\n",
    "    macro_f1 = f1_score(y_test, y_pred, average='macro')\n",
    "\n",
    "    return {\n",
    "        'micro_f1': micro_f1,\n",
    "        'macro_f1': macro_f1\n",
    "    }\n"
   ]
  },
  {
   "cell_type": "code",
   "execution_count": 8,
   "metadata": {},
   "outputs": [
    {
     "name": "stdout",
     "output_type": "stream",
     "text": [
      "Only Initial Edges:\n"
     ]
    },
    {
     "name": "stderr",
     "output_type": "stream",
     "text": [
      "100%|██████████| 16/16 [00:05<00:00,  3.20it/s]\n"
     ]
    },
    {
     "name": "stdout",
     "output_type": "stream",
     "text": [
      "Micro-F1: 0.6877 ± 0.0072\n",
      "Macro-F1: 0.6807 ± 0.0063\n",
      "Combined Edges:\n"
     ]
    },
    {
     "name": "stderr",
     "output_type": "stream",
     "text": [
      "100%|██████████| 16/16 [00:03<00:00,  5.11it/s]"
     ]
    },
    {
     "name": "stdout",
     "output_type": "stream",
     "text": [
      "Micro-F1: 0.7371 ± 0.0041\n",
      "Macro-F1: 0.7327 ± 0.0048\n"
     ]
    },
    {
     "name": "stderr",
     "output_type": "stream",
     "text": [
      "\n"
     ]
    }
   ],
   "source": [
    "print('Only Initial Edges:')\n",
    "\n",
    "\n",
    "a = []\n",
    "b = []\n",
    "for i in tqdm(range(16)):\n",
    "    aa_node_ids, aa_embeddings = get_embeddings(prev_edges_and_weights, \"prev_edgelist.txt\", k=256, partition=1)\n",
    "    # print(aa_node_ids.shape)\n",
    "    # print(aa_embeddings.shape)\n",
    "    result = evaluate_node_classification(aa_node_ids, aa_embeddings, data)\n",
    "    a.append(result['micro_f1'])\n",
    "    b.append(result['macro_f1'])\n",
    "\n",
    "print(f\"Micro-F1: {np.mean(a):.4f} ± {np.std(a):.4f}\")\n",
    "print(f\"Macro-F1: {np.mean(b):.4f} ± {np.std(b):.4f}\")\n",
    "\n",
    "print('Combined Edges:')\n",
    "a = []\n",
    "b = []\n",
    "for i in tqdm(range(16)):\n",
    "    aa_node_ids, aa_embeddings = get_embeddings(new_edges_and_weights, \"new_edgelist.txt\", k=256, partition=1)\n",
    "    result = evaluate_node_classification(aa_node_ids, aa_embeddings, data)\n",
    "    a.append(result['micro_f1'])\n",
    "    b.append(result['macro_f1'])\n",
    "\n",
    "print(f\"Micro-F1: {np.mean(a):.4f} ± {np.std(a):.4f}\")\n",
    "print(f\"Macro-F1: {np.mean(b):.4f} ± {np.std(b):.4f}\")"
   ]
  },
  {
   "cell_type": "markdown",
   "metadata": {},
   "source": [
    "after making changes to recpart.c, run this command\n",
    "\n",
    "gcc -o recpart recpart.c partition.c -lm -O2"
   ]
  },
  {
   "cell_type": "code",
   "execution_count": 15,
   "metadata": {},
   "outputs": [],
   "source": [
    "def evalator(alpha):\n",
    "    \n",
    "    dataset = Planetoid(root='data/Planetoid', name='Cora')\n",
    "    data = dataset[0]  # The dataset contains a single graph\n",
    "    print(data)\n",
    "    data.edge_weight = torch.ones((1, data.edge_index.shape[1]), dtype=torch.float32)\n",
    "    adj_matrix = edge_index_to_adj(data.edge_index, len(data.x))\n",
    "\n",
    "    features = torch.tensor(data.x)\n",
    "    # finding feature similarity across all the nodes via dot product\n",
    "    similarities = (features@features.T)\n",
    "\n",
    "# making the diagnol elements to zero as the max similarity is obtained with a same\n",
    "    similarities = similarities * (torch.eye(len(similarities)) == 0).long()\n",
    "    \n",
    "    maxi=similarities.max()\n",
    "\n",
    "# normalizing similarty to lie in range [0,1]\n",
    "    similarities=torch.div(similarities, maxi)\n",
    "    \n",
    "    max_similarities = (similarities > alpha).long()\n",
    "    \n",
    "    new_edges = torch.nonzero(max_similarities, as_tuple=False).T\n",
    "\n",
    "    existing_edges = set(map(tuple, data.edge_index.T.tolist()))\n",
    "\n",
    "    # check if there is a common edges between the ones we found and existing ones\n",
    "    filtered_new_edges = []\n",
    "    for i, j in new_edges.T.tolist():\n",
    "        if (i, j) not in existing_edges and (j, i) not in existing_edges:  # Avoid duplicates\n",
    "            filtered_new_edges.append([i, j])\n",
    "\n",
    "    # print(filtered_new_edges)\n",
    "\n",
    "    prev_edges = data.edge_index\n",
    "    prev_edge_weights = data.edge_weight\n",
    "    if filtered_new_edges:\n",
    "        filtered_new_edges = torch.tensor(filtered_new_edges, dtype=torch.long).T  # Shape: [2, num_new_edges]\n",
    "\n",
    "        # Append new edges to data.edge_index\n",
    "\n",
    "        data.edge_index = torch.cat([data.edge_index, filtered_new_edges], dim=1)\n",
    "\n",
    "    # print(f\"Total new edges added: {filtered_new_edges.shape[1] if len(filtered_new_edges) > 0 else 0}\")\n",
    "    data.edge_weight = torch.ones((1, data.edge_index.shape[1]), dtype=torch.float32)\n",
    "    new_edges = data.edge_index\n",
    "    new_edge_weights = data.edge_weight\n",
    "\n",
    "    prev_edges_and_weights = torch.cat([prev_edges, prev_edge_weights], dim=0)\n",
    "\n",
    "    new_edges_and_weights = torch.cat([new_edges, new_edge_weights], dim=0)\n",
    "\n",
    "    a1 = []\n",
    "    b1 = []\n",
    "    for i in tqdm(range(16)):\n",
    "        aa_node_ids, aa_embeddings = get_embeddings(prev_edges_and_weights, \"prev_edgelist.txt\", k=256, partition=1)\n",
    "        result = evaluate_node_classification(aa_node_ids, aa_embeddings, data)\n",
    "        a1.append(result['micro_f1'])\n",
    "        b1.append(result['macro_f1'])\n",
    "\n",
    "    print(f\"Micro-F1: {np.mean(a1):.4f} ± {np.std(a1):.4f}\")\n",
    "    print(f\"Macro-F1: {np.mean(b1):.4f} ± {np.std(b1):.4f}\")\n",
    "\n",
    "    print('Combined Edges:')\n",
    "    a2 = []\n",
    "    b2 = []\n",
    "    for i in tqdm(range(16)):\n",
    "        aa_node_ids, aa_embeddings = get_embeddings(new_edges_and_weights, \"new_edgelist.txt\", k=256, partition=1)\n",
    "        result = evaluate_node_classification(aa_node_ids, aa_embeddings, data)\n",
    "        a2.append(result['micro_f1'])\n",
    "        b2.append(result['macro_f1'])\n",
    "\n",
    "    print(f\"Micro-F1: {np.mean(a2):.4f} ± {np.std(a2):.4f}\")\n",
    "    print(f\"Macro-F1: {np.mean(b2):.4f} ± {np.std(b2):.4f}\")\n",
    "    \n",
    "    return alpha,filtered_new_edges.shape[1],np.mean(a2),np.mean(b2),np.mean(a1),np.mean(b1)"
   ]
  },
  {
   "cell_type": "code",
   "execution_count": 20,
   "metadata": {},
   "outputs": [
    {
     "name": "stdout",
     "output_type": "stream",
     "text": [
      "---------------------------------------------\n",
      "alpha: 0.0\n",
      "Data(x=[2708, 1433], edge_index=[2, 10556], y=[2708], train_mask=[2708], val_mask=[2708], test_mask=[2708])\n"
     ]
    },
    {
     "name": "stderr",
     "output_type": "stream",
     "text": [
      "/tmp/ipykernel_3566/2519546106.py:9: UserWarning: To copy construct from a tensor, it is recommended to use sourceTensor.clone().detach() or sourceTensor.clone().detach().requires_grad_(True), rather than torch.tensor(sourceTensor).\n",
      "  features = torch.tensor(data.x)\n",
      "100%|██████████| 16/16 [00:02<00:00,  5.46it/s]\n"
     ]
    },
    {
     "name": "stdout",
     "output_type": "stream",
     "text": [
      "Micro-F1: 0.6819 ± 0.0078\n",
      "Macro-F1: 0.6789 ± 0.0064\n",
      "Combined Edges:\n"
     ]
    },
    {
     "name": "stderr",
     "output_type": "stream",
     "text": [
      "100%|██████████| 16/16 [00:43<00:00,  2.75s/it]\n",
      "/tmp/ipykernel_3566/2519546106.py:9: UserWarning: To copy construct from a tensor, it is recommended to use sourceTensor.clone().detach() or sourceTensor.clone().detach().requires_grad_(True), rather than torch.tensor(sourceTensor).\n",
      "  features = torch.tensor(data.x)\n"
     ]
    },
    {
     "name": "stdout",
     "output_type": "stream",
     "text": [
      "Micro-F1: 0.3260 ± 0.0000\n",
      "Macro-F1: 0.2301 ± 0.0000\n",
      "---------------------------------------------\n",
      "alpha: 0.1\n",
      "Data(x=[2708, 1433], edge_index=[2, 10556], y=[2708], train_mask=[2708], val_mask=[2708], test_mask=[2708])\n"
     ]
    },
    {
     "name": "stderr",
     "output_type": "stream",
     "text": [
      "100%|██████████| 16/16 [00:04<00:00,  3.51it/s]\n"
     ]
    },
    {
     "name": "stdout",
     "output_type": "stream",
     "text": [
      "Micro-F1: 0.6868 ± 0.0048\n",
      "Macro-F1: 0.6836 ± 0.0038\n",
      "Combined Edges:\n"
     ]
    },
    {
     "name": "stderr",
     "output_type": "stream",
     "text": [
      "100%|██████████| 16/16 [00:10<00:00,  1.58it/s]\n",
      "/tmp/ipykernel_3566/2519546106.py:9: UserWarning: To copy construct from a tensor, it is recommended to use sourceTensor.clone().detach() or sourceTensor.clone().detach().requires_grad_(True), rather than torch.tensor(sourceTensor).\n",
      "  features = torch.tensor(data.x)\n"
     ]
    },
    {
     "name": "stdout",
     "output_type": "stream",
     "text": [
      "Micro-F1: 0.4630 ± 0.0000\n",
      "Macro-F1: 0.3059 ± 0.0000\n",
      "---------------------------------------------\n",
      "alpha: 0.2\n",
      "Data(x=[2708, 1433], edge_index=[2, 10556], y=[2708], train_mask=[2708], val_mask=[2708], test_mask=[2708])\n"
     ]
    },
    {
     "name": "stderr",
     "output_type": "stream",
     "text": [
      "100%|██████████| 16/16 [00:02<00:00,  5.56it/s]\n"
     ]
    },
    {
     "name": "stdout",
     "output_type": "stream",
     "text": [
      "Micro-F1: 0.6849 ± 0.0071\n",
      "Macro-F1: 0.6821 ± 0.0044\n",
      "Combined Edges:\n"
     ]
    },
    {
     "name": "stderr",
     "output_type": "stream",
     "text": [
      "100%|██████████| 16/16 [00:03<00:00,  4.96it/s]\n",
      "/tmp/ipykernel_3566/2519546106.py:9: UserWarning: To copy construct from a tensor, it is recommended to use sourceTensor.clone().detach() or sourceTensor.clone().detach().requires_grad_(True), rather than torch.tensor(sourceTensor).\n",
      "  features = torch.tensor(data.x)\n"
     ]
    },
    {
     "name": "stdout",
     "output_type": "stream",
     "text": [
      "Micro-F1: 0.6655 ± 0.0054\n",
      "Macro-F1: 0.6389 ± 0.0037\n",
      "---------------------------------------------\n",
      "alpha: 0.3\n",
      "Data(x=[2708, 1433], edge_index=[2, 10556], y=[2708], train_mask=[2708], val_mask=[2708], test_mask=[2708])\n"
     ]
    },
    {
     "name": "stderr",
     "output_type": "stream",
     "text": [
      "100%|██████████| 16/16 [00:02<00:00,  5.45it/s]\n"
     ]
    },
    {
     "name": "stdout",
     "output_type": "stream",
     "text": [
      "Micro-F1: 0.6886 ± 0.0094\n",
      "Macro-F1: 0.6830 ± 0.0065\n",
      "Combined Edges:\n"
     ]
    },
    {
     "name": "stderr",
     "output_type": "stream",
     "text": [
      "100%|██████████| 16/16 [00:02<00:00,  5.53it/s]\n",
      "/tmp/ipykernel_3566/2519546106.py:9: UserWarning: To copy construct from a tensor, it is recommended to use sourceTensor.clone().detach() or sourceTensor.clone().detach().requires_grad_(True), rather than torch.tensor(sourceTensor).\n",
      "  features = torch.tensor(data.x)\n"
     ]
    },
    {
     "name": "stdout",
     "output_type": "stream",
     "text": [
      "Micro-F1: 0.7339 ± 0.0038\n",
      "Macro-F1: 0.7335 ± 0.0029\n",
      "---------------------------------------------\n",
      "alpha: 0.4\n",
      "Data(x=[2708, 1433], edge_index=[2, 10556], y=[2708], train_mask=[2708], val_mask=[2708], test_mask=[2708])\n"
     ]
    },
    {
     "name": "stderr",
     "output_type": "stream",
     "text": [
      "100%|██████████| 16/16 [00:02<00:00,  5.50it/s]\n"
     ]
    },
    {
     "name": "stdout",
     "output_type": "stream",
     "text": [
      "Micro-F1: 0.6904 ± 0.0113\n",
      "Macro-F1: 0.6840 ± 0.0088\n",
      "Combined Edges:\n"
     ]
    },
    {
     "name": "stderr",
     "output_type": "stream",
     "text": [
      "100%|██████████| 16/16 [00:02<00:00,  5.36it/s]\n",
      "/tmp/ipykernel_3566/2519546106.py:9: UserWarning: To copy construct from a tensor, it is recommended to use sourceTensor.clone().detach() or sourceTensor.clone().detach().requires_grad_(True), rather than torch.tensor(sourceTensor).\n",
      "  features = torch.tensor(data.x)\n"
     ]
    },
    {
     "name": "stdout",
     "output_type": "stream",
     "text": [
      "Micro-F1: 0.6765 ± 0.0087\n",
      "Macro-F1: 0.6692 ± 0.0097\n",
      "---------------------------------------------\n",
      "alpha: 0.5\n",
      "Data(x=[2708, 1433], edge_index=[2, 10556], y=[2708], train_mask=[2708], val_mask=[2708], test_mask=[2708])\n"
     ]
    },
    {
     "name": "stderr",
     "output_type": "stream",
     "text": [
      "100%|██████████| 16/16 [00:04<00:00,  3.50it/s]\n"
     ]
    },
    {
     "name": "stdout",
     "output_type": "stream",
     "text": [
      "Micro-F1: 0.6840 ± 0.0021\n",
      "Macro-F1: 0.6787 ± 0.0039\n",
      "Combined Edges:\n"
     ]
    },
    {
     "name": "stderr",
     "output_type": "stream",
     "text": [
      "100%|██████████| 16/16 [00:02<00:00,  5.56it/s]\n",
      "/tmp/ipykernel_3566/2519546106.py:9: UserWarning: To copy construct from a tensor, it is recommended to use sourceTensor.clone().detach() or sourceTensor.clone().detach().requires_grad_(True), rather than torch.tensor(sourceTensor).\n",
      "  features = torch.tensor(data.x)\n"
     ]
    },
    {
     "name": "stdout",
     "output_type": "stream",
     "text": [
      "Micro-F1: 0.6795 ± 0.0179\n",
      "Macro-F1: 0.6790 ± 0.0162\n",
      "---------------------------------------------\n",
      "alpha: 0.6\n",
      "Data(x=[2708, 1433], edge_index=[2, 10556], y=[2708], train_mask=[2708], val_mask=[2708], test_mask=[2708])\n"
     ]
    },
    {
     "name": "stderr",
     "output_type": "stream",
     "text": [
      "100%|██████████| 16/16 [00:02<00:00,  5.46it/s]\n"
     ]
    },
    {
     "name": "stdout",
     "output_type": "stream",
     "text": [
      "Micro-F1: 0.6769 ± 0.0021\n",
      "Macro-F1: 0.6730 ± 0.0025\n",
      "Combined Edges:\n"
     ]
    },
    {
     "name": "stderr",
     "output_type": "stream",
     "text": [
      "100%|██████████| 16/16 [00:02<00:00,  5.51it/s]\n",
      "/tmp/ipykernel_3566/2519546106.py:9: UserWarning: To copy construct from a tensor, it is recommended to use sourceTensor.clone().detach() or sourceTensor.clone().detach().requires_grad_(True), rather than torch.tensor(sourceTensor).\n",
      "  features = torch.tensor(data.x)\n"
     ]
    },
    {
     "name": "stdout",
     "output_type": "stream",
     "text": [
      "Micro-F1: 0.6827 ± 0.0104\n",
      "Macro-F1: 0.6793 ± 0.0115\n",
      "---------------------------------------------\n",
      "alpha: 0.7\n",
      "Data(x=[2708, 1433], edge_index=[2, 10556], y=[2708], train_mask=[2708], val_mask=[2708], test_mask=[2708])\n"
     ]
    },
    {
     "name": "stderr",
     "output_type": "stream",
     "text": [
      "100%|██████████| 16/16 [00:02<00:00,  5.37it/s]\n"
     ]
    },
    {
     "name": "stdout",
     "output_type": "stream",
     "text": [
      "Micro-F1: 0.6998 ± 0.0076\n",
      "Macro-F1: 0.6922 ± 0.0048\n",
      "Combined Edges:\n"
     ]
    },
    {
     "name": "stderr",
     "output_type": "stream",
     "text": [
      "100%|██████████| 16/16 [00:03<00:00,  5.18it/s]\n",
      "/tmp/ipykernel_3566/2519546106.py:9: UserWarning: To copy construct from a tensor, it is recommended to use sourceTensor.clone().detach() or sourceTensor.clone().detach().requires_grad_(True), rather than torch.tensor(sourceTensor).\n",
      "  features = torch.tensor(data.x)\n"
     ]
    },
    {
     "name": "stdout",
     "output_type": "stream",
     "text": [
      "Micro-F1: 0.6811 ± 0.0110\n",
      "Macro-F1: 0.6837 ± 0.0067\n",
      "---------------------------------------------\n",
      "alpha: 0.8\n",
      "Data(x=[2708, 1433], edge_index=[2, 10556], y=[2708], train_mask=[2708], val_mask=[2708], test_mask=[2708])\n"
     ]
    },
    {
     "name": "stderr",
     "output_type": "stream",
     "text": [
      "100%|██████████| 16/16 [00:03<00:00,  5.11it/s]\n"
     ]
    },
    {
     "name": "stdout",
     "output_type": "stream",
     "text": [
      "Micro-F1: 0.6854 ± 0.0079\n",
      "Macro-F1: 0.6817 ± 0.0042\n",
      "Combined Edges:\n"
     ]
    },
    {
     "name": "stderr",
     "output_type": "stream",
     "text": [
      "100%|██████████| 16/16 [00:03<00:00,  5.10it/s]\n",
      "/tmp/ipykernel_3566/2519546106.py:9: UserWarning: To copy construct from a tensor, it is recommended to use sourceTensor.clone().detach() or sourceTensor.clone().detach().requires_grad_(True), rather than torch.tensor(sourceTensor).\n",
      "  features = torch.tensor(data.x)\n"
     ]
    },
    {
     "name": "stdout",
     "output_type": "stream",
     "text": [
      "Micro-F1: 0.6852 ± 0.0119\n",
      "Macro-F1: 0.6769 ± 0.0109\n",
      "---------------------------------------------\n",
      "alpha: 0.9\n",
      "Data(x=[2708, 1433], edge_index=[2, 10556], y=[2708], train_mask=[2708], val_mask=[2708], test_mask=[2708])\n"
     ]
    },
    {
     "name": "stderr",
     "output_type": "stream",
     "text": [
      "100%|██████████| 16/16 [00:03<00:00,  5.17it/s]\n"
     ]
    },
    {
     "name": "stdout",
     "output_type": "stream",
     "text": [
      "Micro-F1: 0.6897 ± 0.0046\n",
      "Macro-F1: 0.6848 ± 0.0048\n",
      "Combined Edges:\n"
     ]
    },
    {
     "name": "stderr",
     "output_type": "stream",
     "text": [
      "100%|██████████| 16/16 [00:03<00:00,  5.15it/s]"
     ]
    },
    {
     "name": "stdout",
     "output_type": "stream",
     "text": [
      "Micro-F1: 0.6899 ± 0.0038\n",
      "Macro-F1: 0.6812 ± 0.0033\n"
     ]
    },
    {
     "name": "stderr",
     "output_type": "stream",
     "text": [
      "\n"
     ]
    }
   ],
   "source": [
    "x=[] #alpha\n",
    "y1=[] # edge count added\n",
    "y2=[] #micro\n",
    "y3=[] #macro\n",
    "y4=[]# micro\n",
    "y5=[] # marcro\n",
    "for alpha in range(0,10):\n",
    "    print(\"---------------------------------------------\")\n",
    "    alpha=alpha/10\n",
    "    print(\"alpha:\",alpha)\n",
    "    xx,y1a,y2b,y3c,y4d,y5e=evalator(alpha)\n",
    "    x.append(xx)\n",
    "    y1.append(y1a)\n",
    "    y2.append(y2b)\n",
    "    y3.append(y3c)\n",
    "    y4.append(y4d)\n",
    "    y5.append(y5e)"
   ]
  },
  {
   "cell_type": "code",
   "execution_count": 21,
   "metadata": {},
   "outputs": [
    {
     "data": {
      "text/plain": [
       "[<matplotlib.lines.Line2D at 0x7fbbb3699ed0>]"
      ]
     },
     "execution_count": 21,
     "metadata": {},
     "output_type": "execute_result"
    },
    {
     "data": {
      "image/png": "[encoded data removed]",
      "text/plain": [
       "<Figure size 640x480 with 1 Axes>"
      ]
     },
     "metadata": {},
     "output_type": "display_data"
    }
   ],
   "source": [
    "import matplotlib.pyplot as plt\n",
    "\n",
    "plt.plot(x,y3)\n"
   ]
  },
  {
   "cell_type": "code",
   "execution_count": 22,
   "metadata": {},
   "outputs": [
    {
     "data": {
      "image/png": "[encoded data removed]",
      "text/plain": [
       "<Figure size 2000x500 with 3 Axes>"
      ]
     },
     "metadata": {},
     "output_type": "display_data"
    }
   ],
   "source": [
    "plt.figure(figsize=(20,5))\n",
    "\n",
    "plt.subplot(1,3,1)\n",
    "plt.plot(x,y1)\n",
    "plt.xlabel('alpha')\n",
    "plt.ylabel('new edges added')\n",
    "\n",
    "\n",
    "plt.subplot(1,3,2)\n",
    "plt.plot(x,y2,label=\"after fusion\",marker=\"o\",color=\"orange\")\n",
    "plt.plot(x,y4,label='before fusion',marker='o',color='blue')\n",
    "\n",
    "plt.xlabel('alpha')\n",
    "plt.ylabel('micro F1')\n",
    "plt.title('micro F1 across alpha')\n",
    "plt.legend()\n",
    "\n",
    "\n",
    "plt.subplot(1,3,3)\n",
    "plt.plot(x,y2,label=\"after fusion\",marker=\"o\",color=\"orange\")\n",
    "plt.plot(x,y4,label='before fusion',marker='o',color='blue')\n",
    "\n",
    "plt.xlabel('alpha')\n",
    "plt.ylabel('micro F1')\n",
    "plt.title('micro F1 across alpha')\n",
    "plt.legend()\n",
    "\n",
    "plt.show()\n",
    "\n"
   ]
  },
  {
   "cell_type": "markdown",
   "metadata": {},
   "source": [
    "# Method:2\n",
    "- give weight 1 to all the existing edges\n",
    "- find the new edges with similarity above some threshold\n",
    "- scale the new edges similarity between 0 to 1\n",
    "- include the new edges to the structural graph with edge weights acc to the scaled similarities\n",
    "- the edges present in both exiting edges andnew edges will have weight more than 1"
   ]
  },
  {
   "cell_type": "code",
   "execution_count": 2,
   "metadata": {},
   "outputs": [
    {
     "name": "stderr",
     "output_type": "stream",
     "text": [
      "/home/bolt17/miniconda3/envs/StableVITON/lib/python3.10/site-packages/tqdm/auto.py:21: TqdmWarning: IProgress not found. Please update jupyter and ipywidgets. See https://ipywidgets.readthedocs.io/en/stable/user_install.html\n",
      "  from .autonotebook import tqdm as notebook_tqdm\n"
     ]
    }
   ],
   "source": [
    "import torch\n",
    "import torch.nn.functional as F\n",
    "from torch_geometric.datasets import Flickr, Coauthor, CoraFull, Planetoid\n",
    "from torch_geometric.nn import GCNConv\n",
    "from torch_geometric.loader import NeighborLoader\n",
    "from tqdm import tqdm\n",
    "import matplotlib.pyplot as plt\n",
    "import numpy as np\n",
    "import pandas as pd\n",
    "import os\n",
    "from tqdm import tqdm\n",
    "import networkx as nx\n",
    "from sklearn.linear_model import LogisticRegression\n",
    "from sklearn.metrics import f1_score"
   ]
  },
  {
   "cell_type": "code",
   "execution_count": 3,
   "metadata": {},
   "outputs": [
    {
     "name": "stdout",
     "output_type": "stream",
     "text": [
      "Data(x=[2708, 1433], edge_index=[2, 10556], y=[2708], train_mask=[2708], val_mask=[2708], test_mask=[2708])\n"
     ]
    },
    {
     "name": "stderr",
     "output_type": "stream",
     "text": [
      "/tmp/ipykernel_12769/1516843027.py:21: UserWarning: To copy construct from a tensor, it is recommended to use sourceTensor.clone().detach() or sourceTensor.clone().detach().requires_grad_(True), rather than torch.tensor(sourceTensor).\n",
      "  features = torch.tensor(data.x)\n"
     ]
    }
   ],
   "source": [
    "SEED=548\n",
    "np.random.seed(SEED)\n",
    "torch.manual_seed(SEED)\n",
    "torch.cuda.manual_seed(SEED)\n",
    "torch.cuda.manual_seed_all(SEED)\n",
    "torch.backends.cudnn.deterministic = True\n",
    "torch.backends.cudnn.benchmark = False\n",
    "import sklearn\n",
    "sklearn.utils.check_random_state(SEED)\n",
    "#-----------------------------------------\n",
    "def edge_index_to_adj(edge_index, num_nodes):\n",
    "    values = torch.ones(edge_index.shape[1])\n",
    "    adj_matrix = torch.sparse_coo_tensor(edge_index, values, (num_nodes, num_nodes))\n",
    "    return adj_matrix.to_dense()\n",
    "\n",
    "dataset = Planetoid(root='data/Planetoid', name='Cora')\n",
    "data = dataset[0]  # The dataset contains a single graph\n",
    "print(data)\n",
    "adj_matrix = edge_index_to_adj(data.edge_index, len(data.x))\n",
    "\n",
    "features = torch.tensor(data.x)\n",
    "# finding feature similarity across all the nodes via dot product\n",
    "similarities = (features@features.T)\n",
    "\n",
    "# making the diagnol elements to zero as the max similarity is obtained with a same\n",
    "similarities = similarities * (torch.eye(len(similarities)) == 0).long()"
   ]
  },
  {
   "cell_type": "code",
   "execution_count": 182,
   "metadata": {},
   "outputs": [],
   "source": [
    "data.edge_weight = torch.ones((1, data.edge_index.shape[1]), dtype=torch.float32)"
   ]
  },
  {
   "cell_type": "code",
   "execution_count": 163,
   "metadata": {},
   "outputs": [
    {
     "name": "stdout",
     "output_type": "stream",
     "text": [
      "maximum cross similarity:25.0\n",
      "alpha:0.3\n",
      "Total new edges added: 1168\n",
      "previous_edges:10556\n",
      "new_edges:11724\n"
     ]
    }
   ],
   "source": [
    "maxi=similarities.max()\n",
    "print(f\"maximum cross similarity:{maxi}\")\n",
    "\n",
    "# normalizing similarty to lie in range [0,1]\n",
    "similarities=torch.div(similarities, maxi)\n",
    "\n",
    "alpha = 0.3\n",
    "print(f\"alpha:{alpha}\")\n",
    "\n",
    "max_similarities = (similarities > alpha).long()\n",
    "\n",
    "prev_edges = data.edge_index\n",
    "prev_edge_weights = data.edge_weight\n",
    "\n",
    "new_edges = torch.nonzero(max_similarities, as_tuple=False).T\n",
    "\n",
    "new_edges_similarities=[]\n",
    "for i in range(new_edges.shape[1]):\n",
    "    new_edges_similarities.append(similarities[new_edges[0][i]][new_edges[1][i]].numpy().item())\n",
    "max_sim=max(new_edges_similarities)\n",
    "scaled_new_similarities = [i/max_sim for i in new_edges_similarities]\n",
    "\n",
    "existing_edges = set(map(tuple, data.edge_index.T.tolist()))\n",
    "\n",
    "common_edges = []\n",
    "common_idxs = []\n",
    "idxs = []\n",
    "# check if there is a common edges between the ones we found and existing ones\n",
    "filtered_new_edges = []\n",
    "filtered_edges_sim = []\n",
    "for idx,edge in enumerate(new_edges.T.tolist()):\n",
    "    if (edge[0], edge[1]) not in existing_edges and (edge[1], edge[0]) not in existing_edges:  # Avoid duplicates\n",
    "        filtered_new_edges.append([edge[0], edge[1]])\n",
    "        filtered_edges_sim.append(scaled_new_similarities[idx])\n",
    "    else:\n",
    "        common_edges.append([edge[0],edge[1]])\n",
    "        common_idxs.append(idx)\n",
    "\n",
    "if filtered_new_edges:\n",
    "    filtered_new_edges = torch.tensor(filtered_new_edges, dtype=torch.long).T  # Shape: [2, num_new_edges]\n",
    "    # Convert filtered_edges_sim to tensor and reshape to match data.edge_weight's dimensions\n",
    "    new_edges_simil = torch.tensor(filtered_edges_sim, dtype=torch.float32).reshape(1, -1)  # Shape: [1, num_new_edges]\n",
    "    \n",
    "    # Append new edges to data.edge_index\n",
    "    data.edge_index = torch.cat([data.edge_index, filtered_new_edges], dim=1)\n",
    "    data.edge_weight = torch.cat([data.edge_weight, new_edges_simil], dim=1)\n",
    "\n",
    "print(f\"Total new edges added: {filtered_new_edges.shape[1] if len(filtered_new_edges) > 0 else 0}\")\n",
    "data.edge_weight = torch.ones((1, data.edge_index.shape[1]), dtype=torch.float32)\n",
    "new_edges = data.edge_index\n",
    "new_edge_weights = data.edge_weight\n",
    "print(f\"previous_edges:{len(prev_edges[0])}\")\n",
    "print(f\"new_edges:{len(new_edges[0])}\")"
   ]
  },
  {
   "cell_type": "code",
   "execution_count": null,
   "metadata": {},
   "outputs": [
    {
     "name": "stdout",
     "output_type": "stream",
     "text": [
      "maximum cross similarity:1.0\n",
      "alpha:0.3\n",
      "True\n",
      "Total new edges added: 0\n",
      "previous_edges:11724\n",
      "new_edges:11724\n"
     ]
    }
   ],
   "source": [
    "maxi = similarities.max()\n",
    "print(f\"maximum cross similarity:{maxi}\")\n",
    "\n",
    "# normalizing similarity to lie in range [0,1]\n",
    "similarities = torch.div(similarities, maxi)\n",
    "\n",
    "alpha = 0.3\n",
    "print(f\"alpha:{alpha}\")\n",
    "\n",
    "max_similarities = (similarities > alpha).long()\n",
    "\n",
    "prev_edges = data.edge_index\n",
    "prev_edge_weights = data.edge_weight.clone()  # Create a copy to preserve original weights\n",
    "\n",
    "new_edges = torch.nonzero(max_similarities, as_tuple=False).T\n",
    "\n",
    "new_edges_similarities = []\n",
    "for i in range(new_edges.shape[1]):\n",
    "    new_edges_similarities.append(similarities[new_edges[0][i]][new_edges[1][i]].numpy().item())\n",
    "max_sim = max(new_edges_similarities)\n",
    "scaled_new_similarities = [i/max_sim for i in new_edges_similarities]\n",
    "\n",
    "existing_edges = set(map(tuple, data.edge_index.T.tolist()))\n",
    "\n",
    "common_edges = []\n",
    "common_idxs = []\n",
    "filtered_new_edges = []\n",
    "filtered_edges_sim = []\n",
    "\n",
    "# Store mapping of common edges to their similarity values\n",
    "common_edge_to_sim = {}\n",
    "\n",
    "for idx, edge in enumerate(new_edges.T.tolist()):\n",
    "    edge_tuple = (edge[0], edge[1])\n",
    "    if (edge[0], edge[1]) not in existing_edges and (edge[1], edge[0]) not in existing_edges:\n",
    "        filtered_new_edges.append([edge[0], edge[1]])\n",
    "        filtered_edges_sim.append(scaled_new_similarities[idx])\n",
    "    else:\n",
    "        common_edges.append([edge[0], edge[1]])\n",
    "        common_idxs.append(idx)\n",
    "        common_edge_to_sim[edge_tuple] = scaled_new_similarities[idx]\n",
    "f=False\n",
    "# Update weights of common edges in prev_edge_weights\n",
    "if common_edges:\n",
    "    # Convert prev_edges to list of tuples for easier lookup\n",
    "    prev_edges_list = prev_edges.T.tolist()\n",
    "    for i, edge in enumerate(prev_edges_list):\n",
    "        edge_tuple = tuple(edge)\n",
    "        if edge_tuple in common_edge_to_sim:\n",
    "            # Update the weight (you can adjust how you want to increase it)\n",
    "            prev_edge_weights[0, i] = prev_edge_weights[0, i] + torch.tensor(common_edge_to_sim[edge_tuple], dtype=torch.float32)\n",
    "\n",
    "if filtered_new_edges:\n",
    "    filtered_new_edges = torch.tensor(filtered_new_edges, dtype=torch.long).T\n",
    "    new_edges_simil = torch.tensor(filtered_edges_sim, dtype=torch.float32).reshape(1, -1)\n",
    "    \n",
    "    # Append new edges to data.edge_index\n",
    "    data.edge_index = torch.cat([data.edge_index, filtered_new_edges], dim=1)\n",
    "    data.edge_weight = torch.cat([prev_edge_weights, new_edges_simil], dim=1)\n",
    "\n",
    "print(f\"Total new edges added: {filtered_new_edges.shape[1] if len(filtered_new_edges) > 0 else 0}\")\n",
    "new_edges = data.edge_index\n",
    "new_edge_weights = data.edge_weight\n",
    "print(f\"previous_edges:{len(prev_edges[0])}\")\n",
    "print(f\"new_edges:{len(new_edges[0])}\")"
   ]
  },
  {
   "cell_type": "code",
   "execution_count": 184,
   "metadata": {},
   "outputs": [
    {
     "name": "stdout",
     "output_type": "stream",
     "text": [
      "torch.Size([3, 10556])\n",
      "torch.Size([3, 11724])\n"
     ]
    }
   ],
   "source": [
    "prev_edges_and_weights = torch.cat([prev_edges, prev_edge_weights], dim=0)\n",
    "print(prev_edges_and_weights.shape)\n",
    "new_edges_and_weights = torch.cat([new_edges, new_edge_weights], dim=0)\n",
    "print(new_edges_and_weights.shape)"
   ]
  },
  {
   "cell_type": "code",
   "execution_count": 4,
   "metadata": {},
   "outputs": [],
   "source": [
    "# save_edges = lambda args: pd.DataFrame(args[0].T).to_csv(args[1],index=None, header=None, sep=' ', mode='a')\n",
    "save_edges = lambda args: pd.DataFrame(args[0].T, columns=['col1', 'col2', 'col3']).astype(\n",
    "    {'col1': int, 'col2': int, 'col3': int}\n",
    ").to_csv(args[1], index=None, header=None, sep=' ', mode='a', float_format='%.1f')\n",
    "def get_embeddings(\n",
    "    edges, \n",
    "    edges_name=\"edgelist.txt\", \n",
    "    k=128,  # Embedding dimension\n",
    "    a=0.01,  # damping parameter\n",
    "    partition=1,\n",
    "    output=False\n",
    "):\n",
    "    '''\n",
    "    \"partition\": the partition algorithm to use, default is 1.\n",
    "    0: random bisection\n",
    "    1: Louvain partition\n",
    "    2: Louvain first-level partition\n",
    "    3: Label Propagation partition\n",
    "    '''\n",
    "    open(edges_name,'w').close()\n",
    "    save_edges((edges, edges_name))\n",
    "\n",
    "    if not os.path.exists('./hierarchy.txt'):\n",
    "        os.mknod('./hierarchy.txt')\n",
    "    else:\n",
    "        open('hierarchy.txt','w').close()\n",
    "    if not os.path.exists('./vectors.txt'):\n",
    "        os.mknod('./vectors.txt')\n",
    "    else:\n",
    "        open('vectors.txt','w').close()\n",
    "    \n",
    "    # do hierarchical clustering using Louvain algorithm\n",
    "    endstr = '> /dev/null 2>&1'\n",
    "    if(output):\n",
    "        endstr = ''\n",
    "    os.system(f'./LouvainNE/recpart ./{edges_name} ./hierarchy.txt {partition} {endstr}')\n",
    "    \n",
    "    # obtain node embedding of each node at every hierarchy\n",
    "    os.system(f'./LouvainNE/hi2vec {k} {a} ./hierarchy.txt ./vectors.txt {endstr}')\n",
    "    \n",
    "    # Path to your output node embeddings text file\n",
    "    file_path = 'vectors.txt'\n",
    "\n",
    "    data_ = np.loadtxt(file_path)\n",
    "    data_tensor = torch.from_numpy(data_)\n",
    "    # The first column contains node IDs\n",
    "    node_ids = data_tensor[:, 0].to(torch.int)\n",
    "    # The remaining columns contain embeddings\n",
    "    embeddings = data_tensor[:, 1:]\n",
    "    return node_ids, embeddings"
   ]
  },
  {
   "cell_type": "code",
   "execution_count": 5,
   "metadata": {},
   "outputs": [],
   "source": [
    "def evaluate_node_classification(aa_node_ids, aa_embeddings, data):\n",
    "    \"\"\"\n",
    "    Evaluates multi-class node classification using Logistic Regression.\n",
    "\n",
    "    Args:\n",
    "        aa_node_ids: List of node IDs.\n",
    "        aa_embeddings: Corresponding node embeddings.\n",
    "        data: PyTorch Geometric data object containing labels and masks.\n",
    "\n",
    "    Returns:\n",
    "        Micro-F1 and Macro-F1 scores.\n",
    "    \"\"\"\n",
    "\n",
    "    # Map node IDs to indices in embeddings\n",
    "    node_to_idx = {node_id.item(): idx for idx, node_id in enumerate(aa_node_ids)}\n",
    "\n",
    "    # Reorder embeddings to match the label ordering\n",
    "    ordered_embeddings = np.zeros((len(data.y), aa_embeddings.shape[1]))\n",
    "    for i in range(len(data.y)):\n",
    "        ordered_embeddings[i] = aa_embeddings[node_to_idx[i]]\n",
    "\n",
    "    # Convert masks to NumPy arrays\n",
    "    train_mask = data.train_mask.numpy()\n",
    "    test_mask = data.test_mask.numpy()\n",
    "\n",
    "    # Prepare train and test data\n",
    "    X_train, X_test = ordered_embeddings[train_mask], ordered_embeddings[test_mask]\n",
    "    y_train, y_test = data.y[train_mask].numpy(), data.y[test_mask].numpy()\n",
    "\n",
    "    # Train Logistic Regression classifier\n",
    "    clf = LogisticRegression(max_iter=1000, solver='lbfgs')\n",
    "    clf.fit(X_train, y_train)\n",
    "\n",
    "    # Predict on the test set\n",
    "    y_pred = clf.predict(X_test)\n",
    "\n",
    "    # Compute Micro-F1 and Macro-F1 scores\n",
    "    micro_f1 = f1_score(y_test, y_pred, average='micro')\n",
    "    macro_f1 = f1_score(y_test, y_pred, average='macro')\n",
    "\n",
    "    return {\n",
    "        'micro_f1': micro_f1,\n",
    "        'macro_f1': macro_f1\n",
    "    }\n"
   ]
  },
  {
   "cell_type": "code",
   "execution_count": 187,
   "metadata": {},
   "outputs": [
    {
     "name": "stdout",
     "output_type": "stream",
     "text": [
      "Only Initial Edges:\n"
     ]
    },
    {
     "name": "stderr",
     "output_type": "stream",
     "text": [
      "100%|██████████| 16/16 [00:03<00:00,  4.97it/s]\n"
     ]
    },
    {
     "name": "stdout",
     "output_type": "stream",
     "text": [
      "Micro-F1: 0.6796 ± 0.0088\n",
      "Macro-F1: 0.6754 ± 0.0082\n",
      "Combined Edges:\n"
     ]
    },
    {
     "name": "stderr",
     "output_type": "stream",
     "text": [
      "100%|██████████| 16/16 [00:03<00:00,  5.14it/s]"
     ]
    },
    {
     "name": "stdout",
     "output_type": "stream",
     "text": [
      "Micro-F1: 0.6967 ± 0.0097\n",
      "Macro-F1: 0.6923 ± 0.0081\n"
     ]
    },
    {
     "name": "stderr",
     "output_type": "stream",
     "text": [
      "\n"
     ]
    }
   ],
   "source": [
    "print('Only Initial Edges:')\n",
    "\n",
    "\n",
    "a = []\n",
    "b = []\n",
    "for i in tqdm(range(16)):\n",
    "    aa_node_ids, aa_embeddings = get_embeddings(prev_edges_and_weights, \"prev_edgelist.txt\", k=256, partition=1)\n",
    "    # print(aa_node_ids.shape)\n",
    "    # print(aa_embeddings.shape)\n",
    "    result = evaluate_node_classification(aa_node_ids, aa_embeddings, data)\n",
    "    a.append(result['micro_f1'])\n",
    "    b.append(result['macro_f1'])\n",
    "\n",
    "print(f\"Micro-F1: {np.mean(a):.4f} ± {np.std(a):.4f}\")\n",
    "print(f\"Macro-F1: {np.mean(b):.4f} ± {np.std(b):.4f}\")\n",
    "\n",
    "print('Combined Edges:')\n",
    "a = []\n",
    "b = []\n",
    "for i in tqdm(range(16)):\n",
    "    aa_node_ids, aa_embeddings = get_embeddings(new_edges_and_weights, \"new_edgelist.txt\", k=256, partition=1)\n",
    "    result = evaluate_node_classification(aa_node_ids, aa_embeddings, data)\n",
    "    a.append(result['micro_f1'])\n",
    "    b.append(result['macro_f1'])\n",
    "\n",
    "print(f\"Micro-F1: {np.mean(a):.4f} ± {np.std(a):.4f}\")\n",
    "print(f\"Macro-F1: {np.mean(b):.4f} ± {np.std(b):.4f}\")"
   ]
  },
  {
   "cell_type": "code",
   "execution_count": null,
   "metadata": {},
   "outputs": [],
   "source": [
    "def evalator(alpha):\n",
    "    \n",
    "    dataset = Planetoid(root='data/Planetoid', name='Cora')\n",
    "    data = dataset[0]  # The dataset contains a single graph\n",
    "    print(data)\n",
    "    data.edge_weight = torch.ones((1, data.edge_index.shape[1]), dtype=torch.float32)\n",
    "    adj_matrix = edge_index_to_adj(data.edge_index, len(data.x))\n",
    "\n",
    "    features = torch.tensor(data.x)\n",
    "    # finding feature similarity across all the nodes via dot product\n",
    "    similarities = (features@features.T)\n",
    "\n",
    "# making the diagnol elements to zero as the max similarity is obtained with a same\n",
    "    similarities = similarities * (torch.eye(len(similarities)) == 0).long()\n",
    "    \n",
    "    maxi = similarities.max()\n",
    "    print(f\"maximum cross similarity:{maxi}\")\n",
    "\n",
    "    # normalizing similarity to lie in range [0,1]\n",
    "    similarities = torch.div(similarities, maxi)\n",
    "\n",
    "    # alpha = 0.3\n",
    "    print(f\"alpha:{alpha}\")\n",
    "\n",
    "    max_similarities = (similarities > alpha).long()\n",
    "\n",
    "    prev_edges = data.edge_index\n",
    "    prev_edge_weights = data.edge_weight.clone()  # Create a copy to preserve original weights\n",
    "\n",
    "    new_edges = torch.nonzero(max_similarities, as_tuple=False).T\n",
    "\n",
    "    new_edges_similarities = []\n",
    "    for i in range(new_edges.shape[1]):\n",
    "        new_edges_similarities.append(similarities[new_edges[0][i]][new_edges[1][i]].numpy().item())\n",
    "    max_sim = max(new_edges_similarities)\n",
    "    scaled_new_similarities = [i/max_sim for i in new_edges_similarities]\n",
    "\n",
    "    existing_edges = set(map(tuple, data.edge_index.T.tolist()))\n",
    "\n",
    "    common_edges = []\n",
    "    common_idxs = []\n",
    "    filtered_new_edges = []\n",
    "    filtered_edges_sim = []\n",
    "\n",
    "    # Store mapping of common edges to their similarity values\n",
    "    common_edge_to_sim = {}\n",
    "\n",
    "    for idx, edge in enumerate(new_edges.T.tolist()):\n",
    "        edge_tuple = (edge[0], edge[1])\n",
    "        if (edge[0], edge[1]) not in existing_edges and (edge[1], edge[0]) not in existing_edges:\n",
    "            filtered_new_edges.append([edge[0], edge[1]])\n",
    "            filtered_edges_sim.append(scaled_new_similarities[idx])\n",
    "        else:\n",
    "            common_edges.append([edge[0], edge[1]])\n",
    "            common_idxs.append(idx)\n",
    "            common_edge_to_sim[edge_tuple] = scaled_new_similarities[idx]\n",
    "    f=False\n",
    "    # Update weights of common edges in prev_edge_weights\n",
    "    if common_edges:\n",
    "        # Convert prev_edges to list of tuples for easier lookup\n",
    "        prev_edges_list = prev_edges.T.tolist()\n",
    "        for i, edge in enumerate(prev_edges_list):\n",
    "            edge_tuple = tuple(edge)\n",
    "            if edge_tuple in common_edge_to_sim:\n",
    "                # Update the weight (you can adjust how you want to increase it)\n",
    "                prev_edge_weights[0, i] = prev_edge_weights[0, i] + torch.tensor(common_edge_to_sim[edge_tuple], dtype=torch.float32)\n",
    "\n",
    "    if filtered_new_edges:\n",
    "        filtered_new_edges = torch.tensor(filtered_new_edges, dtype=torch.long).T\n",
    "        new_edges_simil = torch.tensor(filtered_edges_sim, dtype=torch.float32).reshape(1, -1)\n",
    "        \n",
    "        # Append new edges to data.edge_index\n",
    "        data.edge_index = torch.cat([data.edge_index, filtered_new_edges], dim=1)\n",
    "        data.edge_weight = torch.cat([prev_edge_weights, new_edges_simil], dim=1)\n",
    "\n",
    "    print(f\"Total new edges added: {filtered_new_edges.shape[1] if len(filtered_new_edges) > 0 else 0}\")\n",
    "    new_edges = data.edge_index\n",
    "    new_edge_weights = data.edge_weight\n",
    "\n",
    "    prev_edges_and_weights = torch.cat([prev_edges, prev_edge_weights], dim=0)\n",
    "    new_edges_and_weights = torch.cat([new_edges, new_edge_weights], dim=0)\n",
    "\n",
    "    print('Only Initial Edges:')\n",
    "    a1 = []\n",
    "    b1 = []\n",
    "    for i in tqdm(range(16)):\n",
    "        aa_node_ids, aa_embeddings = get_embeddings(prev_edges_and_weights, \"prev_edgelist.txt\", k=256, partition=1)\n",
    "        result = evaluate_node_classification(aa_node_ids, aa_embeddings, data)\n",
    "        a1.append(result['micro_f1'])\n",
    "        b1.append(result['macro_f1'])\n",
    "\n",
    "    print(f\"Micro-F1: {np.mean(a1):.4f} ± {np.std(a1):.4f}\")\n",
    "    print(f\"Macro-F1: {np.mean(b1):.4f} ± {np.std(b1):.4f}\")\n",
    "\n",
    "    print('Combined Edges:')\n",
    "    a2 = []\n",
    "    b2 = []\n",
    "    for i in tqdm(range(16)):\n",
    "        aa_node_ids, aa_embeddings = get_embeddings(new_edges_and_weights, \"new_edgelist.txt\", k=256, partition=1)\n",
    "        result = evaluate_node_classification(aa_node_ids, aa_embeddings, data)\n",
    "        a2.append(result['micro_f1'])\n",
    "        b2.append(result['macro_f1'])\n",
    "\n",
    "    print(f\"Micro-F1: {np.mean(a2):.4f} ± {np.std(a2):.4f}\")\n",
    "    print(f\"Macro-F1: {np.mean(b2):.4f} ± {np.std(b2):.4f}\")\n",
    "    \n",
    "    return alpha,filtered_new_edges.shape[1],np.mean(a2),np.mean(b2),np.mean(a1),np.mean(b1)"
   ]
  },
  {
   "cell_type": "code",
   "execution_count": 7,
   "metadata": {},
   "outputs": [
    {
     "name": "stdout",
     "output_type": "stream",
     "text": [
      "---------------------------------------------\n",
      "alpha: 0.0\n",
      "Data(x=[2708, 1433], edge_index=[2, 10556], y=[2708], train_mask=[2708], val_mask=[2708], test_mask=[2708])\n",
      "maximum cross similarity:25.0\n",
      "alpha:0.0\n"
     ]
    },
    {
     "name": "stderr",
     "output_type": "stream",
     "text": [
      "/tmp/ipykernel_12769/3947828958.py:9: UserWarning: To copy construct from a tensor, it is recommended to use sourceTensor.clone().detach() or sourceTensor.clone().detach().requires_grad_(True), rather than torch.tensor(sourceTensor).\n",
      "  features = torch.tensor(data.x)\n"
     ]
    },
    {
     "name": "stdout",
     "output_type": "stream",
     "text": [
      "Total new edges added: 4428556\n"
     ]
    },
    {
     "name": "stderr",
     "output_type": "stream",
     "text": [
      "100%|██████████| 16/16 [00:03<00:00,  5.10it/s]\n"
     ]
    },
    {
     "name": "stdout",
     "output_type": "stream",
     "text": [
      "Micro-F1: 0.6881 ± 0.0059\n",
      "Macro-F1: 0.6836 ± 0.0036\n",
      "Combined Edges:\n"
     ]
    },
    {
     "name": "stderr",
     "output_type": "stream",
     "text": [
      "100%|██████████| 16/16 [00:48<00:00,  3.04s/it]\n",
      "/tmp/ipykernel_12769/3947828958.py:9: UserWarning: To copy construct from a tensor, it is recommended to use sourceTensor.clone().detach() or sourceTensor.clone().detach().requires_grad_(True), rather than torch.tensor(sourceTensor).\n",
      "  features = torch.tensor(data.x)\n"
     ]
    },
    {
     "name": "stdout",
     "output_type": "stream",
     "text": [
      "Micro-F1: 0.6704 ± 0.0110\n",
      "Macro-F1: 0.6717 ± 0.0087\n",
      "---------------------------------------------\n",
      "alpha: 0.1\n",
      "Data(x=[2708, 1433], edge_index=[2, 10556], y=[2708], train_mask=[2708], val_mask=[2708], test_mask=[2708])\n",
      "maximum cross similarity:25.0\n",
      "alpha:0.1\n",
      "Total new edges added: 762060\n"
     ]
    },
    {
     "name": "stderr",
     "output_type": "stream",
     "text": [
      "100%|██████████| 16/16 [00:03<00:00,  5.33it/s]\n"
     ]
    },
    {
     "name": "stdout",
     "output_type": "stream",
     "text": [
      "Micro-F1: 0.6951 ± 0.0072\n",
      "Macro-F1: 0.6907 ± 0.0058\n",
      "Combined Edges:\n"
     ]
    },
    {
     "name": "stderr",
     "output_type": "stream",
     "text": [
      "100%|██████████| 16/16 [00:11<00:00,  1.39it/s]\n",
      "/tmp/ipykernel_12769/3947828958.py:9: UserWarning: To copy construct from a tensor, it is recommended to use sourceTensor.clone().detach() or sourceTensor.clone().detach().requires_grad_(True), rather than torch.tensor(sourceTensor).\n",
      "  features = torch.tensor(data.x)\n"
     ]
    },
    {
     "name": "stdout",
     "output_type": "stream",
     "text": [
      "Micro-F1: 0.6760 ± 0.0106\n",
      "Macro-F1: 0.6750 ± 0.0072\n",
      "---------------------------------------------\n",
      "alpha: 0.2\n",
      "Data(x=[2708, 1433], edge_index=[2, 10556], y=[2708], train_mask=[2708], val_mask=[2708], test_mask=[2708])\n",
      "maximum cross similarity:25.0\n",
      "alpha:0.2\n",
      "Total new edges added: 16050\n"
     ]
    },
    {
     "name": "stderr",
     "output_type": "stream",
     "text": [
      "100%|██████████| 16/16 [00:02<00:00,  5.53it/s]\n"
     ]
    },
    {
     "name": "stdout",
     "output_type": "stream",
     "text": [
      "Micro-F1: 0.6838 ± 0.0108\n",
      "Macro-F1: 0.6774 ± 0.0096\n",
      "Combined Edges:\n"
     ]
    },
    {
     "name": "stderr",
     "output_type": "stream",
     "text": [
      "100%|██████████| 16/16 [00:03<00:00,  5.32it/s]\n",
      "/tmp/ipykernel_12769/3947828958.py:9: UserWarning: To copy construct from a tensor, it is recommended to use sourceTensor.clone().detach() or sourceTensor.clone().detach().requires_grad_(True), rather than torch.tensor(sourceTensor).\n",
      "  features = torch.tensor(data.x)\n"
     ]
    },
    {
     "name": "stdout",
     "output_type": "stream",
     "text": [
      "Micro-F1: 0.6788 ± 0.0024\n",
      "Macro-F1: 0.6776 ± 0.0024\n",
      "---------------------------------------------\n",
      "alpha: 0.3\n",
      "Data(x=[2708, 1433], edge_index=[2, 10556], y=[2708], train_mask=[2708], val_mask=[2708], test_mask=[2708])\n",
      "maximum cross similarity:25.0\n",
      "alpha:0.3\n",
      "Total new edges added: 1168\n"
     ]
    },
    {
     "name": "stderr",
     "output_type": "stream",
     "text": [
      "100%|██████████| 16/16 [00:02<00:00,  5.34it/s]\n"
     ]
    },
    {
     "name": "stdout",
     "output_type": "stream",
     "text": [
      "Micro-F1: 0.6748 ± 0.0064\n",
      "Macro-F1: 0.6690 ± 0.0068\n",
      "Combined Edges:\n"
     ]
    },
    {
     "name": "stderr",
     "output_type": "stream",
     "text": [
      "100%|██████████| 16/16 [00:03<00:00,  5.30it/s]\n",
      "/tmp/ipykernel_12769/3947828958.py:9: UserWarning: To copy construct from a tensor, it is recommended to use sourceTensor.clone().detach() or sourceTensor.clone().detach().requires_grad_(True), rather than torch.tensor(sourceTensor).\n",
      "  features = torch.tensor(data.x)\n"
     ]
    },
    {
     "name": "stdout",
     "output_type": "stream",
     "text": [
      "Micro-F1: 0.7005 ± 0.0065\n",
      "Macro-F1: 0.6953 ± 0.0074\n",
      "---------------------------------------------\n",
      "alpha: 0.4\n",
      "Data(x=[2708, 1433], edge_index=[2, 10556], y=[2708], train_mask=[2708], val_mask=[2708], test_mask=[2708])\n",
      "maximum cross similarity:25.0\n",
      "alpha:0.4\n",
      "Total new edges added: 180\n"
     ]
    },
    {
     "name": "stderr",
     "output_type": "stream",
     "text": [
      "100%|██████████| 16/16 [00:03<00:00,  5.25it/s]\n"
     ]
    },
    {
     "name": "stdout",
     "output_type": "stream",
     "text": [
      "Micro-F1: 0.6901 ± 0.0029\n",
      "Macro-F1: 0.6859 ± 0.0022\n",
      "Combined Edges:\n"
     ]
    },
    {
     "name": "stderr",
     "output_type": "stream",
     "text": [
      "100%|██████████| 16/16 [00:03<00:00,  5.19it/s]\n",
      "/tmp/ipykernel_12769/3947828958.py:9: UserWarning: To copy construct from a tensor, it is recommended to use sourceTensor.clone().detach() or sourceTensor.clone().detach().requires_grad_(True), rather than torch.tensor(sourceTensor).\n",
      "  features = torch.tensor(data.x)\n"
     ]
    },
    {
     "name": "stdout",
     "output_type": "stream",
     "text": [
      "Micro-F1: 0.6915 ± 0.0019\n",
      "Macro-F1: 0.6866 ± 0.0033\n",
      "---------------------------------------------\n",
      "alpha: 0.5\n",
      "Data(x=[2708, 1433], edge_index=[2, 10556], y=[2708], train_mask=[2708], val_mask=[2708], test_mask=[2708])\n",
      "maximum cross similarity:25.0\n",
      "alpha:0.5\n",
      "Total new edges added: 126\n"
     ]
    },
    {
     "name": "stderr",
     "output_type": "stream",
     "text": [
      "100%|██████████| 16/16 [00:03<00:00,  5.30it/s]\n"
     ]
    },
    {
     "name": "stdout",
     "output_type": "stream",
     "text": [
      "Micro-F1: 0.6821 ± 0.0087\n",
      "Macro-F1: 0.6767 ± 0.0059\n",
      "Combined Edges:\n"
     ]
    },
    {
     "name": "stderr",
     "output_type": "stream",
     "text": [
      "100%|██████████| 16/16 [00:03<00:00,  5.22it/s]\n",
      "/tmp/ipykernel_12769/3947828958.py:9: UserWarning: To copy construct from a tensor, it is recommended to use sourceTensor.clone().detach() or sourceTensor.clone().detach().requires_grad_(True), rather than torch.tensor(sourceTensor).\n",
      "  features = torch.tensor(data.x)\n"
     ]
    },
    {
     "name": "stdout",
     "output_type": "stream",
     "text": [
      "Micro-F1: 0.6907 ± 0.0035\n",
      "Macro-F1: 0.6839 ± 0.0038\n",
      "---------------------------------------------\n",
      "alpha: 0.6\n",
      "Data(x=[2708, 1433], edge_index=[2, 10556], y=[2708], train_mask=[2708], val_mask=[2708], test_mask=[2708])\n",
      "maximum cross similarity:25.0\n",
      "alpha:0.6\n",
      "Total new edges added: 92\n"
     ]
    },
    {
     "name": "stderr",
     "output_type": "stream",
     "text": [
      "100%|██████████| 16/16 [00:03<00:00,  4.56it/s]\n"
     ]
    },
    {
     "name": "stdout",
     "output_type": "stream",
     "text": [
      "Micro-F1: 0.6881 ± 0.0103\n",
      "Macro-F1: 0.6840 ± 0.0077\n",
      "Combined Edges:\n"
     ]
    },
    {
     "name": "stderr",
     "output_type": "stream",
     "text": [
      "100%|██████████| 16/16 [00:03<00:00,  4.97it/s]\n",
      "/tmp/ipykernel_12769/3947828958.py:9: UserWarning: To copy construct from a tensor, it is recommended to use sourceTensor.clone().detach() or sourceTensor.clone().detach().requires_grad_(True), rather than torch.tensor(sourceTensor).\n",
      "  features = torch.tensor(data.x)\n"
     ]
    },
    {
     "name": "stdout",
     "output_type": "stream",
     "text": [
      "Micro-F1: 0.7035 ± 0.0111\n",
      "Macro-F1: 0.6942 ± 0.0069\n",
      "---------------------------------------------\n",
      "alpha: 0.7\n",
      "Data(x=[2708, 1433], edge_index=[2, 10556], y=[2708], train_mask=[2708], val_mask=[2708], test_mask=[2708])\n",
      "maximum cross similarity:25.0\n",
      "alpha:0.7\n",
      "Total new edges added: 74\n"
     ]
    },
    {
     "name": "stderr",
     "output_type": "stream",
     "text": [
      "100%|██████████| 16/16 [00:03<00:00,  4.93it/s]\n"
     ]
    },
    {
     "name": "stdout",
     "output_type": "stream",
     "text": [
      "Micro-F1: 0.6850 ± 0.0089\n",
      "Macro-F1: 0.6818 ± 0.0086\n",
      "Combined Edges:\n"
     ]
    },
    {
     "name": "stderr",
     "output_type": "stream",
     "text": [
      "100%|██████████| 16/16 [00:03<00:00,  4.50it/s]\n",
      "/tmp/ipykernel_12769/3947828958.py:9: UserWarning: To copy construct from a tensor, it is recommended to use sourceTensor.clone().detach() or sourceTensor.clone().detach().requires_grad_(True), rather than torch.tensor(sourceTensor).\n",
      "  features = torch.tensor(data.x)\n"
     ]
    },
    {
     "name": "stdout",
     "output_type": "stream",
     "text": [
      "Micro-F1: 0.6955 ± 0.0031\n",
      "Macro-F1: 0.6899 ± 0.0018\n",
      "---------------------------------------------\n",
      "alpha: 0.8\n",
      "Data(x=[2708, 1433], edge_index=[2, 10556], y=[2708], train_mask=[2708], val_mask=[2708], test_mask=[2708])\n",
      "maximum cross similarity:25.0\n",
      "alpha:0.8\n",
      "Total new edges added: 34\n"
     ]
    },
    {
     "name": "stderr",
     "output_type": "stream",
     "text": [
      "100%|██████████| 16/16 [00:03<00:00,  4.86it/s]\n"
     ]
    },
    {
     "name": "stdout",
     "output_type": "stream",
     "text": [
      "Micro-F1: 0.6955 ± 0.0042\n",
      "Macro-F1: 0.6877 ± 0.0052\n",
      "Combined Edges:\n"
     ]
    },
    {
     "name": "stderr",
     "output_type": "stream",
     "text": [
      "100%|██████████| 16/16 [00:03<00:00,  4.90it/s]\n",
      "/tmp/ipykernel_12769/3947828958.py:9: UserWarning: To copy construct from a tensor, it is recommended to use sourceTensor.clone().detach() or sourceTensor.clone().detach().requires_grad_(True), rather than torch.tensor(sourceTensor).\n",
      "  features = torch.tensor(data.x)\n"
     ]
    },
    {
     "name": "stdout",
     "output_type": "stream",
     "text": [
      "Micro-F1: 0.7055 ± 0.0136\n",
      "Macro-F1: 0.6970 ± 0.0095\n",
      "---------------------------------------------\n",
      "alpha: 0.9\n",
      "Data(x=[2708, 1433], edge_index=[2, 10556], y=[2708], train_mask=[2708], val_mask=[2708], test_mask=[2708])\n",
      "maximum cross similarity:25.0\n",
      "alpha:0.9\n",
      "Total new edges added: 22\n"
     ]
    },
    {
     "name": "stderr",
     "output_type": "stream",
     "text": [
      "100%|██████████| 16/16 [00:03<00:00,  4.97it/s]\n"
     ]
    },
    {
     "name": "stdout",
     "output_type": "stream",
     "text": [
      "Micro-F1: 0.6816 ± 0.0078\n",
      "Macro-F1: 0.6776 ± 0.0075\n",
      "Combined Edges:\n"
     ]
    },
    {
     "name": "stderr",
     "output_type": "stream",
     "text": [
      "100%|██████████| 16/16 [00:03<00:00,  4.84it/s]"
     ]
    },
    {
     "name": "stdout",
     "output_type": "stream",
     "text": [
      "Micro-F1: 0.6846 ± 0.0058\n",
      "Macro-F1: 0.6783 ± 0.0081\n"
     ]
    },
    {
     "name": "stderr",
     "output_type": "stream",
     "text": [
      "\n"
     ]
    }
   ],
   "source": [
    "x=[] #alpha\n",
    "y1=[] # edge count added\n",
    "y2=[] #micro\n",
    "y3=[] #macro\n",
    "y4=[]# micro\n",
    "y5=[] # marcro\n",
    "for alpha in range(0,10):\n",
    "    print(\"---------------------------------------------\")\n",
    "    alpha=alpha/10\n",
    "    print(\"alpha:\",alpha)\n",
    "    xx,y1a,y2b,y3c,y4d,y5e=evalator(alpha)\n",
    "    x.append(xx)\n",
    "    y1.append(y1a)\n",
    "    y2.append(y2b)\n",
    "    y3.append(y3c)\n",
    "    y4.append(y4d)\n",
    "    y5.append(y5e)"
   ]
  },
  {
   "cell_type": "code",
   "execution_count": 8,
   "metadata": {},
   "outputs": [
    {
     "data": {
      "text/plain": [
       "[<matplotlib.lines.Line2D at 0x7f1e12358a60>]"
      ]
     },
     "execution_count": 8,
     "metadata": {},
     "output_type": "execute_result"
    },
    {
     "data": {
      "image/png": "[encoded data removed]",
      "text/plain": [
       "<Figure size 640x480 with 1 Axes>"
      ]
     },
     "metadata": {},
     "output_type": "display_data"
    }
   ],
   "source": [
    "import matplotlib.pyplot as plt\n",
    "\n",
    "plt.plot(x,y3)\n"
   ]
  },
  {
   "cell_type": "code",
   "execution_count": 9,
   "metadata": {},
   "outputs": [
    {
     "data": {
      "image/png": "[encoded data removed]",
      "text/plain": [
       "<Figure size 2000x500 with 3 Axes>"
      ]
     },
     "metadata": {},
     "output_type": "display_data"
    }
   ],
   "source": [
    "plt.figure(figsize=(20,5))\n",
    "\n",
    "plt.subplot(1,3,1)\n",
    "plt.plot(x,y1)\n",
    "plt.xlabel('alpha')\n",
    "plt.ylabel('new edges added')\n",
    "\n",
    "\n",
    "plt.subplot(1,3,2)\n",
    "plt.plot(x,y2,label=\"after fusion\",marker=\"o\",color=\"orange\")\n",
    "plt.plot(x,y4,label='before fusion',marker='o',color='blue')\n",
    "\n",
    "plt.xlabel('alpha')\n",
    "plt.ylabel('micro F1')\n",
    "plt.title('micro F1 across alpha')\n",
    "plt.legend()\n",
    "\n",
    "\n",
    "plt.subplot(1,3,3)\n",
    "plt.plot(x,y2,label=\"after fusion\",marker=\"o\",color=\"orange\")\n",
    "plt.plot(x,y4,label='before fusion',marker='o',color='blue')\n",
    "\n",
    "plt.xlabel('alpha')\n",
    "plt.ylabel('micro F1')\n",
    "plt.title('micro F1 across alpha')\n",
    "plt.legend()\n",
    "\n",
    "plt.show()\n",
    "\n"
   ]
  }
 ],
 "metadata": {
  "kernelspec": {
   "display_name": "StableVITON",
   "language": "python",
   "name": "python3"
  },
  "language_info": {
   "codemirror_mode": {
    "name": "ipython",
    "version": 3
   },
   "file_extension": ".py",
   "mimetype": "text/x-python",
   "name": "python",
   "nbconvert_exporter": "python",
   "pygments_lexer": "ipython3",
   "version": "3.10.15"
  }
 },
 "nbformat": 4,
 "nbformat_minor": 2
}

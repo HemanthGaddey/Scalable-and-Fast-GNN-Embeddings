{
 "cells": [
  {
   "cell_type": "code",
   "execution_count": 1,
   "metadata": {},
   "outputs": [
    {
     "name": "stderr",
     "output_type": "stream",
     "text": [
      "/home/vamsi/miniconda3/envs/droneup/lib/python3.9/site-packages/torch_geometric/typing.py:68: UserWarning: An issue occurred while importing 'pyg-lib'. Disabling its usage. Stacktrace: /home/vamsi/miniconda3/envs/droneup/lib/python3.9/site-packages/libpyg.so: undefined symbol: _ZN3c109TupleTypeC1ESt6vectorINS_4Type24SingletonOrSharedTypePtrIS2_EESaIS4_EESt8optionalINS_13QualifiedNameEESt10shared_ptrINS_14FunctionSchemaEE\n",
      "  warnings.warn(f\"An issue occurred while importing 'pyg-lib'. \"\n",
      "/home/vamsi/miniconda3/envs/droneup/lib/python3.9/site-packages/torch_geometric/typing.py:86: UserWarning: An issue occurred while importing 'torch-scatter'. Disabling its usage. Stacktrace: /home/vamsi/miniconda3/envs/droneup/lib/python3.9/site-packages/torch_scatter/_version_cuda.so: undefined symbol: _ZN5torch3jit17parseSchemaOrNameERKSsb\n",
      "  warnings.warn(f\"An issue occurred while importing 'torch-scatter'. \"\n",
      "/home/vamsi/miniconda3/envs/droneup/lib/python3.9/site-packages/torch_geometric/typing.py:97: UserWarning: An issue occurred while importing 'torch-cluster'. Disabling its usage. Stacktrace: /home/vamsi/miniconda3/envs/droneup/lib/python3.9/site-packages/torch_cluster/_version_cuda.so: undefined symbol: _ZN5torch3jit17parseSchemaOrNameERKSsb\n",
      "  warnings.warn(f\"An issue occurred while importing 'torch-cluster'. \"\n",
      "/home/vamsi/miniconda3/envs/droneup/lib/python3.9/site-packages/torch_geometric/typing.py:113: UserWarning: An issue occurred while importing 'torch-spline-conv'. Disabling its usage. Stacktrace: /home/vamsi/miniconda3/envs/droneup/lib/python3.9/site-packages/torch_spline_conv/_version_cuda.so: undefined symbol: _ZN5torch3jit17parseSchemaOrNameERKSsb\n",
      "  warnings.warn(\n",
      "/home/vamsi/miniconda3/envs/droneup/lib/python3.9/site-packages/torch_geometric/typing.py:124: UserWarning: An issue occurred while importing 'torch-sparse'. Disabling its usage. Stacktrace: /home/vamsi/miniconda3/envs/droneup/lib/python3.9/site-packages/torch_sparse/_version_cuda.so: undefined symbol: _ZN5torch3jit17parseSchemaOrNameERKSsb\n",
      "  warnings.warn(f\"An issue occurred while importing 'torch-sparse'. \"\n"
     ]
    }
   ],
   "source": [
    "import torch\n",
    "import torch.nn.functional as F\n",
    "from torch_geometric.datasets import Flickr, Coauthor, CoraFull, Planetoid\n",
    "from torch_geometric.nn import GCNConv\n",
    "from torch_geometric.loader import NeighborLoader\n",
    "from tqdm import tqdm\n",
    "import matplotlib.pyplot as plt\n",
    "import numpy as np\n",
    "import pandas as pd\n",
    "import os\n",
    "from tqdm import tqdm\n",
    "import networkx as nx\n",
    "from sklearn.linear_model import LogisticRegression\n",
    "from sklearn.metrics import f1_score"
   ]
  },
  {
   "cell_type": "code",
   "execution_count": 2,
   "metadata": {},
   "outputs": [
    {
     "name": "stdout",
     "output_type": "stream",
     "text": [
      "Data(x=[2708, 1433], edge_index=[2, 10556], y=[2708], train_mask=[2708], val_mask=[2708], test_mask=[2708])\n"
     ]
    },
    {
     "name": "stderr",
     "output_type": "stream",
     "text": [
      "/tmp/ipykernel_94022/1516843027.py:21: UserWarning: To copy construct from a tensor, it is recommended to use sourceTensor.clone().detach() or sourceTensor.clone().detach().requires_grad_(True), rather than torch.tensor(sourceTensor).\n",
      "  features = torch.tensor(data.x)\n"
     ]
    }
   ],
   "source": [
    "SEED=548\n",
    "np.random.seed(SEED)\n",
    "torch.manual_seed(SEED)\n",
    "torch.cuda.manual_seed(SEED)\n",
    "torch.cuda.manual_seed_all(SEED)\n",
    "torch.backends.cudnn.deterministic = True\n",
    "torch.backends.cudnn.benchmark = False\n",
    "import sklearn\n",
    "sklearn.utils.check_random_state(SEED)\n",
    "#-----------------------------------------\n",
    "def edge_index_to_adj(edge_index, num_nodes):\n",
    "    values = torch.ones(edge_index.shape[1])\n",
    "    adj_matrix = torch.sparse_coo_tensor(edge_index, values, (num_nodes, num_nodes))\n",
    "    return adj_matrix.to_dense()\n",
    "\n",
    "dataset = Planetoid(root='data/Planetoid', name='Cora')\n",
    "data = dataset[0]  # The dataset contains a single graph\n",
    "print(data)\n",
    "adj_matrix = edge_index_to_adj(data.edge_index, len(data.x))\n",
    "\n",
    "features = torch.tensor(data.x)\n",
    "# finding feature similarity across all the nodes via dot product\n",
    "similarities = (features@features.T)\n",
    "\n",
    "# making the diagnol elements to zero as the max similarity is obtained with a same\n",
    "similarities = similarities * (torch.eye(len(similarities)) == 0).long()"
   ]
  },
  {
   "cell_type": "code",
   "execution_count": 3,
   "metadata": {},
   "outputs": [
    {
     "name": "stdout",
     "output_type": "stream",
     "text": [
      "maximum cross similarity:25.0\n",
      "alpha:0.3\n",
      "Total new edges added: 1168\n",
      "previous_edges:10556\n",
      "new_edges:11724\n"
     ]
    }
   ],
   "source": [
    "maxi=similarities.max()\n",
    "# for i in range(similarities.shape[0]):\n",
    "#     for j in range(similarities.shape[1]):\n",
    "#         if similarities[i][j]>maxi:\n",
    "#             maxi=similarities[i][j]\n",
    "print(f\"maximum cross similarity:{maxi}\")\n",
    "\n",
    "# normalizing similarty to lie in range [0,1]\n",
    "similarities=torch.div(similarities, maxi)\n",
    "\n",
    "alpha = 0.3\n",
    "print(f\"alpha:{alpha}\")\n",
    "max_similarities = (similarities > alpha).long()\n",
    "\n",
    "new_edges = torch.nonzero(max_similarities, as_tuple=False).T\n",
    "\n",
    "existing_edges = set(map(tuple, data.edge_index.T.tolist()))\n",
    "\n",
    "# check if there is a common edges between the ones we found and existing ones\n",
    "filtered_new_edges = []\n",
    "for i, j in new_edges.T.tolist():\n",
    "    if (i, j) not in existing_edges and (j, i) not in existing_edges:  # Avoid duplicates\n",
    "        filtered_new_edges.append([i, j])\n",
    "\n",
    "prev_edges = data.edge_index\n",
    "if filtered_new_edges:\n",
    "    filtered_new_edges = torch.tensor(filtered_new_edges, dtype=torch.long).T  # Shape: [2, num_new_edges]\n",
    "\n",
    "    # Append new edges to data.edge_index\n",
    "\n",
    "    data.edge_index = torch.cat([data.edge_index, filtered_new_edges], dim=1)\n",
    "\n",
    "print(f\"Total new edges added: {filtered_new_edges.shape[1] if len(filtered_new_edges) > 0 else 0}\")\n",
    "\n",
    "new_edges = data.edge_index\n",
    "\n",
    "print(f\"previous_edges:{len(prev_edges[0])}\")\n",
    "print(f\"new_edges:{len(new_edges[0])}\")\n"
   ]
  },
  {
   "cell_type": "code",
   "execution_count": 4,
   "metadata": {},
   "outputs": [],
   "source": [
    "save_edges = lambda args: pd.DataFrame(args[0].T).to_csv(args[1],index=None, header=None, sep=' ', mode='a')\n",
    "def get_embeddings(\n",
    "    edges, \n",
    "    edges_name=\"edgelist.txt\", \n",
    "    k=128,  # Embedding dimension\n",
    "    a=0.01,  # damping parameter\n",
    "    partition=1,\n",
    "    output=False\n",
    "):\n",
    "    '''\n",
    "    \"partition\": the partition algorithm to use, default is 1.\n",
    "    0: random bisection\n",
    "    1: Louvain partition\n",
    "    2: Louvain first-level partition\n",
    "    3: Label Propagation partition\n",
    "    '''\n",
    "    open(edges_name,'w').close()\n",
    "    save_edges((edges, edges_name))\n",
    "\n",
    "    if not os.path.exists('./hierarchy.txt'):\n",
    "        os.mknod('./hierarchy.txt')\n",
    "    else:\n",
    "        open('hierarchy.txt','w').close()\n",
    "    if not os.path.exists('./vectors.txt'):\n",
    "        os.mknod('./vectors.txt')\n",
    "    else:\n",
    "        open('vectors.txt','w').close()\n",
    "    \n",
    "    # do hierarchical clustering using Louvain algorithm\n",
    "    endstr = '> /dev/null 2>&1'\n",
    "    if(output):\n",
    "        endstr = ''\n",
    "    os.system(f'./LouvainNE/recpart ./{edges_name} ./hierarchy.txt {partition} {endstr}')\n",
    "    \n",
    "    # obtain node embedding of each node at every hierarchy\n",
    "    os.system(f'./LouvainNE/hi2vec {k} {a} ./hierarchy.txt ./vectors.txt {endstr}')\n",
    "    \n",
    "    # Path to your output node embeddings text file\n",
    "    file_path = 'vectors.txt'\n",
    "\n",
    "    data_ = np.loadtxt(file_path)\n",
    "    data_tensor = torch.from_numpy(data_)\n",
    "    # The first column contains node IDs\n",
    "    node_ids = data_tensor[:, 0].to(torch.int)\n",
    "    # The remaining columns contain embeddings\n",
    "    embeddings = data_tensor[:, 1:]\n",
    "    return node_ids, embeddings"
   ]
  },
  {
   "cell_type": "code",
   "execution_count": 5,
   "metadata": {},
   "outputs": [],
   "source": [
    "def evaluate_node_classification(aa_node_ids, aa_embeddings, data):\n",
    "    \"\"\"\n",
    "    Evaluates multi-class node classification using Logistic Regression.\n",
    "\n",
    "    Args:\n",
    "        aa_node_ids: List of node IDs.\n",
    "        aa_embeddings: Corresponding node embeddings.\n",
    "        data: PyTorch Geometric data object containing labels and masks.\n",
    "\n",
    "    Returns:\n",
    "        Micro-F1 and Macro-F1 scores.\n",
    "    \"\"\"\n",
    "\n",
    "    # Map node IDs to indices in embeddings\n",
    "    node_to_idx = {node_id.item(): idx for idx, node_id in enumerate(aa_node_ids)}\n",
    "\n",
    "    # Reorder embeddings to match the label ordering\n",
    "    ordered_embeddings = np.zeros((len(data.y), aa_embeddings.shape[1]))\n",
    "    for i in range(len(data.y)):\n",
    "        ordered_embeddings[i] = aa_embeddings[node_to_idx[i]]\n",
    "\n",
    "    # Convert masks to NumPy arrays\n",
    "    train_mask = data.train_mask.numpy()\n",
    "    test_mask = data.test_mask.numpy()\n",
    "\n",
    "    # Prepare train and test data\n",
    "    X_train, X_test = ordered_embeddings[train_mask], ordered_embeddings[test_mask]\n",
    "    y_train, y_test = data.y[train_mask].numpy(), data.y[test_mask].numpy()\n",
    "\n",
    "    # Train Logistic Regression classifier\n",
    "    clf = LogisticRegression(max_iter=1000, solver='lbfgs')\n",
    "    clf.fit(X_train, y_train)\n",
    "\n",
    "    # Predict on the test set\n",
    "    y_pred = clf.predict(X_test)\n",
    "\n",
    "    # Compute Micro-F1 and Macro-F1 scores\n",
    "    micro_f1 = f1_score(y_test, y_pred, average='micro')\n",
    "    macro_f1 = f1_score(y_test, y_pred, average='macro')\n",
    "\n",
    "    return {\n",
    "        'micro_f1': micro_f1,\n",
    "        'macro_f1': macro_f1\n",
    "    }\n"
   ]
  },
  {
   "cell_type": "code",
   "execution_count": null,
   "metadata": {},
   "outputs": [
    {
     "name": "stdout",
     "output_type": "stream",
     "text": [
      "Only Initial Edges:\n"
     ]
    },
    {
     "name": "stderr",
     "output_type": "stream",
     "text": [
      "100%|██████████| 256/256 [01:14<00:00,  3.42it/s]\n"
     ]
    },
    {
     "name": "stdout",
     "output_type": "stream",
     "text": [
      "Micro-F1: 0.6841 ± 0.0095\n",
      "Macro-F1: 0.6794 ± 0.0081\n",
      "Combined Edges:\n"
     ]
    },
    {
     "name": "stderr",
     "output_type": "stream",
     "text": [
      "100%|██████████| 256/256 [01:19<00:00,  3.23it/s]"
     ]
    },
    {
     "name": "stdout",
     "output_type": "stream",
     "text": [
      "Micro-F1: 0.7417 ± 0.0089\n",
      "Macro-F1: 0.7385 ± 0.0066\n"
     ]
    },
    {
     "name": "stderr",
     "output_type": "stream",
     "text": [
      "\n"
     ]
    }
   ],
   "source": [
    "print('Only Initial Edges:')\n",
    "\n",
    "\n",
    "a = []\n",
    "b = []\n",
    "for i in tqdm(range(16)):\n",
    "    aa_node_ids, aa_embeddings = get_embeddings(prev_edges, \"prev_edgelist.txt\", k=256, partition=1)\n",
    "    result = evaluate_node_classification(aa_node_ids, aa_embeddings, data)\n",
    "    a.append(result['micro_f1'])\n",
    "    b.append(result['macro_f1'])\n",
    "\n",
    "print(f\"Micro-F1: {np.mean(a):.4f} ± {np.std(a):.4f}\")\n",
    "print(f\"Macro-F1: {np.mean(b):.4f} ± {np.std(b):.4f}\")\n",
    "\n",
    "print('Combined Edges:')\n",
    "a = []\n",
    "b = []\n",
    "for i in tqdm(range(16)):\n",
    "    aa_node_ids, aa_embeddings = get_embeddings(new_edges, \"new_edgelist.txt\", k=256, partition=1)\n",
    "    result = evaluate_node_classification(aa_node_ids, aa_embeddings, data)\n",
    "    a.append(result['micro_f1'])\n",
    "    b.append(result['macro_f1'])\n",
    "\n",
    "print(f\"Micro-F1: {np.mean(a):.4f} ± {np.std(a):.4f}\")\n",
    "print(f\"Macro-F1: {np.mean(b):.4f} ± {np.std(b):.4f}\")"
   ]
  },
  {
   "cell_type": "code",
   "execution_count": 18,
   "metadata": {},
   "outputs": [],
   "source": [
    "def evalator(alpha):\n",
    "    \n",
    "    dataset = Planetoid(root='data/Planetoid', name='Cora')\n",
    "    data = dataset[0]  # The dataset contains a single graph\n",
    "    print(data)\n",
    "    adj_matrix = edge_index_to_adj(data.edge_index, len(data.x))\n",
    "\n",
    "    features = torch.tensor(data.x)\n",
    "    # finding feature similarity across all the nodes via dot product\n",
    "    similarities = (features@features.T)\n",
    "\n",
    "# making the diagnol elements to zero as the max similarity is obtained with a same\n",
    "    similarities = similarities * (torch.eye(len(similarities)) == 0).long()\n",
    "    \n",
    "    maxi=similarities.max()\n",
    "\n",
    "# normalizing similarty to lie in range [0,1]\n",
    "    similarities=torch.div(similarities, maxi)\n",
    "    \n",
    "    max_similarities = (similarities > alpha).long()\n",
    "\n",
    "    new_edges = torch.nonzero(max_similarities, as_tuple=False).T\n",
    "\n",
    "    existing_edges = set(map(tuple, data.edge_index.T.tolist()))\n",
    "\n",
    "    # check if there is a common edges between the ones we found and existing ones\n",
    "    filtered_new_edges = []\n",
    "    for i, j in new_edges.T.tolist():\n",
    "        if (i, j) not in existing_edges and (j, i) not in existing_edges:  # Avoid duplicates\n",
    "            filtered_new_edges.append([i, j])\n",
    "\n",
    "    prev_edges = data.edge_index\n",
    "    if filtered_new_edges:\n",
    "        filtered_new_edges = torch.tensor(filtered_new_edges, dtype=torch.long).T  # Shape: [2, num_new_edges]\n",
    "\n",
    "        # Append new edges to data.edge_index\n",
    "\n",
    "        data.edge_index = torch.cat([data.edge_index, filtered_new_edges], dim=1)\n",
    "\n",
    "    print(f\"Total new edges added: {filtered_new_edges.shape[1] if len(filtered_new_edges) > 0 else 0}\")\n",
    "\n",
    "    new_edges = data.edge_index\n",
    "\n",
    "\n",
    "    a1 = []\n",
    "    b1 = []\n",
    "    for i in tqdm(range(16)):\n",
    "        aa_node_ids, aa_embeddings = get_embeddings(prev_edges, \"prev_edgelist.txt\", k=256, partition=1)\n",
    "        result = evaluate_node_classification(aa_node_ids, aa_embeddings, data)\n",
    "        a1.append(result['micro_f1'])\n",
    "        b1.append(result['macro_f1'])\n",
    "\n",
    "    print(f\"Micro-F1: {np.mean(a1):.4f} ± {np.std(a1):.4f}\")\n",
    "    print(f\"Macro-F1: {np.mean(b1):.4f} ± {np.std(b1):.4f}\")\n",
    "\n",
    "    print('Combined Edges:')\n",
    "    a2 = []\n",
    "    b2 = []\n",
    "    for i in tqdm(range(16)):\n",
    "        aa_node_ids, aa_embeddings = get_embeddings(new_edges, \"new_edgelist.txt\", k=256, partition=1)\n",
    "        result = evaluate_node_classification(aa_node_ids, aa_embeddings, data)\n",
    "        a2.append(result['micro_f1'])\n",
    "        b2.append(result['macro_f1'])\n",
    "\n",
    "    print(f\"Micro-F1: {np.mean(a2):.4f} ± {np.std(a2):.4f}\")\n",
    "    print(f\"Macro-F1: {np.mean(b2):.4f} ± {np.std(b2):.4f}\")\n",
    "    \n",
    "    return alpha,filtered_new_edges.shape[1],np.mean(a2),np.mean(b2),np.mean(a1),np.mean(b1)"
   ]
  },
  {
   "cell_type": "code",
   "execution_count": 24,
   "metadata": {},
   "outputs": [
    {
     "name": "stdout",
     "output_type": "stream",
     "text": [
      "Data(x=[2708, 1433], edge_index=[2, 10556], y=[2708], train_mask=[2708], val_mask=[2708], test_mask=[2708])\n"
     ]
    },
    {
     "name": "stderr",
     "output_type": "stream",
     "text": [
      "/tmp/ipykernel_94022/3194781479.py:8: UserWarning: To copy construct from a tensor, it is recommended to use sourceTensor.clone().detach() or sourceTensor.clone().detach().requires_grad_(True), rather than torch.tensor(sourceTensor).\n",
      "  features = torch.tensor(data.x)\n"
     ]
    },
    {
     "name": "stdout",
     "output_type": "stream",
     "text": [
      "Total new edges added: 4428556\n"
     ]
    },
    {
     "name": "stderr",
     "output_type": "stream",
     "text": [
      "100%|██████████| 16/16 [00:04<00:00,  3.58it/s]\n"
     ]
    },
    {
     "name": "stdout",
     "output_type": "stream",
     "text": [
      "Micro-F1: 0.6832 ± 0.0061\n",
      "Macro-F1: 0.6787 ± 0.0052\n",
      "Combined Edges:\n"
     ]
    },
    {
     "name": "stderr",
     "output_type": "stream",
     "text": [
      "100%|██████████| 16/16 [00:36<00:00,  2.31s/it]\n",
      "/tmp/ipykernel_94022/3194781479.py:8: UserWarning: To copy construct from a tensor, it is recommended to use sourceTensor.clone().detach() or sourceTensor.clone().detach().requires_grad_(True), rather than torch.tensor(sourceTensor).\n",
      "  features = torch.tensor(data.x)\n"
     ]
    },
    {
     "name": "stdout",
     "output_type": "stream",
     "text": [
      "Micro-F1: 0.3260 ± 0.0000\n",
      "Macro-F1: 0.2301 ± 0.0000\n",
      "Data(x=[2708, 1433], edge_index=[2, 10556], y=[2708], train_mask=[2708], val_mask=[2708], test_mask=[2708])\n",
      "Total new edges added: 2060336\n"
     ]
    },
    {
     "name": "stderr",
     "output_type": "stream",
     "text": [
      "100%|██████████| 16/16 [00:04<00:00,  3.60it/s]\n"
     ]
    },
    {
     "name": "stdout",
     "output_type": "stream",
     "text": [
      "Micro-F1: 0.6825 ± 0.0066\n",
      "Macro-F1: 0.6797 ± 0.0042\n",
      "Combined Edges:\n"
     ]
    },
    {
     "name": "stderr",
     "output_type": "stream",
     "text": [
      "100%|██████████| 16/16 [00:20<00:00,  1.26s/it]\n",
      "/tmp/ipykernel_94022/3194781479.py:8: UserWarning: To copy construct from a tensor, it is recommended to use sourceTensor.clone().detach() or sourceTensor.clone().detach().requires_grad_(True), rather than torch.tensor(sourceTensor).\n",
      "  features = torch.tensor(data.x)\n"
     ]
    },
    {
     "name": "stdout",
     "output_type": "stream",
     "text": [
      "Micro-F1: 0.4350 ± 0.0000\n",
      "Macro-F1: 0.2901 ± 0.0000\n",
      "Data(x=[2708, 1433], edge_index=[2, 10556], y=[2708], train_mask=[2708], val_mask=[2708], test_mask=[2708])\n",
      "Total new edges added: 762060\n"
     ]
    },
    {
     "name": "stderr",
     "output_type": "stream",
     "text": [
      "100%|██████████| 16/16 [00:04<00:00,  3.62it/s]\n"
     ]
    },
    {
     "name": "stdout",
     "output_type": "stream",
     "text": [
      "Micro-F1: 0.6873 ± 0.0079\n",
      "Macro-F1: 0.6826 ± 0.0076\n",
      "Combined Edges:\n"
     ]
    },
    {
     "name": "stderr",
     "output_type": "stream",
     "text": [
      "100%|██████████| 16/16 [00:10<00:00,  1.48it/s]\n",
      "/tmp/ipykernel_94022/3194781479.py:8: UserWarning: To copy construct from a tensor, it is recommended to use sourceTensor.clone().detach() or sourceTensor.clone().detach().requires_grad_(True), rather than torch.tensor(sourceTensor).\n",
      "  features = torch.tensor(data.x)\n"
     ]
    },
    {
     "name": "stdout",
     "output_type": "stream",
     "text": [
      "Micro-F1: 0.4630 ± 0.0000\n",
      "Macro-F1: 0.3059 ± 0.0000\n",
      "Data(x=[2708, 1433], edge_index=[2, 10556], y=[2708], train_mask=[2708], val_mask=[2708], test_mask=[2708])\n",
      "Total new edges added: 235376\n"
     ]
    },
    {
     "name": "stderr",
     "output_type": "stream",
     "text": [
      "100%|██████████| 16/16 [00:04<00:00,  3.55it/s]\n"
     ]
    },
    {
     "name": "stdout",
     "output_type": "stream",
     "text": [
      "Micro-F1: 0.6934 ± 0.0082\n",
      "Macro-F1: 0.6874 ± 0.0079\n",
      "Combined Edges:\n"
     ]
    },
    {
     "name": "stderr",
     "output_type": "stream",
     "text": [
      "100%|██████████| 16/16 [00:06<00:00,  2.34it/s]\n",
      "/tmp/ipykernel_94022/3194781479.py:8: UserWarning: To copy construct from a tensor, it is recommended to use sourceTensor.clone().detach() or sourceTensor.clone().detach().requires_grad_(True), rather than torch.tensor(sourceTensor).\n",
      "  features = torch.tensor(data.x)\n"
     ]
    },
    {
     "name": "stdout",
     "output_type": "stream",
     "text": [
      "Micro-F1: 0.5603 ± 0.0047\n",
      "Macro-F1: 0.4866 ± 0.0028\n",
      "Data(x=[2708, 1433], edge_index=[2, 10556], y=[2708], train_mask=[2708], val_mask=[2708], test_mask=[2708])\n",
      "Total new edges added: 16050\n"
     ]
    },
    {
     "name": "stderr",
     "output_type": "stream",
     "text": [
      "100%|██████████| 16/16 [00:04<00:00,  3.47it/s]\n"
     ]
    },
    {
     "name": "stdout",
     "output_type": "stream",
     "text": [
      "Micro-F1: 0.6895 ± 0.0059\n",
      "Macro-F1: 0.6831 ± 0.0049\n",
      "Combined Edges:\n"
     ]
    },
    {
     "name": "stderr",
     "output_type": "stream",
     "text": [
      "100%|██████████| 16/16 [00:05<00:00,  3.05it/s]\n",
      "/tmp/ipykernel_94022/3194781479.py:8: UserWarning: To copy construct from a tensor, it is recommended to use sourceTensor.clone().detach() or sourceTensor.clone().detach().requires_grad_(True), rather than torch.tensor(sourceTensor).\n",
      "  features = torch.tensor(data.x)\n"
     ]
    },
    {
     "name": "stdout",
     "output_type": "stream",
     "text": [
      "Micro-F1: 0.6663 ± 0.0058\n",
      "Macro-F1: 0.6398 ± 0.0036\n",
      "Data(x=[2708, 1433], edge_index=[2, 10556], y=[2708], train_mask=[2708], val_mask=[2708], test_mask=[2708])\n",
      "Total new edges added: 4122\n"
     ]
    },
    {
     "name": "stderr",
     "output_type": "stream",
     "text": [
      "100%|██████████| 16/16 [00:04<00:00,  3.29it/s]\n"
     ]
    },
    {
     "name": "stdout",
     "output_type": "stream",
     "text": [
      "Micro-F1: 0.6899 ± 0.0082\n",
      "Macro-F1: 0.6841 ± 0.0073\n",
      "Combined Edges:\n"
     ]
    },
    {
     "name": "stderr",
     "output_type": "stream",
     "text": [
      "100%|██████████| 16/16 [00:05<00:00,  3.13it/s]\n",
      "/tmp/ipykernel_94022/3194781479.py:8: UserWarning: To copy construct from a tensor, it is recommended to use sourceTensor.clone().detach() or sourceTensor.clone().detach().requires_grad_(True), rather than torch.tensor(sourceTensor).\n",
      "  features = torch.tensor(data.x)\n"
     ]
    },
    {
     "name": "stdout",
     "output_type": "stream",
     "text": [
      "Micro-F1: 0.7242 ± 0.0113\n",
      "Macro-F1: 0.7146 ± 0.0102\n",
      "Data(x=[2708, 1433], edge_index=[2, 10556], y=[2708], train_mask=[2708], val_mask=[2708], test_mask=[2708])\n",
      "Total new edges added: 1168\n"
     ]
    },
    {
     "name": "stderr",
     "output_type": "stream",
     "text": [
      "100%|██████████| 16/16 [00:04<00:00,  3.25it/s]\n"
     ]
    },
    {
     "name": "stdout",
     "output_type": "stream",
     "text": [
      "Micro-F1: 0.6848 ± 0.0059\n",
      "Macro-F1: 0.6828 ± 0.0056\n",
      "Combined Edges:\n"
     ]
    },
    {
     "name": "stderr",
     "output_type": "stream",
     "text": [
      "100%|██████████| 16/16 [00:04<00:00,  3.29it/s]\n",
      "/tmp/ipykernel_94022/3194781479.py:8: UserWarning: To copy construct from a tensor, it is recommended to use sourceTensor.clone().detach() or sourceTensor.clone().detach().requires_grad_(True), rather than torch.tensor(sourceTensor).\n",
      "  features = torch.tensor(data.x)\n"
     ]
    },
    {
     "name": "stdout",
     "output_type": "stream",
     "text": [
      "Micro-F1: 0.7441 ± 0.0096\n",
      "Macro-F1: 0.7387 ± 0.0081\n",
      "Data(x=[2708, 1433], edge_index=[2, 10556], y=[2708], train_mask=[2708], val_mask=[2708], test_mask=[2708])\n",
      "Total new edges added: 424\n"
     ]
    },
    {
     "name": "stderr",
     "output_type": "stream",
     "text": [
      "100%|██████████| 16/16 [00:04<00:00,  3.32it/s]\n"
     ]
    },
    {
     "name": "stdout",
     "output_type": "stream",
     "text": [
      "Micro-F1: 0.6827 ± 0.0105\n",
      "Macro-F1: 0.6791 ± 0.0088\n",
      "Combined Edges:\n"
     ]
    },
    {
     "name": "stderr",
     "output_type": "stream",
     "text": [
      "100%|██████████| 16/16 [00:04<00:00,  3.23it/s]\n",
      "/tmp/ipykernel_94022/3194781479.py:8: UserWarning: To copy construct from a tensor, it is recommended to use sourceTensor.clone().detach() or sourceTensor.clone().detach().requires_grad_(True), rather than torch.tensor(sourceTensor).\n",
      "  features = torch.tensor(data.x)\n"
     ]
    },
    {
     "name": "stdout",
     "output_type": "stream",
     "text": [
      "Micro-F1: 0.6881 ± 0.0095\n",
      "Macro-F1: 0.6803 ± 0.0083\n",
      "Data(x=[2708, 1433], edge_index=[2, 10556], y=[2708], train_mask=[2708], val_mask=[2708], test_mask=[2708])\n",
      "Total new edges added: 180\n"
     ]
    },
    {
     "name": "stderr",
     "output_type": "stream",
     "text": [
      "100%|██████████| 16/16 [00:04<00:00,  3.24it/s]\n"
     ]
    },
    {
     "name": "stdout",
     "output_type": "stream",
     "text": [
      "Micro-F1: 0.6821 ± 0.0107\n",
      "Macro-F1: 0.6787 ± 0.0091\n",
      "Combined Edges:\n"
     ]
    },
    {
     "name": "stderr",
     "output_type": "stream",
     "text": [
      "100%|██████████| 16/16 [00:04<00:00,  3.24it/s]\n",
      "/tmp/ipykernel_94022/3194781479.py:8: UserWarning: To copy construct from a tensor, it is recommended to use sourceTensor.clone().detach() or sourceTensor.clone().detach().requires_grad_(True), rather than torch.tensor(sourceTensor).\n",
      "  features = torch.tensor(data.x)\n"
     ]
    },
    {
     "name": "stdout",
     "output_type": "stream",
     "text": [
      "Micro-F1: 0.6708 ± 0.0090\n",
      "Macro-F1: 0.6648 ± 0.0066\n",
      "Data(x=[2708, 1433], edge_index=[2, 10556], y=[2708], train_mask=[2708], val_mask=[2708], test_mask=[2708])\n",
      "Total new edges added: 146\n"
     ]
    },
    {
     "name": "stderr",
     "output_type": "stream",
     "text": [
      "100%|██████████| 16/16 [00:04<00:00,  3.23it/s]\n"
     ]
    },
    {
     "name": "stdout",
     "output_type": "stream",
     "text": [
      "Micro-F1: 0.6833 ± 0.0063\n",
      "Macro-F1: 0.6759 ± 0.0048\n",
      "Combined Edges:\n"
     ]
    },
    {
     "name": "stderr",
     "output_type": "stream",
     "text": [
      "100%|██████████| 16/16 [00:04<00:00,  3.26it/s]\n",
      "/tmp/ipykernel_94022/3194781479.py:8: UserWarning: To copy construct from a tensor, it is recommended to use sourceTensor.clone().detach() or sourceTensor.clone().detach().requires_grad_(True), rather than torch.tensor(sourceTensor).\n",
      "  features = torch.tensor(data.x)\n"
     ]
    },
    {
     "name": "stdout",
     "output_type": "stream",
     "text": [
      "Micro-F1: 0.6789 ± 0.0189\n",
      "Macro-F1: 0.6745 ± 0.0174\n",
      "Data(x=[2708, 1433], edge_index=[2, 10556], y=[2708], train_mask=[2708], val_mask=[2708], test_mask=[2708])\n",
      "Total new edges added: 126\n"
     ]
    },
    {
     "name": "stderr",
     "output_type": "stream",
     "text": [
      "100%|██████████| 16/16 [00:04<00:00,  3.26it/s]\n"
     ]
    },
    {
     "name": "stdout",
     "output_type": "stream",
     "text": [
      "Micro-F1: 0.6866 ± 0.0078\n",
      "Macro-F1: 0.6820 ± 0.0081\n",
      "Combined Edges:\n"
     ]
    },
    {
     "name": "stderr",
     "output_type": "stream",
     "text": [
      "100%|██████████| 16/16 [00:04<00:00,  3.24it/s]\n",
      "/tmp/ipykernel_94022/3194781479.py:8: UserWarning: To copy construct from a tensor, it is recommended to use sourceTensor.clone().detach() or sourceTensor.clone().detach().requires_grad_(True), rather than torch.tensor(sourceTensor).\n",
      "  features = torch.tensor(data.x)\n"
     ]
    },
    {
     "name": "stdout",
     "output_type": "stream",
     "text": [
      "Micro-F1: 0.6672 ± 0.0085\n",
      "Macro-F1: 0.6692 ± 0.0057\n",
      "Data(x=[2708, 1433], edge_index=[2, 10556], y=[2708], train_mask=[2708], val_mask=[2708], test_mask=[2708])\n",
      "Total new edges added: 120\n"
     ]
    },
    {
     "name": "stderr",
     "output_type": "stream",
     "text": [
      "100%|██████████| 16/16 [00:04<00:00,  3.23it/s]\n"
     ]
    },
    {
     "name": "stdout",
     "output_type": "stream",
     "text": [
      "Micro-F1: 0.6816 ± 0.0077\n",
      "Macro-F1: 0.6787 ± 0.0065\n",
      "Combined Edges:\n"
     ]
    },
    {
     "name": "stderr",
     "output_type": "stream",
     "text": [
      "100%|██████████| 16/16 [00:04<00:00,  3.32it/s]\n",
      "/tmp/ipykernel_94022/3194781479.py:8: UserWarning: To copy construct from a tensor, it is recommended to use sourceTensor.clone().detach() or sourceTensor.clone().detach().requires_grad_(True), rather than torch.tensor(sourceTensor).\n",
      "  features = torch.tensor(data.x)\n"
     ]
    },
    {
     "name": "stdout",
     "output_type": "stream",
     "text": [
      "Micro-F1: 0.6737 ± 0.0168\n",
      "Macro-F1: 0.6768 ± 0.0120\n",
      "Data(x=[2708, 1433], edge_index=[2, 10556], y=[2708], train_mask=[2708], val_mask=[2708], test_mask=[2708])\n",
      "Total new edges added: 92\n"
     ]
    },
    {
     "name": "stderr",
     "output_type": "stream",
     "text": [
      "100%|██████████| 16/16 [00:04<00:00,  3.24it/s]\n"
     ]
    },
    {
     "name": "stdout",
     "output_type": "stream",
     "text": [
      "Micro-F1: 0.6904 ± 0.0074\n",
      "Macro-F1: 0.6850 ± 0.0062\n",
      "Combined Edges:\n"
     ]
    },
    {
     "name": "stderr",
     "output_type": "stream",
     "text": [
      "100%|██████████| 16/16 [00:04<00:00,  3.27it/s]\n",
      "/tmp/ipykernel_94022/3194781479.py:8: UserWarning: To copy construct from a tensor, it is recommended to use sourceTensor.clone().detach() or sourceTensor.clone().detach().requires_grad_(True), rather than torch.tensor(sourceTensor).\n",
      "  features = torch.tensor(data.x)\n"
     ]
    },
    {
     "name": "stdout",
     "output_type": "stream",
     "text": [
      "Micro-F1: 0.6779 ± 0.0071\n",
      "Macro-F1: 0.6756 ± 0.0060\n",
      "Data(x=[2708, 1433], edge_index=[2, 10556], y=[2708], train_mask=[2708], val_mask=[2708], test_mask=[2708])\n",
      "Total new edges added: 80\n"
     ]
    },
    {
     "name": "stderr",
     "output_type": "stream",
     "text": [
      "100%|██████████| 16/16 [00:04<00:00,  3.31it/s]\n"
     ]
    },
    {
     "name": "stdout",
     "output_type": "stream",
     "text": [
      "Micro-F1: 0.6888 ± 0.0075\n",
      "Macro-F1: 0.6838 ± 0.0055\n",
      "Combined Edges:\n"
     ]
    },
    {
     "name": "stderr",
     "output_type": "stream",
     "text": [
      "100%|██████████| 16/16 [00:04<00:00,  3.26it/s]\n",
      "/tmp/ipykernel_94022/3194781479.py:8: UserWarning: To copy construct from a tensor, it is recommended to use sourceTensor.clone().detach() or sourceTensor.clone().detach().requires_grad_(True), rather than torch.tensor(sourceTensor).\n",
      "  features = torch.tensor(data.x)\n"
     ]
    },
    {
     "name": "stdout",
     "output_type": "stream",
     "text": [
      "Micro-F1: 0.6832 ± 0.0132\n",
      "Macro-F1: 0.6781 ± 0.0109\n",
      "Data(x=[2708, 1433], edge_index=[2, 10556], y=[2708], train_mask=[2708], val_mask=[2708], test_mask=[2708])\n",
      "Total new edges added: 74\n"
     ]
    },
    {
     "name": "stderr",
     "output_type": "stream",
     "text": [
      "100%|██████████| 16/16 [00:04<00:00,  3.24it/s]\n"
     ]
    },
    {
     "name": "stdout",
     "output_type": "stream",
     "text": [
      "Micro-F1: 0.6874 ± 0.0087\n",
      "Macro-F1: 0.6818 ± 0.0093\n",
      "Combined Edges:\n"
     ]
    },
    {
     "name": "stderr",
     "output_type": "stream",
     "text": [
      "100%|██████████| 16/16 [00:04<00:00,  3.26it/s]\n",
      "/tmp/ipykernel_94022/3194781479.py:8: UserWarning: To copy construct from a tensor, it is recommended to use sourceTensor.clone().detach() or sourceTensor.clone().detach().requires_grad_(True), rather than torch.tensor(sourceTensor).\n",
      "  features = torch.tensor(data.x)\n"
     ]
    },
    {
     "name": "stdout",
     "output_type": "stream",
     "text": [
      "Micro-F1: 0.6920 ± 0.0054\n",
      "Macro-F1: 0.6898 ± 0.0051\n",
      "Data(x=[2708, 1433], edge_index=[2, 10556], y=[2708], train_mask=[2708], val_mask=[2708], test_mask=[2708])\n",
      "Total new edges added: 56\n"
     ]
    },
    {
     "name": "stderr",
     "output_type": "stream",
     "text": [
      "100%|██████████| 16/16 [00:04<00:00,  3.22it/s]\n"
     ]
    },
    {
     "name": "stdout",
     "output_type": "stream",
     "text": [
      "Micro-F1: 0.6851 ± 0.0070\n",
      "Macro-F1: 0.6793 ± 0.0055\n",
      "Combined Edges:\n"
     ]
    },
    {
     "name": "stderr",
     "output_type": "stream",
     "text": [
      "100%|██████████| 16/16 [00:04<00:00,  3.23it/s]\n",
      "/tmp/ipykernel_94022/3194781479.py:8: UserWarning: To copy construct from a tensor, it is recommended to use sourceTensor.clone().detach() or sourceTensor.clone().detach().requires_grad_(True), rather than torch.tensor(sourceTensor).\n",
      "  features = torch.tensor(data.x)\n"
     ]
    },
    {
     "name": "stdout",
     "output_type": "stream",
     "text": [
      "Micro-F1: 0.6856 ± 0.0130\n",
      "Macro-F1: 0.6820 ± 0.0087\n",
      "Data(x=[2708, 1433], edge_index=[2, 10556], y=[2708], train_mask=[2708], val_mask=[2708], test_mask=[2708])\n",
      "Total new edges added: 34\n"
     ]
    },
    {
     "name": "stderr",
     "output_type": "stream",
     "text": [
      "100%|██████████| 16/16 [00:04<00:00,  3.27it/s]\n"
     ]
    },
    {
     "name": "stdout",
     "output_type": "stream",
     "text": [
      "Micro-F1: 0.6832 ± 0.0134\n",
      "Macro-F1: 0.6769 ± 0.0096\n",
      "Combined Edges:\n"
     ]
    },
    {
     "name": "stderr",
     "output_type": "stream",
     "text": [
      "100%|██████████| 16/16 [00:04<00:00,  3.22it/s]\n",
      "/tmp/ipykernel_94022/3194781479.py:8: UserWarning: To copy construct from a tensor, it is recommended to use sourceTensor.clone().detach() or sourceTensor.clone().detach().requires_grad_(True), rather than torch.tensor(sourceTensor).\n",
      "  features = torch.tensor(data.x)\n"
     ]
    },
    {
     "name": "stdout",
     "output_type": "stream",
     "text": [
      "Micro-F1: 0.6950 ± 0.0092\n",
      "Macro-F1: 0.6864 ± 0.0055\n",
      "Data(x=[2708, 1433], edge_index=[2, 10556], y=[2708], train_mask=[2708], val_mask=[2708], test_mask=[2708])\n",
      "Total new edges added: 22\n"
     ]
    },
    {
     "name": "stderr",
     "output_type": "stream",
     "text": [
      "100%|██████████| 16/16 [00:04<00:00,  3.22it/s]\n"
     ]
    },
    {
     "name": "stdout",
     "output_type": "stream",
     "text": [
      "Micro-F1: 0.6892 ± 0.0084\n",
      "Macro-F1: 0.6837 ± 0.0087\n",
      "Combined Edges:\n"
     ]
    },
    {
     "name": "stderr",
     "output_type": "stream",
     "text": [
      "100%|██████████| 16/16 [00:04<00:00,  3.29it/s]\n",
      "/tmp/ipykernel_94022/3194781479.py:8: UserWarning: To copy construct from a tensor, it is recommended to use sourceTensor.clone().detach() or sourceTensor.clone().detach().requires_grad_(True), rather than torch.tensor(sourceTensor).\n",
      "  features = torch.tensor(data.x)\n"
     ]
    },
    {
     "name": "stdout",
     "output_type": "stream",
     "text": [
      "Micro-F1: 0.6868 ± 0.0110\n",
      "Macro-F1: 0.6813 ± 0.0111\n",
      "Data(x=[2708, 1433], edge_index=[2, 10556], y=[2708], train_mask=[2708], val_mask=[2708], test_mask=[2708])\n",
      "Total new edges added: 22\n"
     ]
    },
    {
     "name": "stderr",
     "output_type": "stream",
     "text": [
      "100%|██████████| 16/16 [00:04<00:00,  3.21it/s]\n"
     ]
    },
    {
     "name": "stdout",
     "output_type": "stream",
     "text": [
      "Micro-F1: 0.6820 ± 0.0078\n",
      "Macro-F1: 0.6795 ± 0.0074\n",
      "Combined Edges:\n"
     ]
    },
    {
     "name": "stderr",
     "output_type": "stream",
     "text": [
      "100%|██████████| 16/16 [00:05<00:00,  3.19it/s]\n",
      "/tmp/ipykernel_94022/3194781479.py:8: UserWarning: To copy construct from a tensor, it is recommended to use sourceTensor.clone().detach() or sourceTensor.clone().detach().requires_grad_(True), rather than torch.tensor(sourceTensor).\n",
      "  features = torch.tensor(data.x)\n"
     ]
    },
    {
     "name": "stdout",
     "output_type": "stream",
     "text": [
      "Micro-F1: 0.7027 ± 0.0068\n",
      "Macro-F1: 0.6936 ± 0.0065\n",
      "Data(x=[2708, 1433], edge_index=[2, 10556], y=[2708], train_mask=[2708], val_mask=[2708], test_mask=[2708])\n",
      "Total new edges added: 20\n"
     ]
    },
    {
     "name": "stderr",
     "output_type": "stream",
     "text": [
      "100%|██████████| 16/16 [00:04<00:00,  3.26it/s]\n"
     ]
    },
    {
     "name": "stdout",
     "output_type": "stream",
     "text": [
      "Micro-F1: 0.6891 ± 0.0112\n",
      "Macro-F1: 0.6833 ± 0.0101\n",
      "Combined Edges:\n"
     ]
    },
    {
     "name": "stderr",
     "output_type": "stream",
     "text": [
      "100%|██████████| 16/16 [00:04<00:00,  3.26it/s]"
     ]
    },
    {
     "name": "stdout",
     "output_type": "stream",
     "text": [
      "Micro-F1: 0.6944 ± 0.0051\n",
      "Macro-F1: 0.6864 ± 0.0030\n"
     ]
    },
    {
     "name": "stderr",
     "output_type": "stream",
     "text": [
      "\n"
     ]
    }
   ],
   "source": [
    "x=[] #alpha\n",
    "y1=[] # edge count added\n",
    "y2=[] #micro\n",
    "y3=[] #macro\n",
    "y4=[]# micro\n",
    "y5=[] # marcro\n",
    "for alpha in range(0,20):\n",
    "    alpha=alpha/20\n",
    "    xx,y1a,y2b,y3c,y4d,y5e=evalator(alpha)\n",
    "    x.append(xx)\n",
    "    y1.append(y1a)\n",
    "    y2.append(y2b)\n",
    "    y3.append(y3c)\n",
    "    y4.append(y4d)\n",
    "    y5.append(y5e)\n",
    "    "
   ]
  },
  {
   "cell_type": "code",
   "execution_count": 16,
   "metadata": {},
   "outputs": [
    {
     "data": {
      "text/plain": [
       "[<matplotlib.lines.Line2D at 0x7f5631b64a90>]"
      ]
     },
     "execution_count": 16,
     "metadata": {},
     "output_type": "execute_result"
    },
    {
     "data": {
      "image/png": "[encoded data removed]",
      "text/plain": [
       "<Figure size 640x480 with 1 Axes>"
      ]
     },
     "metadata": {},
     "output_type": "display_data"
    }
   ],
   "source": [
    "import matplotlib.pyplot as plt\n",
    "\n",
    "plt.plot(x,y3)\n"
   ]
  },
  {
   "cell_type": "code",
   "execution_count": 15,
   "metadata": {},
   "outputs": [
    {
     "name": "stdout",
     "output_type": "stream",
     "text": [
      "[0.23013685575820353, 0.3058997448580994, 0.6365327135994323, 0.7408792664582693, 0.6747344746834643, 0.678605048205073, 0.6679996878738909, 0.6834852051621385, 0.6832162272548552, 0.681835007241945]\n"
     ]
    }
   ],
   "source": [
    "print(y3)"
   ]
  },
  {
   "cell_type": "code",
   "execution_count": 29,
   "metadata": {},
   "outputs": [
    {
     "data": {
      "image/png": "[encoded data removed]",
      "text/plain": [
       "<Figure size 2000x500 with 3 Axes>"
      ]
     },
     "metadata": {},
     "output_type": "display_data"
    }
   ],
   "source": [
    "plt.figure(figsize=(20,5))\n",
    "\n",
    "plt.subplot(1,3,1)\n",
    "plt.plot(x,y1)\n",
    "plt.xlabel('alpha')\n",
    "plt.ylabel('new edges added')\n",
    "\n",
    "\n",
    "plt.subplot(1,3,2)\n",
    "plt.plot(x,y2,label=\"after fusion\",marker=\"o\",color=\"orange\")\n",
    "plt.plot(x,y4,label='before fusion',marker='o',color='blue')\n",
    "\n",
    "plt.xlabel('alpha')\n",
    "plt.ylabel('micro F1')\n",
    "plt.title('micro F1 across alpha')\n",
    "plt.legend()\n",
    "\n",
    "\n",
    "plt.subplot(1,3,3)\n",
    "plt.plot(x,y2,label=\"after fusion\",marker=\"o\",color=\"orange\")\n",
    "plt.plot(x,y4,label='before fusion',marker='o',color='blue')\n",
    "\n",
    "plt.xlabel('alpha')\n",
    "plt.ylabel('micro F1')\n",
    "plt.title('micro F1 across alpha')\n",
    "plt.legend()\n",
    "\n",
    "plt.show()\n",
    "\n"
   ]
  },
  {
   "cell_type": "code",
   "execution_count": null,
   "metadata": {},
   "outputs": [],
   "source": []
  }
 ],
 "metadata": {
  "kernelspec": {
   "display_name": "droneup",
   "language": "python",
   "name": "python3"
  },
  "language_info": {
   "codemirror_mode": {
    "name": "ipython",
    "version": 3
   },
   "file_extension": ".py",
   "mimetype": "text/x-python",
   "name": "python",
   "nbconvert_exporter": "python",
   "pygments_lexer": "ipython3",
   "version": "3.9.19"
  }
 },
 "nbformat": 4,
 "nbformat_minor": 2
}

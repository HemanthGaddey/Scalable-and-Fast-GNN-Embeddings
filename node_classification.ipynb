{
 "cells": [
  {
   "cell_type": "code",
   "execution_count": 1,
   "metadata": {},
   "outputs": [
    {
     "name": "stderr",
     "output_type": "stream",
     "text": [
      "/home/vamsi/miniconda3/envs/isl/lib/python3.9/site-packages/tqdm/auto.py:21: TqdmWarning: IProgress not found. Please update jupyter and ipywidgets. See https://ipywidgets.readthedocs.io/en/stable/user_install.html\n",
      "  from .autonotebook import tqdm as notebook_tqdm\n"
     ]
    }
   ],
   "source": [
    "import torch\n",
    "import torch.nn.functional as F\n",
    "from torch_geometric.datasets import Flickr, Coauthor, CoraFull, Planetoid\n",
    "from torch_geometric.nn import GCNConv\n",
    "from torch_geometric.loader import NeighborLoader\n",
    "from tqdm import tqdm\n",
    "import matplotlib.pyplot as plt\n",
    "import numpy as np\n",
    "import pandas as pd\n",
    "import os\n",
    "from tqdm import tqdm"
   ]
  },
  {
   "cell_type": "code",
   "execution_count": 6,
   "metadata": {},
   "outputs": [
    {
     "data": {
      "text/plain": [
       "<torch._C.Generator at 0x7f498a8aebf0>"
      ]
     },
     "execution_count": 6,
     "metadata": {},
     "output_type": "execute_result"
    }
   ],
   "source": [
    "np.random.seed(69420)\n",
    "torch.manual_seed(69420)"
   ]
  },
  {
   "cell_type": "code",
   "execution_count": 33,
   "metadata": {},
   "outputs": [],
   "source": [
    "# Load the Flickr dataset\n",
    "dataset = Planetoid(root='data/Planetoid', name='Cora')\n",
    "data = dataset[0]  # The dataset contains a single graph"
   ]
  },
  {
   "cell_type": "code",
   "execution_count": 34,
   "metadata": {},
   "outputs": [
    {
     "data": {
      "text/plain": [
       "Data(x=[2708, 1433], edge_index=[2, 10556], y=[2708], train_mask=[2708], val_mask=[2708], test_mask=[2708])"
      ]
     },
     "execution_count": 34,
     "metadata": {},
     "output_type": "execute_result"
    }
   ],
   "source": [
    "data"
   ]
  },
  {
   "cell_type": "code",
   "execution_count": 35,
   "metadata": {},
   "outputs": [],
   "source": [
    "def edge_index_to_adj(edge_index, num_nodes):\n",
    "    values = torch.ones(edge_index.shape[1])\n",
    "    adj_matrix = torch.sparse_coo_tensor(edge_index, values, (num_nodes, num_nodes))\n",
    "    return adj_matrix.to_dense()\n",
    "B = edge_index_to_adj(data.edge_index, len(data.x))"
   ]
  },
  {
   "cell_type": "code",
   "execution_count": 36,
   "metadata": {},
   "outputs": [
    {
     "data": {
      "text/plain": [
       "tensor(5278.)"
      ]
     },
     "execution_count": 36,
     "metadata": {},
     "output_type": "execute_result"
    }
   ],
   "source": [
    "torch.sum(B)/2 # Number of edges in adjacency matrix (incorrect becoz not counting self edges on diagonal)"
   ]
  },
  {
   "cell_type": "code",
   "execution_count": 87,
   "metadata": {},
   "outputs": [
    {
     "name": "stderr",
     "output_type": "stream",
     "text": [
      "/tmp/ipykernel_30102/3050583016.py:1: UserWarning: To copy construct from a tensor, it is recommended to use sourceTensor.clone().detach() or sourceTensor.clone().detach().requires_grad_(True), rather than torch.tensor(sourceTensor).\n",
      "  M = torch.tensor(data.x)\n"
     ]
    }
   ],
   "source": [
    "M = torch.tensor(data.x)\n",
    "M.to(torch.device('cuda'))\n",
    "A = (M@M.T)"
   ]
  },
  {
   "cell_type": "markdown",
   "metadata": {},
   "source": [
    "### Here we are only considering those dot products in A which are not there as edges in B (NOTE this if you are accounting edge weights from dot product!) Also remove all self dot products (NO SELF EDGES!!)"
   ]
  },
  {
   "cell_type": "code",
   "execution_count": 104,
   "metadata": {},
   "outputs": [
    {
     "data": {
      "text/plain": [
       "tensor([[0., 1., 1.,  ..., 1., 2., 2.],\n",
       "        [1., 0., 3.,  ..., 2., 1., 1.],\n",
       "        [1., 3., 0.,  ..., 2., 1., 1.],\n",
       "        ...,\n",
       "        [1., 2., 2.,  ..., 0., 0., 1.],\n",
       "        [2., 1., 1.,  ..., 0., 0., 2.],\n",
       "        [2., 1., 1.,  ..., 1., 2., 0.]])"
      ]
     },
     "execution_count": 104,
     "metadata": {},
     "output_type": "execute_result"
    }
   ],
   "source": [
    "#M = (B==0).long() * A * (torch.eye(len(A)) == 0).long()\n",
    "M = A * (torch.eye(len(A)) == 0).long()\n",
    "M"
   ]
  },
  {
   "cell_type": "code",
   "execution_count": 101,
   "metadata": {},
   "outputs": [
    {
     "data": {
      "text/plain": [
       "tensor(7249506.)"
      ]
     },
     "execution_count": 101,
     "metadata": {},
     "output_type": "execute_result"
    }
   ],
   "source": [
    "torch.sum((M<5).long()*M)"
   ]
  },
  {
   "cell_type": "code",
   "execution_count": null,
   "metadata": {},
   "outputs": [
    {
     "data": {
      "text/plain": [
       "(array([1.73232e+05, 4.83240e+04, 1.24680e+04, 0.00000e+00, 3.26400e+03,\n",
       "        9.44000e+02, 0.00000e+00, 2.66000e+02, 1.36000e+02, 0.00000e+00,\n",
       "        5.20000e+01, 3.80000e+01, 0.00000e+00, 1.60000e+01, 4.00000e+01,\n",
       "        0.00000e+00, 2.00000e+01, 1.60000e+01, 0.00000e+00, 1.40000e+01,\n",
       "        2.80000e+01, 0.00000e+00, 1.80000e+01, 1.80000e+01, 0.00000e+00,\n",
       "        1.80000e+01, 4.00000e+00, 0.00000e+00, 2.00000e+00, 1.20000e+01,\n",
       "        8.00000e+00]),\n",
       " array([ 4.        ,  4.67741919,  5.35483885,  6.03225803,  6.70967722,\n",
       "         7.38709688,  8.06451607,  8.74193573,  9.41935444, 10.0967741 ,\n",
       "        10.77419376, 11.45161247, 12.12903214, 12.8064518 , 13.48387051,\n",
       "        14.16129017, 14.83870983, 15.51612949, 16.1935482 , 16.87096786,\n",
       "        17.54838753, 18.22580719, 18.90322495, 19.58064461, 20.25806427,\n",
       "        20.93548393, 21.61290359, 22.29032326, 22.96774101, 23.64516068,\n",
       "        24.32258034, 25.        ]),\n",
       " <BarContainer object of 31 artists>)"
      ]
     },
     "execution_count": 69,
     "metadata": {},
     "output_type": "execute_result"
    },
    {
     "data": {
      "image/png": "[encoded data removed]",
      "text/plain": [
       "<Figure size 640x480 with 1 Axes>"
      ]
     },
     "metadata": {},
     "output_type": "display_data"
    }
   ],
   "source": [
    "alpha = 5\n",
    "beta = 7\n",
    "M = (M>alpha).long()*M\n",
    "plt.hist(M.reshape(-1)[M.reshape(-1)!=0],bins=31)"
   ]
  },
  {
   "cell_type": "code",
   "execution_count": 105,
   "metadata": {},
   "outputs": [
    {
     "data": {
      "text/plain": [
       "tensor(1332)"
      ]
     },
     "execution_count": 105,
     "metadata": {},
     "output_type": "execute_result"
    }
   ],
   "source": [
    "M = ((B*(M>5).long()*M)!=0).long()\n",
    "torch.sum(M)"
   ]
  },
  {
   "cell_type": "code",
   "execution_count": 106,
   "metadata": {},
   "outputs": [
    {
     "data": {
      "text/plain": [
       "(tensor(1332), 0.0005620962234552036)"
      ]
     },
     "execution_count": 106,
     "metadata": {},
     "output_type": "execute_result"
    }
   ],
   "source": [
    "# Boolianize\n",
    "M = (M!=0).long()\n",
    "torch.sum(M), 4122/(len(M)**2)"
   ]
  },
  {
   "cell_type": "code",
   "execution_count": 107,
   "metadata": {},
   "outputs": [
    {
     "data": {
      "text/plain": [
       "<matplotlib.image.AxesImage at 0x7f48bd6b0b50>"
      ]
     },
     "execution_count": 107,
     "metadata": {},
     "output_type": "execute_result"
    },
    {
     "data": {
      "image/png": "[encoded data removed]",
      "text/plain": [
       "<Figure size 960x720 with 1 Axes>"
      ]
     },
     "metadata": {},
     "output_type": "display_data"
    }
   ],
   "source": [
    "\n",
    "plt.figure(dpi=150) # Set DPI to 150 or more for higher resolution\n",
    "plt.imshow(M)"
   ]
  },
  {
   "cell_type": "code",
   "execution_count": 108,
   "metadata": {},
   "outputs": [
    {
     "data": {
      "text/plain": [
       "tensor(10556)"
      ]
     },
     "execution_count": 108,
     "metadata": {},
     "output_type": "execute_result"
    },
    {
     "data": {
      "image/png": "[encoded data removed]",
      "text/plain": [
       "<Figure size 640x480 with 1 Axes>"
      ]
     },
     "metadata": {},
     "output_type": "display_data"
    }
   ],
   "source": [
    "edges = data.edge_index\n",
    "\n",
    "# Determine the number of unique nodes\n",
    "num_nodes = torch.max(edges) + 1  # Maximum node ID + 1 (assuming 0-based indexing)\n",
    "\n",
    "# Initialize an adjacency matrix (symmetric, binary)\n",
    "adj_matrix = torch.zeros((num_nodes, num_nodes), dtype=torch.int)\n",
    "\n",
    "# Use advanced indexing to update the adjacency matrix\n",
    "i, j = edges\n",
    "adj_matrix[i, j] = 1\n",
    "adj_matrix[j, i] = 1  # For undirected graph\n",
    "\n",
    "# plt.figure(dpi=560)\n",
    "plt.imshow(adj_matrix)\n",
    "torch.sum(adj_matrix)"
   ]
  },
  {
   "cell_type": "code",
   "execution_count": 109,
   "metadata": {},
   "outputs": [
    {
     "name": "stdout",
     "output_type": "stream",
     "text": [
      "ADJ MATRIX: 10556\n",
      "ATTRIBUTE SIM MATRIX: 1332\n",
      "SUM: 11888\n",
      "Overlapping Edges: 0\n"
     ]
    }
   ],
   "source": [
    "print(f'ADJ MATRIX: {torch.sum(adj_matrix)}\\nATTRIBUTE SIM MATRIX: {torch.sum(M)}\\nSUM: {torch.sum(M+adj_matrix)}\\nOverlapping Edges: {(torch.sum(adj_matrix)+torch.sum(M))-torch.sum(M+adj_matrix)}')"
   ]
  },
  {
   "cell_type": "code",
   "execution_count": 110,
   "metadata": {},
   "outputs": [
    {
     "name": "stdout",
     "output_type": "stream",
     "text": [
      "tensor([[   0,    0,    0,  ..., 2707, 2707, 2707],\n",
      "        [ 633, 1862, 2582,  ...,  598, 1473, 2706]]) torch.Size([2, 9224])\n"
     ]
    }
   ],
   "source": [
    "final_matrix = adj_matrix+M\n",
    "i, j = torch.where(final_matrix == 1)\n",
    "edges = torch.stack((i, j), dim=0)\n",
    "print(edges, edges.shape)"
   ]
  },
  {
   "cell_type": "code",
   "execution_count": 111,
   "metadata": {},
   "outputs": [],
   "source": [
    "save_edges = lambda args: pd.DataFrame(args[0].T).to_csv(args[1],index=None, header=None, sep=' ', mode='a')\n",
    "def get_embeddings(\n",
    "    edges, \n",
    "    edges_name=\"edgelist.txt\", \n",
    "    k=128,  # Embedding dimension\n",
    "    a=0.01,  # damping parameter\n",
    "    partition=1,\n",
    "    output=False\n",
    "):\n",
    "    '''\n",
    "    \"partition\": the partition algorithm to use, default is 1.\n",
    "    0: random bisection\n",
    "    1: Louvain partition\n",
    "    2: Louvain first-level partition\n",
    "    3: Label Propagation partition\n",
    "    '''\n",
    "    save_edges((edges, edges_name))\n",
    "    \n",
    "    if not os.path.exists('./hierarchy.txt'):\n",
    "        os.mknod('./hierarchy.txt')\n",
    "    if not os.path.exists('./vectors.txt'):\n",
    "        os.mknod('./vectors.txt')\n",
    "    \n",
    "    endstr = '> /dev/null 2>&1'\n",
    "    if(output):\n",
    "        endstr = ''\n",
    "    os.system(f'./LouvainNE/recpart ./{edges_name} ./hierarchy.txt {partition} {endstr}')\n",
    "    os.system(f'./LouvainNE/hi2vec {k} {a} ./hierarchy.txt ./vectors.txt {endstr}')\n",
    "    \n",
    "    # Path to your text file\n",
    "    file_path = 'vectors.txt'\n",
    "\n",
    "\n",
    "    # Read the entire file at once using NumPy's loadtxt\n",
    "    data_ = np.loadtxt(file_path)\n",
    "\n",
    "    # Convert the data into a PyTorch tensor\n",
    "    data_tensor = torch.from_numpy(data_)\n",
    "\n",
    "    # The first column contains node IDs\n",
    "    node_ids = data_tensor[:, 0].to(torch.int)\n",
    "\n",
    "    # The remaining columns contain embeddings\n",
    "    embeddings = data_tensor[:, 1:]\n",
    "    \n",
    "    return node_ids, embeddings\n"
   ]
  },
  {
   "cell_type": "code",
   "execution_count": 112,
   "metadata": {},
   "outputs": [],
   "source": [
    "node_ids, embeddings = get_embeddings(edges)\n"
   ]
  },
  {
   "cell_type": "code",
   "execution_count": 113,
   "metadata": {},
   "outputs": [
    {
     "name": "stderr",
     "output_type": "stream",
     "text": [
      "/tmp/ipykernel_30102/4201394003.py:6: UserWarning: No artists with labels found to put in legend.  Note that artists whose label start with an underscore are ignored when legend() is called with no argument.\n",
      "  axs[0].legend()\n",
      "/tmp/ipykernel_30102/4201394003.py:11: UserWarning: No artists with labels found to put in legend.  Note that artists whose label start with an underscore are ignored when legend() is called with no argument.\n",
      "  axs[1].legend()\n",
      "/tmp/ipykernel_30102/4201394003.py:16: UserWarning: No artists with labels found to put in legend.  Note that artists whose label start with an underscore are ignored when legend() is called with no argument.\n",
      "  axs[2].legend()\n"
     ]
    },
    {
     "data": {
      "image/png": "[encoded data removed]",
      "text/plain": [
       "<Figure size 600x800 with 3 Axes>"
      ]
     },
     "metadata": {},
     "output_type": "display_data"
    },
    {
     "name": "stdout",
     "output_type": "stream",
     "text": [
      "% data used: tensor(0.6056)\n"
     ]
    }
   ],
   "source": [
    "fig, axs = plt.subplots(3, 1, figsize=(6, 8))\n",
    "\n",
    "# Plot the first graph\n",
    "axs[0].plot(data.train_mask.long())\n",
    "axs[0].set_title('train')\n",
    "axs[0].legend()\n",
    "\n",
    "# Plot the second graph\n",
    "axs[1].plot(data.val_mask.long())\n",
    "axs[1].set_title('val')\n",
    "axs[1].legend()\n",
    "\n",
    "# Plot the third graph\n",
    "axs[2].plot(data.test_mask.long())\n",
    "axs[2].set_title('test')\n",
    "axs[2].legend()\n",
    "\n",
    "# Adjust layout for better spacing\n",
    "plt.tight_layout()\n",
    "\n",
    "# Show the plots\n",
    "plt.show()\n",
    "#plt.plot(data.test_mask.long()+data.train_mask.long()+data.val_mask.long())\n",
    "print('% data used:', torch.sum(data.test_mask.long()+data.train_mask.long()+data.val_mask.long())/len(data.train_mask.long()))"
   ]
  },
  {
   "cell_type": "markdown",
   "metadata": {},
   "source": [
    "# Logistic Regression based Multilabel classification"
   ]
  },
  {
   "cell_type": "code",
   "execution_count": 114,
   "metadata": {},
   "outputs": [],
   "source": [
    "import numpy as np\n",
    "from sklearn.linear_model import LogisticRegression\n",
    "from sklearn.metrics import f1_score\n",
    "from sklearn.preprocessing import MultiLabelBinarizer\n",
    "import torch\n",
    "import numpy as np\n",
    "\n",
    "def evaluate_node_classification(node_ids, embeddings, data):\n",
    "    \"\"\"\n",
    "    Evaluate node classification using the provided embeddings\n",
    "    \n",
    "    Args:\n",
    "        node_ids: Array of node IDs\n",
    "        embeddings: Node embeddings corresponding to node_ids\n",
    "        data: PyTorch Geometric data object containing labels and masks\n",
    "    \"\"\"\n",
    "    # Create a mapping from node_id to its position in the embeddings array\n",
    "    node_to_idx = {node_id.item(): idx for idx, node_id in enumerate(node_ids)}\n",
    "    \n",
    "    # Get the embeddings in the same order as the labels\n",
    "    ordered_embeddings = np.zeros((len(data.y), embeddings.shape[1]))\n",
    "    for i in range(len(data.y)):\n",
    "        ordered_embeddings[i] = embeddings[node_to_idx[i]]\n",
    "    \n",
    "    # Convert masks to numpy for easier handling\n",
    "    train_mask = data.train_mask.numpy()\n",
    "    test_mask = data.test_mask.numpy()\n",
    "    \n",
    "    # Get train and test sets\n",
    "    X_train = ordered_embeddings[train_mask]\n",
    "    X_test = ordered_embeddings[test_mask]\n",
    "    y_train = data.y[train_mask].numpy()\n",
    "    y_test = data.y[test_mask].numpy()\n",
    "    \n",
    "    # Train logistic regression classifier\n",
    "    clf = LogisticRegression(max_iter=1000, multi_class='multinomial')\n",
    "    clf.fit(X_train, y_train)\n",
    "    \n",
    "    # Make predictions\n",
    "    y_pred = clf.predict(X_test)\n",
    "    \n",
    "    # Calculate metrics\n",
    "    micro_f1 = f1_score(y_test, y_pred, average='micro')\n",
    "    macro_f1 = f1_score(y_test, y_pred, average='macro')\n",
    "    \n",
    "    return {\n",
    "        'micro_f1': micro_f1,\n",
    "        'macro_f1': macro_f1\n",
    "    }\n",
    "\n",
    "# Example usage\n",
    "# Assuming your data is already loaded\n",
    "def print_results_llml(node_ids, embeddings, data, print=True):\n",
    "    results = evaluate_node_classification(node_ids, embeddings, data)\n",
    "    if(print):\n",
    "        print(\"\\nNode Classification Results:\")\n",
    "        print(f\"Micro-F1: {results['micro_f1']:.4f}\")\n",
    "        print(f\"Macro-F1: {results['macro_f1']:.4f}\")\n",
    "    \n",
    "    return results['micro_f1'], results['macro_f1']"
   ]
  },
  {
   "cell_type": "markdown",
   "metadata": {},
   "source": [
    "# Logistic Regression & Classifier Chain based Multilabel classification"
   ]
  },
  {
   "cell_type": "code",
   "execution_count": 115,
   "metadata": {},
   "outputs": [],
   "source": [
    "import numpy as np\n",
    "from sklearn.linear_model import LogisticRegression\n",
    "from sklearn.metrics import f1_score\n",
    "from sklearn.multioutput import ClassifierChain\n",
    "from sklearn.preprocessing import MultiLabelBinarizer\n",
    "import torch\n",
    "import numpy as np\n",
    "\n",
    "def evaluate_node_classification(node_ids, embeddings, data):\n",
    "    \"\"\"\n",
    "    Evaluate node classification using classifier chains\n",
    "    \n",
    "    Args:\n",
    "        node_ids: Array of node IDs\n",
    "        embeddings: Node embeddings corresponding to node_ids\n",
    "        data: PyTorch Geometric data object containing labels and masks\n",
    "    \"\"\"\n",
    "    # Create a mapping from node_id to its position in the embeddings array\n",
    "    node_to_idx = {node_id.item(): idx for idx, node_id in enumerate(node_ids)}\n",
    "    \n",
    "    # Get the embeddings in the same order as the labels\n",
    "    ordered_embeddings = np.zeros((len(data.y), embeddings.shape[1]))\n",
    "    for i in range(len(data.y)):\n",
    "        ordered_embeddings[i] = embeddings[node_to_idx[i]]\n",
    "    \n",
    "    # Convert masks to numpy for easier handling\n",
    "    train_mask = data.train_mask.numpy()\n",
    "    test_mask = data.test_mask.numpy()\n",
    "    \n",
    "    # Get train and test sets\n",
    "    X_train = ordered_embeddings[train_mask]\n",
    "    X_test = ordered_embeddings[test_mask]\n",
    "    \n",
    "    # Convert labels to one-hot encoding for multi-label classification\n",
    "    num_classes = len(torch.unique(data.y))\n",
    "    y_one_hot = np.zeros((len(data.y), num_classes))\n",
    "    for i in range(len(data.y)):\n",
    "        y_one_hot[i, data.y[i]] = 1\n",
    "    \n",
    "    y_train = y_one_hot[train_mask]\n",
    "    y_test = y_one_hot[test_mask]\n",
    "    \n",
    "    # Initialize and train classifier chain\n",
    "    base_classifier = LogisticRegression(max_iter=1000)\n",
    "    chains = ClassifierChain(base_classifier, order='random', random_state=42)\n",
    "    chains.fit(X_train, y_train)\n",
    "    \n",
    "    # Make predictions\n",
    "    y_pred = chains.predict(X_test)\n",
    "    \n",
    "    # Calculate metrics\n",
    "    micro_f1 = f1_score(y_test, y_pred, average='micro')\n",
    "    macro_f1 = f1_score(y_test, y_pred, average='macro')\n",
    "    \n",
    "    return {\n",
    "        'micro_f1': micro_f1,\n",
    "        'macro_f1': macro_f1\n",
    "    }\n",
    "\n",
    "def print_results_clschain(node_ids, embeddings, data, print=True):\n",
    "    \"\"\"Run multiple iterations and print averaged results\"\"\"\n",
    "    num_iterations = 100  # As mentioned in the paper\n",
    "    micro_f1_scores = []\n",
    "    macro_f1_scores = []\n",
    "    \n",
    "    for i in range(num_iterations):\n",
    "        results = evaluate_node_classification(node_ids, embeddings, data)\n",
    "        micro_f1_scores.append(results['micro_f1'])\n",
    "        macro_f1_scores.append(results['macro_f1'])\n",
    "    \n",
    "    avg_micro_f1 = np.mean(micro_f1_scores)\n",
    "    avg_macro_f1 = np.mean(macro_f1_scores)\n",
    "    std_micro_f1 = np.std(micro_f1_scores)\n",
    "    std_macro_f1 = np.std(macro_f1_scores)\n",
    "    \n",
    "    if(print):\n",
    "        print(\"\\nNode Classification Results (averaged over 100 iterations):\")\n",
    "        print(f\"Micro-F1: {avg_micro_f1:.4f} ± {std_micro_f1:.4f}\")\n",
    "        print(f\"Macro-F1: {avg_macro_f1:.4f} ± {std_macro_f1:.4f}\")\n",
    "    \n",
    "    return avg_micro_f1,std_micro_f1,avg_macro_f1,std_macro_f1"
   ]
  },
  {
   "cell_type": "code",
   "execution_count": null,
   "metadata": {},
   "outputs": [],
   "source": []
  },
  {
   "cell_type": "code",
   "execution_count": 118,
   "metadata": {},
   "outputs": [
    {
     "name": "stdout",
     "output_type": "stream",
     "text": [
      "Only Initial Edges:\n"
     ]
    },
    {
     "name": "stderr",
     "output_type": "stream",
     "text": [
      "100%|██████████| 256/256 [21:15<00:00,  4.98s/it]\n"
     ]
    },
    {
     "name": "stdout",
     "output_type": "stream",
     "text": [
      "Micro-F1: 0.7251 ± 0.0105\n",
      "Macro-F1: 0.7142 ± 0.0082\n",
      "Only Attribute Edges:\n"
     ]
    },
    {
     "name": "stderr",
     "output_type": "stream",
     "text": [
      "100%|██████████| 256/256 [22:28<00:00,  5.27s/it]\n"
     ]
    },
    {
     "name": "stdout",
     "output_type": "stream",
     "text": [
      "Micro-F1: 0.7130 ± 0.0133\n",
      "Macro-F1: 0.7043 ± 0.0123\n",
      "Combined Edges:\n"
     ]
    },
    {
     "name": "stderr",
     "output_type": "stream",
     "text": [
      "100%|██████████| 256/256 [23:55<00:00,  5.61s/it]"
     ]
    },
    {
     "name": "stdout",
     "output_type": "stream",
     "text": [
      "Micro-F1: 0.6991 ± 0.0156\n",
      "Macro-F1: 0.6892 ± 0.0131\n"
     ]
    },
    {
     "name": "stderr",
     "output_type": "stream",
     "text": [
      "\n"
     ]
    }
   ],
   "source": [
    "final_matrix = adj_matrix\n",
    "i, j = torch.where(final_matrix == 1)\n",
    "edges = torch.stack((i, j), dim=0)\n",
    "\n",
    "print('Only Initial Edges:')\n",
    "a = []\n",
    "b = []\n",
    "for i in tqdm(range(256)):\n",
    "    aa_node_ids, aa_embeddings = get_embeddings(edges, \"attrubute_added_edgelist.txt\", k=128, partition=1)\n",
    "    c,d = print_results_llml(aa_node_ids, aa_embeddings, data, print=False)\n",
    "    a.append(c)\n",
    "    b.append(d)\n",
    "\n",
    "print(f\"Micro-F1: {np.mean(a):.4f} ± {np.std(a):.4f}\")\n",
    "print(f\"Macro-F1: {np.mean(b):.4f} ± {np.std(b):.4f}\")\n",
    "\n",
    "final_matrix = M\n",
    "i, j = torch.where(final_matrix == 1)\n",
    "edges = torch.stack((i, j), dim=0)\n",
    "\n",
    "print('Only Attribute Edges:')\n",
    "a = []\n",
    "b = []\n",
    "for i in tqdm(range(256)):\n",
    "    aa_node_ids, aa_embeddings = get_embeddings(edges, \"attrubute_added_edgelist.txt\", k=128, partition=1)\n",
    "    c,d = print_results_llml(aa_node_ids, aa_embeddings, data, print=False) \n",
    "    a.append(c)\n",
    "    b.append(d)\n",
    "\n",
    "print(f\"Micro-F1: {np.mean(a):.4f} ± {np.std(a):.4f}\")\n",
    "print(f\"Macro-F1: {np.mean(b):.4f} ± {np.std(b):.4f}\")\n",
    "\n",
    "final_matrix = adj_matrix+M\n",
    "i, j = torch.where(final_matrix == 1)\n",
    "edges = torch.stack((i, j), dim=0)\n",
    "\n",
    "print('Combined Edges:')\n",
    "a = []\n",
    "b = []\n",
    "for i in tqdm(range(256)):\n",
    "    aa_node_ids, aa_embeddings = get_embeddings(edges, \"attrubute_added_edgelist.txt\", k=128, partition=1)\n",
    "    c,d = print_results_llml(aa_node_ids, aa_embeddings, data, print=False)\n",
    "    a.append(c)\n",
    "    b.append(d)\n",
    "\n",
    "print(f\"Micro-F1: {np.mean(a):.4f} ± {np.std(a):.4f}\")\n",
    "print(f\"Macro-F1: {np.mean(b):.4f} ± {np.std(b):.4f}\")"
   ]
  },
  {
   "cell_type": "markdown",
   "metadata": {},
   "source": [
    "# GCN Stuff"
   ]
  },
  {
   "cell_type": "code",
   "execution_count": null,
   "metadata": {},
   "outputs": [],
   "source": [
    "\n",
    "# Define a simple Graph Convolutional Network (GCN)\n",
    "class GCN(torch.nn.Module):\n",
    "    def __init__(self, in_channels, hidden_channels, out_channels):\n",
    "        super(GCN, self).__init__()\n",
    "        self.conv1 = GCNConv(in_channels, hidden_channels)\n",
    "        self.conv2 = GCNConv(hidden_channels, out_channels)\n",
    "\n",
    "    def forward(self, x, edge_index):\n",
    "        x = self.conv1(x, edge_index)\n",
    "        x = F.relu(x)\n",
    "        x = self.conv2(x, edge_index)\n",
    "        return F.log_softmax(x, dim=1)\n",
    "\n",
    "# Initialize the model, optimizer, and loss function\n",
    "model = GCN(in_channels=data.num_features, hidden_channels=64, out_channels=dataset.num_classes)\n",
    "optimizer = torch.optim.Adam(model.parameters(), lr=0.01, weight_decay=5e-4)\n",
    "loss_fn = torch.nn.NLLLoss()\n",
    "\n",
    "# Split the dataset into train, validation, and test sets\n",
    "train_mask, val_mask, test_mask = data.train_mask, data.val_mask, data.test_mask\n",
    "\n",
    "# Training loop\n",
    "def train():\n",
    "    model.train()\n",
    "    optimizer.zero_grad()\n",
    "    out = model(data.x, data.edge_index)\n",
    "    loss = loss_fn(out[train_mask], data.y[train_mask])\n",
    "    loss.backward()\n",
    "    optimizer.step()\n",
    "    return loss.item()\n",
    "\n",
    "# Evaluation function\n",
    "def evaluate(mask):\n",
    "    model.eval()\n",
    "    with torch.no_grad():\n",
    "        out = model(data.x, data.edge_index)\n",
    "        pred = out.argmax(dim=1)\n",
    "        correct = (pred[mask] == data.y[mask]).sum()\n",
    "        acc = correct / mask.sum()\n",
    "    return acc.item()\n",
    "\n",
    "# Train the model\n",
    "for epoch in range(200):\n",
    "    loss = train()\n",
    "    if epoch % 20 == 0:\n",
    "        val_acc = evaluate(val_mask)\n",
    "        print(f'Epoch {epoch}, Loss: {loss:.4f}, Val Accuracy: {val_acc:.4f}')\n",
    "\n",
    "# Test the model\n",
    "test_acc = evaluate(test_mask)\n",
    "print(f'Test Accuracy: {test_acc:.4f}')\n"
   ]
  },
  {
   "cell_type": "code",
   "execution_count": 109,
   "metadata": {},
   "outputs": [
    {
     "name": "stdout",
     "output_type": "stream",
     "text": [
      "LouvainNE\n",
      "data\n",
      "edgelist.txt\n",
      "hierarchy.txt\n",
      "node_classification copy.ipynb\n",
      "node_classification.ipynb\n",
      "vectors.txt\n"
     ]
    },
    {
     "data": {
      "text/plain": [
       "0"
      ]
     },
     "execution_count": 109,
     "metadata": {},
     "output_type": "execute_result"
    }
   ],
   "source": [
    "\n",
    "os.system('ls')"
   ]
  },
  {
   "cell_type": "code",
   "execution_count": 89,
   "metadata": {},
   "outputs": [
    {
     "name": "stdout",
     "output_type": "stream",
     "text": [
      "Cloning into 'LouvainNE'...\n",
      "remote: Enumerating objects: 217, done.\u001b[K\n",
      "remote: Counting objects: 100% (9/9), done.\u001b[K\n",
      "remote: Compressing objects: 100% (7/7), done.\u001b[K\n",
      "remote: Total 217 (delta 2), reused 9 (delta 2), pack-reused 208 (from 1)\u001b[K\n",
      "Receiving objects: 100% (217/217), 65.80 KiB | 863.00 KiB/s, done.\n",
      "Resolving deltas: 100% (125/125), done.\n"
     ]
    }
   ],
   "source": [
    "!git clone https://github.com/maxdan94/LouvainNE.git"
   ]
  }
 ],
 "metadata": {
  "kernelspec": {
   "display_name": "isl",
   "language": "python",
   "name": "python3"
  },
  "language_info": {
   "codemirror_mode": {
    "name": "ipython",
    "version": 3
   },
   "file_extension": ".py",
   "mimetype": "text/x-python",
   "name": "python",
   "nbconvert_exporter": "python",
   "pygments_lexer": "ipython3",
   "version": "undefined.undefined.undefined"
  }
 },
 "nbformat": 4,
 "nbformat_minor": 2
}
